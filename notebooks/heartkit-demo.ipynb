{
 "cells": [
  {
   "cell_type": "code",
   "execution_count": null,
   "metadata": {},
   "outputs": [],
   "source": [
    "import os; os.environ['TF_CPP_MIN_LOG_LEVEL'] = '3' \n",
    "import random\n",
    "import numpy as np\n",
    "import tensorflow as tf\n",
    "import tensorflow_addons as tfa # Need to import since imported models use addons\n",
    "import neurokit2 as nk\n",
    "from heartkit.defines import HeartTask, HeartSegment, HeartBeat\n",
    "from heartkit.datasets import IcentiaDataset\n",
    "from heartkit.datasets.preprocess import preprocess_signal\n",
    "from heartkit.hrv import compute_hrv\n",
    "from neuralspot.tflite.model import get_strategy, load_model\n",
    "\n",
    "import plotly.figure_factory as ff\n",
    "import plotly.graph_objects as go\n",
    "from plotly.subplots import make_subplots\n",
    "\n",
    "physical_devices = tf.config.list_physical_devices('GPU')\n",
    "try:\n",
    "  tf.config.experimental.set_memory_growth(physical_devices[0], True)\n",
    "except:\n",
    "  pass\n"
   ]
  },
  {
   "cell_type": "code",
   "execution_count": null,
   "metadata": {},
   "outputs": [],
   "source": [
    "ds_path = \"../datasets\"\n",
    "plotly_template = \"plotly_dark\"  # plotly\n",
    "frame_size = 624\n",
    "arrhythmia_frame_size = 1000\n",
    "arrhythmia_threshold = 0.75\n",
    "qrs_threshold = 0.7\n",
    "sampling_rate = 250\n",
    "data_len = 10 * sampling_rate\n",
    "seg_len = 624\n",
    "seg_olp = 25\n",
    "arr_len = 1000\n",
    "beat_len = 200\n",
    "\n",
    "results = dict(heart_rate=0, num_beats=0, num_pac=0, num_pvc=0, rhythm=False, arrhythmia=False)\n"
   ]
  },
  {
   "attachments": {},
   "cell_type": "markdown",
   "metadata": {},
   "source": [
    "### Load models "
   ]
  },
  {
   "cell_type": "code",
   "execution_count": null,
   "metadata": {},
   "outputs": [],
   "source": [
    "seg_model = load_model(\"../results/segmentation/model.tf\")\n",
    "arr_model = load_model(\"../results/arrhythmia/model.tf\")\n",
    "beat_model = load_model(\"../results/beat/model.tf\")"
   ]
  },
  {
   "attachments": {},
   "cell_type": "markdown",
   "metadata": {},
   "source": [
    "### Load sample data"
   ]
  },
  {
   "cell_type": "code",
   "execution_count": null,
   "metadata": {},
   "outputs": [],
   "source": [
    "with tf.device('/CPU:0'):\n",
    "    ds_icdb = IcentiaDataset(\n",
    "        ds_path=ds_path,\n",
    "        task=HeartTask.arrhythmia,\n",
    "        frame_size=frame_size,\n",
    "        target_rate=250,\n",
    "    )"
   ]
  },
  {
   "cell_type": "code",
   "execution_count": null,
   "metadata": {},
   "outputs": [],
   "source": [
    "pt_gen = ds_icdb.uniform_patient_generator(patient_ids=ds_icdb.get_test_patient_ids(), repeat=False, shuffle=True)\n",
    "data = None\n",
    "true_arr_labels = None\n",
    "for pt, segments in pt_gen:\n",
    "    seg_key = random.choice(list(segments.keys()))\n",
    "    frame_start = random.randint(5*sampling_rate, segments[seg_key][\"data\"].size - 2*data_len)\n",
    "    frame_end = frame_start + data_len\n",
    "    data = segments[seg_key][\"data\"][frame_start:frame_end]\n",
    "    true_blabels = segments[seg_key][\"blabels\"][:]\n",
    "    break\n",
    "data = preprocess_signal(data=data, sample_rate=sampling_rate)"
   ]
  },
  {
   "attachments": {},
   "cell_type": "markdown",
   "metadata": {},
   "source": [
    "### Plot ECG data"
   ]
  },
  {
   "cell_type": "code",
   "execution_count": null,
   "metadata": {},
   "outputs": [],
   "source": [
    "fig = go.Figure()\n",
    "t = np.linspace(0, data.shape[0]/250, data.shape[0], endpoint=False)\n",
    "fig.add_trace(go.Scatter(x=t, y=data.squeeze()))\n",
    "fig.update_layout(template=plotly_template, height=480)\n",
    "fig.show()"
   ]
  },
  {
   "attachments": {},
   "cell_type": "markdown",
   "metadata": {},
   "source": [
    "### Apply arrhythmia model"
   ]
  },
  {
   "cell_type": "code",
   "execution_count": null,
   "metadata": {},
   "outputs": [],
   "source": [
    "arr_labels = np.zeros((data_len,))\n",
    "for i in range(0, data_len - arr_len + 1, arr_len):    \n",
    "    test_x = np.expand_dims(data[i : i + arr_len], axis=(0,1))\n",
    "    y_prob = tf.nn.softmax(arr_model.predict(test_x)).numpy()\n",
    "    y_pred = 1 if y_prob[0][1] > arrhythmia_threshold else 0\n",
    "    arr_labels[i : i + arr_len] = y_pred\n",
    "    print(f\"{i} : {i + arr_len} = {y_pred} ({y_prob[0][1]:0.1%})\")\n",
    "# END FOR\n",
    "\n",
    "arrhythmia_detected = np.any(arr_labels)\n",
    "results[\"arrhythmia\"] = arrhythmia_detected\n",
    "if arrhythmia_detected:\n",
    "    print(\"Arrhythmia onset detected\")\n",
    "else:\n",
    "     print(\"No arrhythmia detected\")"
   ]
  },
  {
   "attachments": {},
   "cell_type": "markdown",
   "metadata": {},
   "source": [
    "### Apply segmentation model"
   ]
  },
  {
   "cell_type": "code",
   "execution_count": null,
   "metadata": {},
   "outputs": [],
   "source": [
    "seg_mask = np.zeros((data_len,))\n",
    "qrs_mask = np.zeros((data_len,))\n",
    "for i in range(0, data_len - seg_len + 1, seg_len - 2 * seg_olp):\n",
    "    test_x = np.expand_dims(data[i : i + seg_len], axis=(0, 1))\n",
    "    y_prob = tf.nn.softmax(seg_model.predict(test_x)).numpy()\n",
    "    y_pred = np.argmax(y_prob, axis=2)\n",
    "    seg_mask[i + seg_olp : i + seg_len - seg_olp] = y_pred[0, seg_olp:-seg_olp]\n",
    "    qrs_mask[i + seg_olp : i + seg_len - seg_olp] = np.where(y_prob[0, seg_olp:-seg_olp, 2] > qrs_threshold, 1, 0)\n",
    "    print(f\"{i}:{i + seg_len}\")\n",
    "# END FOR\n",
    "if (data_len-seg_olp)-i:\n",
    "    test_x = np.expand_dims(data[-seg_len:], axis=(0, 1))\n",
    "    y_prob = tf.nn.softmax(seg_model.predict(test_x)).numpy()\n",
    "    y_pred = np.argmax(y_prob, axis=2)\n",
    "    seg_mask[-seg_len:-seg_olp] = y_pred[0, -seg_len:-seg_olp]\n",
    "    qrs_mask[-seg_len:-seg_olp] =  np.where(y_prob[0, -seg_len:-seg_olp, 2] > qrs_threshold, 1, 0)\n"
   ]
  },
  {
   "attachments": {},
   "cell_type": "markdown",
   "metadata": {},
   "source": [
    "### Apply HRV"
   ]
  },
  {
   "cell_type": "code",
   "execution_count": null,
   "metadata": {},
   "outputs": [],
   "source": [
    "hr, rr_lens, rpeaks = compute_hrv(data, qrs_mask, sampling_rate)\n",
    "avg_rr = int(sampling_rate/(hr/60))\n",
    "results[\"heart_rate\"] = hr\n",
    "results[\"num_beats\"] = len(rpeaks)\n",
    "results[\"rhythm\"] = \"bradycardia\" if hr < 60 else \"normal\" if hr <= 100 else \"tachycardia\" "
   ]
  },
  {
   "attachments": {},
   "cell_type": "markdown",
   "metadata": {},
   "source": [
    "### Apply beat model"
   ]
  },
  {
   "cell_type": "code",
   "execution_count": null,
   "metadata": {},
   "outputs": [],
   "source": [
    "blabels = np.zeros_like(rpeaks)\n",
    "for i in range(1, len(rpeaks) - 1):\n",
    "    frame_start = rpeaks[i] - int(0.5 * beat_len)\n",
    "    frame_end = frame_start + beat_len\n",
    "    if frame_start - avg_rr < 0 or frame_end + avg_rr >= data.shape[0]:\n",
    "        continue\n",
    "    test_x = np.hstack((\n",
    "        data[frame_start - avg_rr: frame_end - avg_rr],\n",
    "        data[frame_start : frame_end],\n",
    "        data[frame_start + avg_rr: frame_end + avg_rr],\n",
    "    ))\n",
    "    test_x = np.expand_dims(test_x, axis=(0, 1))\n",
    "    y_prob = tf.nn.softmax(beat_model.predict(test_x)).numpy()\n",
    "    y_pred = np.argmax(y_prob, axis=1)\n",
    "    blabels[i] = y_pred[0]\n",
    "results[\"num_pac\"] = len(np.where(blabels == HeartBeat.pac)[0])\n",
    "results[\"num_pvc\"] = len(np.where(blabels == HeartBeat.pvc)[0])"
   ]
  },
  {
   "cell_type": "code",
   "execution_count": null,
   "metadata": {},
   "outputs": [],
   "source": [
    "results"
   ]
  },
  {
   "cell_type": "code",
   "execution_count": null,
   "metadata": {},
   "outputs": [],
   "source": [
    "fig = make_subplots(\n",
    "    rows=2, cols=2, column_widths=[3, 1], horizontal_spacing=0.05, vertical_spacing=0.05,\n",
    "    specs=[[{\"rowspan\": 2}, {\"type\": \"table\"}], [None, {}]],\n",
    "    subplot_titles=[None, None, \"R-R Distribution\"]\n",
    ")\n",
    "\n",
    "# 1. Plot ECG data with colored segments \n",
    "t = np.linspace(0, data.shape[0]/sampling_rate, data.shape[0], endpoint=False)\n",
    "pwave = np.where(seg_mask == HeartSegment.pwave, data.squeeze(), np.NAN)\n",
    "qrs = np.where(seg_mask == HeartSegment.qrs, data.squeeze(), np.NAN)\n",
    "twave = np.where(seg_mask == HeartSegment.twave, data.squeeze(), np.NAN)\n",
    "norm = np.where(seg_mask == HeartSegment.normal, data.squeeze(), np.NAN)\n",
    "fig.add_trace(go.Scatter(x=t, y=data.squeeze(), name='ECG'), row=1, col=1)\n",
    "fig.add_trace(go.Scatter(x=t, y=pwave, name='P wave'), row=1, col=1)\n",
    "fig.add_trace(go.Scatter(x=t, y=qrs, name='QRS'), row=1, col=1)\n",
    "fig.add_trace(go.Scatter(x=t, y=twave, name='T Wave'), row=1, col=1)\n",
    "fig.update_xaxes(title_text=\"Time (sec)\", row=1, col=1)\n",
    "\n",
    "for i in range(len(rpeaks)):\n",
    "    if blabels[i] != HeartBeat.normal:\n",
    "        label = \"PAC\" if blabels[i] == HeartBeat.pac else \"PVC\"\n",
    "        fig.add_vline(x=rpeaks[i]/sampling_rate, line_color=\"red\", annotation_text=label, annotation_font_color=\"red\", annotation_textangle = 90, row=1, col=1)\n",
    "\n",
    "# 2. Table\n",
    "header = ['Metric', 'Value']\n",
    "cells = [[\n",
    "        \"Heart Rate\", \n",
    "        \"Heart Rhythm\",\n",
    "        \"Total Beats\",        \n",
    "        \"Normal Beats\", \n",
    "        \"PAC Beats\", \n",
    "        \"PVC Beats\", \n",
    "        \"Arrhythmia\"],\n",
    "    [\n",
    "        f'{results[\"heart_rate\"]:0.0f} BPM', \n",
    "        results[\"rhythm\"],\n",
    "        results[\"num_beats\"], \n",
    "        results[\"num_beats\"]-(results[\"num_pac\"] + results[\"num_pvc\"]), \n",
    "        results[\"num_pac\"], results[\"num_pvc\"], \n",
    "        \"Onset detected\" if results[\"arrhythmia\"] else \"Not detected\"],\n",
    "]\n",
    "fig.add_trace(go.Table(\n",
    "    header=dict(values=header, height=40, font_size=16, align='left'),\n",
    "    cells=dict(values=cells, height=30, font_size=14, align='left')\n",
    "), row=1, col=2) \n",
    "\n",
    "# 3. Plot Poincare\n",
    "dist_fig = ff.create_distplot([1000*rr_lens], ['R Peaks'], bin_size=10, show_rug=False, colors=['#835AF1'])\n",
    "for trace in dist_fig.select_traces():\n",
    "    fig.add_trace(trace, row=2, col=2)\n",
    "fig.update_xaxes(title_text=\"Time (ms)\", row=2, col=2)\n",
    "\n",
    "fig.update_layout(\n",
    "    template='plotly_dark', \n",
    "    height=720, \n",
    "    title_text=\"HeartKit Summary\", \n",
    "    title_font_size=20,\n",
    "    legend_orientation=\"h\",\n",
    "    margin=dict(l=40, r=40, t=60, b=30),\n",
    ")\n",
    "fig.write_html(\"../results/report.html\")\n",
    "fig.show()"
   ]
  },
  {
   "cell_type": "code",
   "execution_count": null,
   "metadata": {},
   "outputs": [],
   "source": [
    "fig = go.Figure()\n",
    "fig.update_layout(template=plotly_template, height=480)\n",
    "t = np.arange(beat_len)\n",
    "for i in range(len(rpeaks)):\n",
    "    frame_start = rpeaks[i] - int(0.5 * beat_len)\n",
    "    frame_end = frame_start + beat_len\n",
    "    fig.add_trace(go.Scatter(x=t, y=data[frame_start:frame_end].squeeze(), name=f\"Beat {i+1}\"))\n",
    "fig.show()"
   ]
  },
  {
   "cell_type": "code",
   "execution_count": null,
   "metadata": {},
   "outputs": [],
   "source": [
    "# fig, ax = plt.subplots(figsize=(12, 5), layout=\"constrained\")\n",
    "# for i in range(len(rpeaks)):\n",
    "#     frame_start = rpeaks[i] - int(0.5 * beat_len)\n",
    "#     frame_end = frame_start + beat_len\n",
    "#     ax.plot(data[frame_start:frame_end])"
   ]
  },
  {
   "cell_type": "code",
   "execution_count": null,
   "metadata": {},
   "outputs": [],
   "source": [
    "# color_map = {HeartBeat.normal: 'gray', HeartBeat.pac: 'purple', HeartBeat.pvc: 'red'}\n",
    "\n",
    "# fig, ax = plt.subplots(figsize=(12, 5), layout=\"constrained\")\n",
    "# # ax.plot(rpeaks, data[rpeaks], '*', color='black')\n",
    "# for i in range(len(rpeaks)):\n",
    "#     c = color_map.get(blabels[i], 'black')\n",
    "#     ax.axvline(x=rpeaks[i], color=c)\n",
    "# plot_segmentations(data, preds=seg_mask, fig=fig, ax=ax)\n",
    "# ax.set_xlim(40, 4500)\n",
    "# ax.autoscale(enable=True, axis=\"y\")\n",
    "# ax.set_title(f\"HR={hr:0.0f} bpm | RR={1000*avg_rr/sampling_rate:0.0f} ms\")"
   ]
  },
  {
   "cell_type": "code",
   "execution_count": null,
   "metadata": {},
   "outputs": [],
   "source": [
    "#rpeaks, info = nk.ecg_peaks(data.squeeze(), sampling_rate=sampling_rate)\n",
    "nk.hrv_time(rpeaks, sampling_rate=sampling_rate, show=True)\n",
    "nk.hrv_nonlinear(rpeaks, sampling_rate=sampling_rate, show=True)\n",
    "# ecg_rates = nk.ecg_rate(rpeaks, sampling_rate=sampling_rate, desired_length=len(data))\n",
    "# edr = nk.ecg_rsp(ecg_rates, sampling_rate=sampling_rate)\n",
    "# nk.signal_plot(edr)"
   ]
  },
  {
   "cell_type": "code",
   "execution_count": null,
   "metadata": {},
   "outputs": [],
   "source": [
    "seg_win = seg_len+2*seg_olp\n",
    "data_win = data_len/(seg_win)\n",
    "num_steps = np.ceil(data_len/data_win)\n",
    "seg_olp2 = data_len/num_steps\n",
    "print(seg_win, data_win, num_steps, seg_olp2)"
   ]
  },
  {
   "cell_type": "code",
   "execution_count": null,
   "metadata": {},
   "outputs": [],
   "source": [
    "num_steps"
   ]
  },
  {
   "cell_type": "code",
   "execution_count": null,
   "metadata": {},
   "outputs": [],
   "source": [
    "data_len"
   ]
  },
  {
   "cell_type": "code",
   "execution_count": null,
   "metadata": {},
   "outputs": [],
   "source": [
    "for i in range(0, data_len/4):\n",
    "    sx = \n",
    "    ex = sx + seg_len + seg_olp"
   ]
  }
 ],
 "metadata": {
  "kernelspec": {
   "display_name": ".venv",
   "language": "python",
   "name": "python3"
  },
  "language_info": {
   "codemirror_mode": {
    "name": "ipython",
    "version": 3
   },
   "file_extension": ".py",
   "mimetype": "text/x-python",
   "name": "python",
   "nbconvert_exporter": "python",
   "pygments_lexer": "ipython3",
   "version": "3.10.10"
  },
  "orig_nbformat": 4,
  "vscode": {
   "interpreter": {
    "hash": "cfd49d026f98c29f3b4c9da65e96d3cc6268fd625994d3d5fddc7478a66c29e0"
   }
  }
 },
 "nbformat": 4,
 "nbformat_minor": 2
}
