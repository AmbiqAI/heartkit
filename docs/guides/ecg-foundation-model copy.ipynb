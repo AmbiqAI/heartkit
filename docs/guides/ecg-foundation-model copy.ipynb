{
 "cells": [
  {
   "cell_type": "markdown",
   "metadata": {},
   "source": [
    "# ECG Foundation Model\n",
    "\n",
    "__Date created:__ 2024/07/17 \n",
    "\n",
    "__Last Modified:__ 2024/07/17 \n",
    "\n",
    "__Description:__ Train, evaluate, and export 4-stage ECG arrhythmia classifier\n",
    "\n",
    "## Overview \n",
    "\n",
    "This notebook demonstrates creating a foundational model for raw ECG signals. By creating a foundational model, we can create small, down-stream classification models."
   ]
  },
  {
   "cell_type": "code",
   "execution_count": 3,
   "metadata": {},
   "outputs": [],
   "source": [
    "import os\n",
    "os.environ[\"KMP_AFFINITY\"] = \"noverbose\"\n",
    "os.environ['TF_CPP_MIN_LOG_LEVEL'] = '2' # 3\n",
    "os.environ['AUTOGRAPH_VERBOSITY'] = '2' # 5\n",
    "\n",
    "import functools\n",
    "import random\n",
    "from typing import Generator\n",
    "from pathlib import Path\n",
    "import tempfile\n",
    "import tensorflow as tf\n",
    "from tqdm import tqdm\n",
    "import sklearn.model_selection\n",
    "import keras\n",
    "import numpy as np\n",
    "import numpy.typing as npt\n",
    "import heartkit as hk\n",
    "import physiokit as pk\n",
    "import neuralspot_edge as nse\n",
    "from neuralspot_edge.trainers.simclr import SimCLRTrainer\n",
    "import matplotlib as mpl\n",
    "import matplotlib.pyplot as plt\n",
    "import plotly.io as pio\n",
    "\n",
    "hk.silence_tensorflow()\n",
    "logger = hk.setup_logger('heartkit', level=2)"
   ]
  },
  {
   "cell_type": "markdown",
   "metadata": {},
   "source": [
    "## Constants\n",
    "\n",
    "Here we provide the constants that we will use throughout the guide. For better performance, adjust parameters such as `BATCH_SIZE`, `EPOCHS`, and `LEARNING_RATE`."
   ]
  },
  {
   "cell_type": "code",
   "execution_count": 4,
   "metadata": {},
   "outputs": [],
   "source": [
    "# Seed for reproducibility\n",
    "seed = 42\n",
    "\n",
    "# File paths\n",
    "datasets_dir = Path(\"../../datasets\")\n",
    "job_dir = Path(tempfile.gettempdir()) / \"hk-foundation\"\n",
    "model_file = job_dir / \"model.keras\"\n",
    "val_file = job_dir / \"val.pkl\"\n",
    "\n",
    "os.makedirs(job_dir, exist_ok=True)\n",
    "\n",
    "# Data settings\n",
    "sampling_rate = 100 # 100 Hz\n",
    "input_size = 1000 # 10 seconds\n",
    "frame_size = 800 # 8 seconds\n",
    "\n",
    "# Training settings\n",
    "batch_size = 1024        # Batch size for training\n",
    "buffer_size = 10000      # How many samples are shuffled each epoch\n",
    "epochs = 100             # Increase this to 100+\n",
    "steps_per_epoch = 25     # # Steps per epoch (must set since ds has unknown size)\n",
    "samples_per_patient = 1  # Number of samples per patient\n",
    "val_size = 1000         # Number of samples used for validation\n",
    "test_size = 1000        # Number of samples used for validation\n",
    "val_percentage = 0.2     # Percentage of samples used for validation\n",
    "verbose = 1              # Verbosity level\n",
    "learning_rate = 1e-3     # Learning rate for Adam optimizer\n",
    "\n",
    "# Model settings\n",
    "projection_width = 128\n",
    "temperature = 0.1\n",
    "\n",
    "# Plotting settings\n",
    "bg_rgba_color = \"rgba(38,42,50,1.0)\"\n",
    "bg_color = \"#262a32\"\n",
    "primary_color = \"#11acd5\"\n",
    "secondary_color = \"#ce6cff\"\n",
    "tertiary_color = \"#ea3424\"\n",
    "quaternary_color = \"#5cc99a\"\n",
    "colors = [primary_color, secondary_color, tertiary_color, quaternary_color]\n",
    "plotly_template = \"plotly_dark\"\n",
    "pio.renderers.default = \"notebook\"\n",
    "plt.style.use('dark_background')\n",
    "mpl.rcParams['axes.facecolor'] = bg_color\n",
    "mpl.rcParams['figure.facecolor'] = bg_color"
   ]
  },
  {
   "cell_type": "markdown",
   "metadata": {},
   "source": [
    "## Configure datasets\n",
    "\n",
    "We are going to train our model using two large datasets: the PTB-XL dataset and the large-scale arrhythmia dataset. "
   ]
  },
  {
   "cell_type": "code",
   "execution_count": 5,
   "metadata": {},
   "outputs": [],
   "source": [
    "datasets = [\n",
    "    hk.DatasetParams(\n",
    "        name=\"lsad\",\n",
    "        path=datasets_dir / \"lsad\",\n",
    "        params={}\n",
    "    ),\n",
    "    hk.DatasetParams(\n",
    "        name=\"ptbxl\",\n",
    "        path=datasets_dir / \"ptbxl\",\n",
    "        params={}\n",
    "    ),\n",
    "]"
   ]
  },
  {
   "cell_type": "markdown",
   "metadata": {},
   "source": [
    "### Download datasets"
   ]
  },
  {
   "cell_type": "code",
   "execution_count": 5,
   "metadata": {},
   "outputs": [
    {
     "data": {
      "text/html": [
       "<pre style=\"white-space:pre;overflow-x:auto;line-height:normal;font-family:Menlo,'DejaVu Sans Mono',consolas,'Courier New',monospace\"><span style=\"color: #008000; text-decoration-color: #008000\">DEBUG   </span> Creating working directory in <span style=\"color: #800080; text-decoration-color: #800080\">/</span><span style=\"color: #ff00ff; text-decoration-color: #ff00ff\">tmp</span>                                                          <a href=\"file:///workspaces/heartkit/heartkit/datasets/download.py\" target=\"_blank\"><span style=\"color: #7f7f7f; text-decoration-color: #7f7f7f\">download.py</span></a><span style=\"color: #7f7f7f; text-decoration-color: #7f7f7f\">:</span><a href=\"file:///workspaces/heartkit/heartkit/datasets/download.py#19\" target=\"_blank\"><span style=\"color: #7f7f7f; text-decoration-color: #7f7f7f\">19</span></a>\n",
       "</pre>\n"
      ],
      "text/plain": [
       "\u001b[32mDEBUG   \u001b[0m Creating working directory in \u001b[35m/\u001b[0m\u001b[95mtmp\u001b[0m                                                          \u001b]8;id=729401;file:///workspaces/heartkit/heartkit/datasets/download.py\u001b\\\u001b[2mdownload.py\u001b[0m\u001b]8;;\u001b\\\u001b[2m:\u001b[0m\u001b]8;id=942857;file:///workspaces/heartkit/heartkit/datasets/download.py#19\u001b\\\u001b[2m19\u001b[0m\u001b]8;;\u001b\\\n"
      ]
     },
     "metadata": {},
     "output_type": "display_data"
    }
   ],
   "source": [
    "hk.datasets.download_datasets(hk.HKDownloadParams(\n",
    "    datasets=datasets,\n",
    "    force=False,\n",
    "    progress=True\n",
    "))"
   ]
  },
  {
   "cell_type": "markdown",
   "metadata": {},
   "source": [
    "## Lets load all subjects data and split into train and test"
   ]
  },
  {
   "cell_type": "code",
   "execution_count": 6,
   "metadata": {},
   "outputs": [
    {
     "name": "stderr",
     "output_type": "stream",
     "text": [
      "100%|██████████| 36120/36120 [00:13<00:00, 2764.34it/s]\n",
      "100%|██████████| 18500/18500 [00:07<00:00, 2611.86it/s]\n"
     ]
    }
   ],
   "source": [
    "dsets = [hk.DatasetFactory.get(dataset.name)(\n",
    "    ds_path=dataset.path,\n",
    ") for dataset in datasets]\n",
    "\n",
    "num_pts = sum((len(ds.get_train_patient_ids()) for ds in dsets))\n",
    "\n",
    "train_data = np.zeros((\n",
    "    num_pts,\n",
    "    input_size,\n",
    "    1\n",
    "))\n",
    "pt_idx = 0\n",
    "for ds in dsets:\n",
    "    train_pt_ids = ds.get_train_patient_ids()\n",
    "    for pt_id in tqdm(train_pt_ids):\n",
    "        with ds.patient_data(pt_id) as h5:\n",
    "            data = h5[\"data\"][0:1, :].T\n",
    "        # END WITH\n",
    "        data = pk.signal.resample_signal(data, sample_rate=ds.sampling_rate, target_rate=sampling_rate, axis=0)\n",
    "        data = np.expand_dims(data, axis=0)\n",
    "        train_data[pt_idx] = data\n",
    "        pt_idx += 1\n",
    "    # END FOR\n",
    "# END FOR"
   ]
  },
  {
   "cell_type": "code",
   "execution_count": 7,
   "metadata": {},
   "outputs": [],
   "source": [
    "train_data, val_data = sklearn.model_selection.train_test_split(\n",
    "    train_data,\n",
    "    test_size=val_percentage,\n",
    "    random_state=seed\n",
    ")"
   ]
  },
  {
   "cell_type": "markdown",
   "metadata": {},
   "source": [
    "## Create TF train and validation datasets"
   ]
  },
  {
   "cell_type": "code",
   "execution_count": 8,
   "metadata": {},
   "outputs": [
    {
     "name": "stderr",
     "output_type": "stream",
     "text": [
      "2024-07-25 21:33:53.890257: E external/local_xla/xla/stream_executor/cuda/cuda_driver.cc:266] failed call to cuInit: CUDA_ERROR_NO_DEVICE: no CUDA-capable device is detected\n"
     ]
    }
   ],
   "source": [
    "train_ds = tf.data.Dataset.from_tensor_slices(train_data)\n",
    "train_ds = train_ds.shuffle(\n",
    "    buffer_size,\n",
    ").batch(\n",
    "    batch_size\n",
    ")\n",
    "\n",
    "val_ds = tf.data.Dataset.from_tensor_slices(val_data)\n",
    "val_ds = val_ds.batch(\n",
    "    batch_size\n",
    ")"
   ]
  },
  {
   "cell_type": "code",
   "execution_count": 12,
   "metadata": {},
   "outputs": [
    {
     "name": "stdout",
     "output_type": "stream",
     "text": [
      "(1024, 1000, 1)\n"
     ]
    }
   ],
   "source": [
    "x = next(iter(train_ds))\n",
    "print(x.shape)"
   ]
  },
  {
   "cell_type": "code",
   "execution_count": 10,
   "metadata": {},
   "outputs": [],
   "source": [
    "nstdb = hk.datasets.nstdb.NstdbNoise(target_rate=sample_rate)\n",
    "noises = np.hstack((nstdb.get_noise(noise_type=\"bw\"), nstdb.get_noise(noise_type=\"ma\"), nstdb.get_noise(noise_type=\"em\")))\n",
    "\n",
    "augmentation_pipeline = nse.layers.preprocessing.ts.augmentation_pipeline.AugmentationPipeline(\n",
    "    layers=[\n",
    "        nse.layers.preprocessing.ts.random_crop.RandomCrop(\n",
    "            duration=frame_size,\n",
    "        ),\n",
    "        nse.layers.preprocessing.ts.gaussian_noise.GaussianNoise(\n",
    "            stddev=0.05\n",
    "        ),\n",
    "        nse.layers.preprocessing.ts.random_cutout.RandomCutout(\n",
    "            factor=(0.05, 0.1),\n",
    "            cutouts=(1, 3)\n",
    "            fill_mode=\"constant\",\n",
    "            fill_value=0.0\n",
    "        ),\n",
    "        nse.layers.preprocessing.ts.random_background_noises.RandomBackgroundNoises(\n",
    "            noises=noises\n",
    "        )\n",
    "    ]\n",
    ")"
   ]
  },
  {
   "cell_type": "code",
   "execution_count": 11,
   "metadata": {},
   "outputs": [],
   "source": [
    "test_ds = train_ds.map(augmentation_pipeline)"
   ]
  },
  {
   "cell_type": "code",
   "execution_count": 14,
   "metadata": {},
   "outputs": [
    {
     "name": "stdout",
     "output_type": "stream",
     "text": [
      "(1024, 800, 1)\n"
     ]
    }
   ],
   "source": [
    "x = next(iter(test_ds))\n",
    "print(x.shape)"
   ]
  },
  {
   "cell_type": "code",
   "execution_count": 5,
   "metadata": {},
   "outputs": [],
   "source": [
    "dsets = []\n",
    "for dset in datasets:\n",
    "    if hk.DatasetFactory.has(dset.name):\n",
    "        dsets.append(hk.DatasetFactory.get(dset.name)(ds_path=dset.path, **dset.params))\n",
    "    # END IF\n",
    "# END FOR"
   ]
  },
  {
   "cell_type": "markdown",
   "metadata": {},
   "source": [
    "## Preprocess pipeline\n",
    "\n",
    "We will preprocess the ECG signals by applying the following steps:\n",
    "* Apply Z-score normalization w/ epsilon to avoid division by zero\n",
    "\n",
    "The task accepts a list of preprocessing functions that will be applied to the input data. \n",
    "\n",
    "__NOTE:__ We dont apply any filtering as the model is expected to learn the filtering mechanism."
   ]
  },
  {
   "cell_type": "code",
   "execution_count": 6,
   "metadata": {},
   "outputs": [],
   "source": [
    "preprocesses = [\n",
    "    hk.PreprocessParams(name=\"znorm\", params=dict(eps=0.01, axis=None))\n",
    "]"
   ]
  },
  {
   "cell_type": "markdown",
   "metadata": {},
   "source": [
    "## Augmentation pipeline\n",
    "\n",
    "We will apply the following augmentations to the ECG signals:\n",
    "* Baseline wander: Simulate baseline wander by adding a random frequency sinusoidal signal to the ECG signal\n",
    "* Powerline noise: Simulate powerline noise by adding a 50 Hz sinusoidal signal to the ECG signal\n",
    "* Burst noise: Simulate burst noise by randomly injecting burst of high frequency noise to the ECG signal\n",
    "* Noise sources: Apply several noises at given frequencies to the ECG signal\n",
    "* Lead noise: Simulate lead noise by adding a random frequency sinusoidal signal to the ECG signal\n",
    "* NSTDB: Add real noise captured from NSTDB dataset to the ECG signal. \n"
   ]
  },
  {
   "cell_type": "code",
   "execution_count": 7,
   "metadata": {},
   "outputs": [],
   "source": [
    "augmentations = [\n",
    "    hk.AugmentationParams(name=\"baseline_wander\", params=dict(amplitude=[0.0, 0.5], frequency=[0.5, 1.5])),\n",
    "    hk.AugmentationParams(name=\"powerline_noise\", params=dict(amplitude=[0.05, 0.15], frequency=[45, 50])),\n",
    "    hk.AugmentationParams(name=\"burst_noise\", params=dict(burst_number=[0, 4], amplitude=[0.05, 0.1], frequency=[20, 49])),\n",
    "    hk.AugmentationParams(name=\"noise_sources\", params=dict(num_sources=[1, 2], amplitude=[0.05, 0.1], frequency=[10, 40])),\n",
    "    hk.AugmentationParams(name=\"lead_noise\", params=dict(scale=[0.05, 0.1])),\n",
    "    hk.AugmentationParams(name=\"nstdb\", params=dict(noise_level=[0.1, 0.3]))\n",
    "]"
   ]
  },
  {
   "cell_type": "code",
   "execution_count": 8,
   "metadata": {},
   "outputs": [],
   "source": [
    "def data_generator(\n",
    "    patient_generator: hk.datasets.defines.PatientGenerator,\n",
    "    ds: hk.datasets.HKDataset,\n",
    "    frame_size: int,\n",
    "    samples_per_patient: int | list[int] = 1,\n",
    "    target_rate: int | None = None,\n",
    ") -> Generator[tuple[npt.NDArray, npt.NDArray], None, None]:\n",
    "    \"\"\"Generate frames using patient generator.\n",
    "\n",
    "    Args:\n",
    "        patient_generator (PatientGenerator): Patient Generator\n",
    "        ds: PtbxlDataset\n",
    "        frame_size (int): Frame size\n",
    "        samples_per_patient (int | list[int], optional): # samples per patient. Defaults to 1.\n",
    "        target_rate (int|None, optional): Target rate. Defaults to None.\n",
    "\n",
    "    Returns:\n",
    "        Generator[tuple[npt.NDArray, npt.NDArray], None, None]: Sample generator\n",
    "\n",
    "    \"\"\"\n",
    "    input_size = int(np.round((ds.sampling_rate / target_rate) * frame_size))\n",
    "    data_cache = {}\n",
    "    for pt in patient_generator:\n",
    "        if pt not in data_cache:\n",
    "            with ds.patient_data(pt) as h5:\n",
    "                data_cache[pt] = h5[\"data\"][:]\n",
    "        data = data_cache[pt]\n",
    "\n",
    "        for _ in range(samples_per_patient):\n",
    "            leads = random.sample(ds.leads, k=2)\n",
    "            lead_p1 = leads[0]\n",
    "            lead_p2 = leads[1]\n",
    "            start_p1 = np.random.randint(0, data.shape[1] - input_size)\n",
    "            start_p2 = np.random.randint(0, data.shape[1] - input_size)\n",
    "            # start_p2 = start_p1\n",
    "\n",
    "            x1 = np.nan_to_num(data[lead_p1, start_p1 : start_p1 + input_size].squeeze()).astype(np.float32)\n",
    "            x2 = np.nan_to_num(data[lead_p2, start_p2 : start_p2 + input_size].squeeze()).astype(np.float32)\n",
    "\n",
    "            if ds.sampling_rate != target_rate:\n",
    "                x1 = pk.signal.resample_signal(x1, ds.sampling_rate, target_rate, axis=0)\n",
    "                x2 = pk.signal.resample_signal(x2, ds.sampling_rate, target_rate, axis=0)\n",
    "            # END IF\n",
    "            yield x1, x2\n",
    "        # END FOR\n",
    "    # END FOR\n",
    "\n",
    "def preprocess(x: npt.NDArray, preprocesses: list[hk.PreprocessParams], sample_rate: float) -> npt.NDArray:\n",
    "    \"\"\"Preprocess data pipeline\n",
    "\n",
    "    Args:\n",
    "        x (npt.NDArray): Input data\n",
    "        preprocesses (list[PreprocessParams]): Preprocess parameters\n",
    "        sample_rate (float): Sample rate\n",
    "\n",
    "    Returns:\n",
    "        npt.NDArray: Preprocessed data\n",
    "    \"\"\"\n",
    "    return hk.datasets.preprocess_pipeline(x, preprocesses=preprocesses, sample_rate=sample_rate)\n",
    "\n",
    "\n",
    "def augment(x: npt.NDArray, augmentations: list[hk.AugmentationParams], sample_rate: float) -> npt.NDArray:\n",
    "    \"\"\"Augment data pipeline\n",
    "\n",
    "    Args:\n",
    "        x (npt.NDArray): Input data\n",
    "        augmentations (list[AugmentationParams]): Augmentation parameters\n",
    "        sample_rate (float): Sample rate\n",
    "\n",
    "    Returns:\n",
    "        npt.NDArray: Augmented data\n",
    "    \"\"\"\n",
    "\n",
    "    return hk.datasets.augment_pipeline(x=x, augmentations=augmentations, sample_rate=sample_rate)\n",
    "\n",
    "def prepare(\n",
    "    x_y: tuple[npt.NDArray, npt.NDArray],\n",
    "    sample_rate: float,\n",
    "    preprocesses: list[hk.PreprocessParams],\n",
    "    augmentations: list[hk.AugmentationParams],\n",
    "    spec: tuple[tf.TensorSpec, tf.TensorSpec],\n",
    ") -> tuple[npt.NDArray, npt.NDArray]:\n",
    "    \"\"\"Prepare dataset\n",
    "\n",
    "    Args:\n",
    "        x_y (tuple[npt.NDArray, npt.NDArray]): Input data\n",
    "        sample_rate (float): Sampling rate\n",
    "        preprocesses (list[PreprocessParams]): Preprocessing pipeline\n",
    "        augmentations (list[AugmentationParams]): Augmentation pipeline\n",
    "        spec (tuple[tf.TensorSpec, tf.TensorSpec]): Spec\n",
    "        num_classes (int): Number of classes\n",
    "\n",
    "    Returns:\n",
    "        tuple[npt.NDArray, npt.NDArray]: Prepared data\n",
    "    \"\"\"\n",
    "    x, y = x_y[0].copy(), x_y[1].copy()\n",
    "\n",
    "    if augmentations:\n",
    "        x = augment(x, augmentations, sample_rate)\n",
    "        y = augment(y, augmentations, sample_rate)\n",
    "    # END IF\n",
    "\n",
    "    if preprocesses:\n",
    "        x = preprocess(x, preprocesses, sample_rate)\n",
    "        y = preprocess(y, preprocesses, sample_rate)\n",
    "    # END IF\n",
    "\n",
    "    x = x.reshape(spec[0].shape)\n",
    "    y = y.reshape(spec[0].shape)\n",
    "\n",
    "    return x, y"
   ]
  },
  {
   "cell_type": "code",
   "execution_count": 9,
   "metadata": {},
   "outputs": [
    {
     "data": {
      "text/html": [
       "<pre style=\"white-space:pre;overflow-x:auto;line-height:normal;font-family:Menlo,'DejaVu Sans Mono',consolas,'Courier New',monospace\"><span style=\"color: #008000; text-decoration-color: #008000\">DEBUG   </span> Splitting patients into train and validation                                              <a href=\"file:///workspaces/heartkit/heartkit/datasets/dataloader.py\" target=\"_blank\"><span style=\"color: #7f7f7f; text-decoration-color: #7f7f7f\">dataloader.py</span></a><span style=\"color: #7f7f7f; text-decoration-color: #7f7f7f\">:</span><a href=\"file:///workspaces/heartkit/heartkit/datasets/dataloader.py#90\" target=\"_blank\"><span style=\"color: #7f7f7f; text-decoration-color: #7f7f7f\">90</span></a>\n",
       "</pre>\n"
      ],
      "text/plain": [
       "\u001b[32mDEBUG   \u001b[0m Splitting patients into train and validation                                              \u001b]8;id=308753;file:///workspaces/heartkit/heartkit/datasets/dataloader.py\u001b\\\u001b[2mdataloader.py\u001b[0m\u001b]8;;\u001b\\\u001b[2m:\u001b[0m\u001b]8;id=880211;file:///workspaces/heartkit/heartkit/datasets/dataloader.py#90\u001b\\\u001b[2m90\u001b[0m\u001b]8;;\u001b\\\n"
      ]
     },
     "metadata": {},
     "output_type": "display_data"
    },
    {
     "data": {
      "text/html": [
       "<pre style=\"white-space:pre;overflow-x:auto;line-height:normal;font-family:Menlo,'DejaVu Sans Mono',consolas,'Courier New',monospace\"><span style=\"color: #008000; text-decoration-color: #008000\">DEBUG   </span> Collecting <span style=\"color: #008080; text-decoration-color: #008080; font-weight: bold\">1000</span> validation samples                                                       <a href=\"file:///workspaces/heartkit/heartkit/datasets/dataloader.py\" target=\"_blank\"><span style=\"color: #7f7f7f; text-decoration-color: #7f7f7f\">dataloader.py</span></a><span style=\"color: #7f7f7f; text-decoration-color: #7f7f7f\">:</span><a href=\"file:///workspaces/heartkit/heartkit/datasets/dataloader.py#101\" target=\"_blank\"><span style=\"color: #7f7f7f; text-decoration-color: #7f7f7f\">101</span></a>\n",
       "</pre>\n"
      ],
      "text/plain": [
       "\u001b[32mDEBUG   \u001b[0m Collecting \u001b[1;36m1000\u001b[0m validation samples                                                       \u001b]8;id=247172;file:///workspaces/heartkit/heartkit/datasets/dataloader.py\u001b\\\u001b[2mdataloader.py\u001b[0m\u001b]8;;\u001b\\\u001b[2m:\u001b[0m\u001b]8;id=936756;file:///workspaces/heartkit/heartkit/datasets/dataloader.py#101\u001b\\\u001b[2m101\u001b[0m\u001b]8;;\u001b\\\n"
      ]
     },
     "metadata": {},
     "output_type": "display_data"
    },
    {
     "data": {
      "text/html": [
       "<pre style=\"white-space:pre;overflow-x:auto;line-height:normal;font-family:Menlo,'DejaVu Sans Mono',consolas,'Courier New',monospace\"><span style=\"color: #008000; text-decoration-color: #008000\">DEBUG   </span> Splitting <span style=\"color: #008080; text-decoration-color: #008080; font-weight: bold\">7224</span> ids into <span style=\"color: #008080; text-decoration-color: #008080; font-weight: bold\">32</span> workers with <span style=\"color: #008080; text-decoration-color: #008080; font-weight: bold\">225</span> ids each                                          <a href=\"file:///workspaces/heartkit/heartkit/datasets/utils.py\" target=\"_blank\"><span style=\"color: #7f7f7f; text-decoration-color: #7f7f7f\">utils.py</span></a><span style=\"color: #7f7f7f; text-decoration-color: #7f7f7f\">:</span><a href=\"file:///workspaces/heartkit/heartkit/datasets/utils.py#182\" target=\"_blank\"><span style=\"color: #7f7f7f; text-decoration-color: #7f7f7f\">182</span></a>\n",
       "</pre>\n"
      ],
      "text/plain": [
       "\u001b[32mDEBUG   \u001b[0m Splitting \u001b[1;36m7224\u001b[0m ids into \u001b[1;36m32\u001b[0m workers with \u001b[1;36m225\u001b[0m ids each                                          \u001b]8;id=784128;file:///workspaces/heartkit/heartkit/datasets/utils.py\u001b\\\u001b[2mutils.py\u001b[0m\u001b]8;;\u001b\\\u001b[2m:\u001b[0m\u001b]8;id=844780;file:///workspaces/heartkit/heartkit/datasets/utils.py#182\u001b\\\u001b[2m182\u001b[0m\u001b]8;;\u001b\\\n"
      ]
     },
     "metadata": {},
     "output_type": "display_data"
    },
    {
     "data": {
      "text/html": [
       "<pre style=\"white-space:pre;overflow-x:auto;line-height:normal;font-family:Menlo,'DejaVu Sans Mono',consolas,'Courier New',monospace\"><span style=\"color: #008000; text-decoration-color: #008000\">DEBUG   </span> Loading noise data from HDF5 file.                                                             <a href=\"file:///workspaces/heartkit/heartkit/datasets/nstdb.py\" target=\"_blank\"><span style=\"color: #7f7f7f; text-decoration-color: #7f7f7f\">nstdb.py</span></a><span style=\"color: #7f7f7f; text-decoration-color: #7f7f7f\">:</span><a href=\"file:///workspaces/heartkit/heartkit/datasets/nstdb.py#37\" target=\"_blank\"><span style=\"color: #7f7f7f; text-decoration-color: #7f7f7f\">37</span></a>\n",
       "</pre>\n"
      ],
      "text/plain": [
       "\u001b[32mDEBUG   \u001b[0m Loading noise data from HDF5 file.                                                             \u001b]8;id=101280;file:///workspaces/heartkit/heartkit/datasets/nstdb.py\u001b\\\u001b[2mnstdb.py\u001b[0m\u001b]8;;\u001b\\\u001b[2m:\u001b[0m\u001b]8;id=249635;file:///workspaces/heartkit/heartkit/datasets/nstdb.py#37\u001b\\\u001b[2m37\u001b[0m\u001b]8;;\u001b\\\n"
      ]
     },
     "metadata": {},
     "output_type": "display_data"
    },
    {
     "data": {
      "text/html": [
       "<pre style=\"white-space:pre;overflow-x:auto;line-height:normal;font-family:Menlo,'DejaVu Sans Mono',consolas,'Courier New',monospace\"><span style=\"color: #008000; text-decoration-color: #008000\">DEBUG   </span> Loading noise data from HDF5 file.                                                             <a href=\"file:///workspaces/heartkit/heartkit/datasets/nstdb.py\" target=\"_blank\"><span style=\"color: #7f7f7f; text-decoration-color: #7f7f7f\">nstdb.py</span></a><span style=\"color: #7f7f7f; text-decoration-color: #7f7f7f\">:</span><a href=\"file:///workspaces/heartkit/heartkit/datasets/nstdb.py#37\" target=\"_blank\"><span style=\"color: #7f7f7f; text-decoration-color: #7f7f7f\">37</span></a>\n",
       "</pre>\n"
      ],
      "text/plain": [
       "\u001b[32mDEBUG   \u001b[0m Loading noise data from HDF5 file.                                                             \u001b]8;id=129266;file:///workspaces/heartkit/heartkit/datasets/nstdb.py\u001b\\\u001b[2mnstdb.py\u001b[0m\u001b]8;;\u001b\\\u001b[2m:\u001b[0m\u001b]8;id=746243;file:///workspaces/heartkit/heartkit/datasets/nstdb.py#37\u001b\\\u001b[2m37\u001b[0m\u001b]8;;\u001b\\\n"
      ]
     },
     "metadata": {},
     "output_type": "display_data"
    },
    {
     "data": {
      "text/html": [
       "<pre style=\"white-space:pre;overflow-x:auto;line-height:normal;font-family:Menlo,'DejaVu Sans Mono',consolas,'Courier New',monospace\"><span style=\"color: #008000; text-decoration-color: #008000\">DEBUG   </span> Loading noise data from HDF5 file.                                                             <a href=\"file:///workspaces/heartkit/heartkit/datasets/nstdb.py\" target=\"_blank\"><span style=\"color: #7f7f7f; text-decoration-color: #7f7f7f\">nstdb.py</span></a><span style=\"color: #7f7f7f; text-decoration-color: #7f7f7f\">:</span><a href=\"file:///workspaces/heartkit/heartkit/datasets/nstdb.py#37\" target=\"_blank\"><span style=\"color: #7f7f7f; text-decoration-color: #7f7f7f\">37</span></a>\n",
       "</pre>\n"
      ],
      "text/plain": [
       "\u001b[32mDEBUG   \u001b[0m Loading noise data from HDF5 file.                                                             \u001b]8;id=642523;file:///workspaces/heartkit/heartkit/datasets/nstdb.py\u001b\\\u001b[2mnstdb.py\u001b[0m\u001b]8;;\u001b\\\u001b[2m:\u001b[0m\u001b]8;id=442469;file:///workspaces/heartkit/heartkit/datasets/nstdb.py#37\u001b\\\u001b[2m37\u001b[0m\u001b]8;;\u001b\\\n"
      ]
     },
     "metadata": {},
     "output_type": "display_data"
    },
    {
     "data": {
      "text/html": [
       "<pre style=\"white-space:pre;overflow-x:auto;line-height:normal;font-family:Menlo,'DejaVu Sans Mono',consolas,'Courier New',monospace\"><span style=\"color: #008000; text-decoration-color: #008000\">DEBUG   </span> Loading noise data from HDF5 file.                                                             <a href=\"file:///workspaces/heartkit/heartkit/datasets/nstdb.py\" target=\"_blank\"><span style=\"color: #7f7f7f; text-decoration-color: #7f7f7f\">nstdb.py</span></a><span style=\"color: #7f7f7f; text-decoration-color: #7f7f7f\">:</span><a href=\"file:///workspaces/heartkit/heartkit/datasets/nstdb.py#37\" target=\"_blank\"><span style=\"color: #7f7f7f; text-decoration-color: #7f7f7f\">37</span></a>\n",
       "</pre>\n"
      ],
      "text/plain": [
       "\u001b[32mDEBUG   \u001b[0m Loading noise data from HDF5 file.                                                             \u001b]8;id=91296;file:///workspaces/heartkit/heartkit/datasets/nstdb.py\u001b\\\u001b[2mnstdb.py\u001b[0m\u001b]8;;\u001b\\\u001b[2m:\u001b[0m\u001b]8;id=703595;file:///workspaces/heartkit/heartkit/datasets/nstdb.py#37\u001b\\\u001b[2m37\u001b[0m\u001b]8;;\u001b\\\n"
      ]
     },
     "metadata": {},
     "output_type": "display_data"
    },
    {
     "data": {
      "text/html": [
       "<pre style=\"white-space:pre;overflow-x:auto;line-height:normal;font-family:Menlo,'DejaVu Sans Mono',consolas,'Courier New',monospace\"><span style=\"color: #008000; text-decoration-color: #008000\">DEBUG   </span> Loading noise data from HDF5 file.                                                             <a href=\"file:///workspaces/heartkit/heartkit/datasets/nstdb.py\" target=\"_blank\"><span style=\"color: #7f7f7f; text-decoration-color: #7f7f7f\">nstdb.py</span></a><span style=\"color: #7f7f7f; text-decoration-color: #7f7f7f\">:</span><a href=\"file:///workspaces/heartkit/heartkit/datasets/nstdb.py#37\" target=\"_blank\"><span style=\"color: #7f7f7f; text-decoration-color: #7f7f7f\">37</span></a>\n",
       "</pre>\n"
      ],
      "text/plain": [
       "\u001b[32mDEBUG   \u001b[0m Loading noise data from HDF5 file.                                                             \u001b]8;id=405416;file:///workspaces/heartkit/heartkit/datasets/nstdb.py\u001b\\\u001b[2mnstdb.py\u001b[0m\u001b]8;;\u001b\\\u001b[2m:\u001b[0m\u001b]8;id=934266;file:///workspaces/heartkit/heartkit/datasets/nstdb.py#37\u001b\\\u001b[2m37\u001b[0m\u001b]8;;\u001b\\\n"
      ]
     },
     "metadata": {},
     "output_type": "display_data"
    },
    {
     "data": {
      "text/html": [
       "<pre style=\"white-space:pre;overflow-x:auto;line-height:normal;font-family:Menlo,'DejaVu Sans Mono',consolas,'Courier New',monospace\"><span style=\"color: #008000; text-decoration-color: #008000\">DEBUG   </span> Loading noise data from HDF5 file.                                                             <a href=\"file:///workspaces/heartkit/heartkit/datasets/nstdb.py\" target=\"_blank\"><span style=\"color: #7f7f7f; text-decoration-color: #7f7f7f\">nstdb.py</span></a><span style=\"color: #7f7f7f; text-decoration-color: #7f7f7f\">:</span><a href=\"file:///workspaces/heartkit/heartkit/datasets/nstdb.py#37\" target=\"_blank\"><span style=\"color: #7f7f7f; text-decoration-color: #7f7f7f\">37</span></a>\n",
       "</pre>\n"
      ],
      "text/plain": [
       "\u001b[32mDEBUG   \u001b[0m Loading noise data from HDF5 file.                                                             \u001b]8;id=669030;file:///workspaces/heartkit/heartkit/datasets/nstdb.py\u001b\\\u001b[2mnstdb.py\u001b[0m\u001b]8;;\u001b\\\u001b[2m:\u001b[0m\u001b]8;id=500437;file:///workspaces/heartkit/heartkit/datasets/nstdb.py#37\u001b\\\u001b[2m37\u001b[0m\u001b]8;;\u001b\\\n"
      ]
     },
     "metadata": {},
     "output_type": "display_data"
    },
    {
     "data": {
      "text/html": [
       "<pre style=\"white-space:pre;overflow-x:auto;line-height:normal;font-family:Menlo,'DejaVu Sans Mono',consolas,'Courier New',monospace\"><span style=\"color: #008000; text-decoration-color: #008000\">DEBUG   </span> Loading noise data from HDF5 file.                                                             <a href=\"file:///workspaces/heartkit/heartkit/datasets/nstdb.py\" target=\"_blank\"><span style=\"color: #7f7f7f; text-decoration-color: #7f7f7f\">nstdb.py</span></a><span style=\"color: #7f7f7f; text-decoration-color: #7f7f7f\">:</span><a href=\"file:///workspaces/heartkit/heartkit/datasets/nstdb.py#37\" target=\"_blank\"><span style=\"color: #7f7f7f; text-decoration-color: #7f7f7f\">37</span></a>\n",
       "</pre>\n"
      ],
      "text/plain": [
       "\u001b[32mDEBUG   \u001b[0m Loading noise data from HDF5 file.                                                             \u001b]8;id=395530;file:///workspaces/heartkit/heartkit/datasets/nstdb.py\u001b\\\u001b[2mnstdb.py\u001b[0m\u001b]8;;\u001b\\\u001b[2m:\u001b[0m\u001b]8;id=669595;file:///workspaces/heartkit/heartkit/datasets/nstdb.py#37\u001b\\\u001b[2m37\u001b[0m\u001b]8;;\u001b\\\n"
      ]
     },
     "metadata": {},
     "output_type": "display_data"
    },
    {
     "data": {
      "text/html": [
       "<pre style=\"white-space:pre;overflow-x:auto;line-height:normal;font-family:Menlo,'DejaVu Sans Mono',consolas,'Courier New',monospace\"><span style=\"color: #008000; text-decoration-color: #008000\">DEBUG   </span> Loading noise data from HDF5 file.                                                             <a href=\"file:///workspaces/heartkit/heartkit/datasets/nstdb.py\" target=\"_blank\"><span style=\"color: #7f7f7f; text-decoration-color: #7f7f7f\">nstdb.py</span></a><span style=\"color: #7f7f7f; text-decoration-color: #7f7f7f\">:</span><a href=\"file:///workspaces/heartkit/heartkit/datasets/nstdb.py#37\" target=\"_blank\"><span style=\"color: #7f7f7f; text-decoration-color: #7f7f7f\">37</span></a>\n",
       "</pre>\n"
      ],
      "text/plain": [
       "\u001b[32mDEBUG   \u001b[0m Loading noise data from HDF5 file.                                                             \u001b]8;id=977903;file:///workspaces/heartkit/heartkit/datasets/nstdb.py\u001b\\\u001b[2mnstdb.py\u001b[0m\u001b]8;;\u001b\\\u001b[2m:\u001b[0m\u001b]8;id=502646;file:///workspaces/heartkit/heartkit/datasets/nstdb.py#37\u001b\\\u001b[2m37\u001b[0m\u001b]8;;\u001b\\\n"
      ]
     },
     "metadata": {},
     "output_type": "display_data"
    },
    {
     "data": {
      "text/html": [
       "<pre style=\"white-space:pre;overflow-x:auto;line-height:normal;font-family:Menlo,'DejaVu Sans Mono',consolas,'Courier New',monospace\"><span style=\"color: #008000; text-decoration-color: #008000\">DEBUG   </span> Loading noise data from HDF5 file.                                                             <a href=\"file:///workspaces/heartkit/heartkit/datasets/nstdb.py\" target=\"_blank\"><span style=\"color: #7f7f7f; text-decoration-color: #7f7f7f\">nstdb.py</span></a><span style=\"color: #7f7f7f; text-decoration-color: #7f7f7f\">:</span><a href=\"file:///workspaces/heartkit/heartkit/datasets/nstdb.py#37\" target=\"_blank\"><span style=\"color: #7f7f7f; text-decoration-color: #7f7f7f\">37</span></a>\n",
       "</pre>\n"
      ],
      "text/plain": [
       "\u001b[32mDEBUG   \u001b[0m Loading noise data from HDF5 file.                                                             \u001b]8;id=828900;file:///workspaces/heartkit/heartkit/datasets/nstdb.py\u001b\\\u001b[2mnstdb.py\u001b[0m\u001b]8;;\u001b\\\u001b[2m:\u001b[0m\u001b]8;id=87930;file:///workspaces/heartkit/heartkit/datasets/nstdb.py#37\u001b\\\u001b[2m37\u001b[0m\u001b]8;;\u001b\\\n"
      ]
     },
     "metadata": {},
     "output_type": "display_data"
    },
    {
     "data": {
      "text/html": [
       "<pre style=\"white-space:pre;overflow-x:auto;line-height:normal;font-family:Menlo,'DejaVu Sans Mono',consolas,'Courier New',monospace\"><span style=\"color: #008000; text-decoration-color: #008000\">DEBUG   </span> Loading noise data from HDF5 file.                                                             <a href=\"file:///workspaces/heartkit/heartkit/datasets/nstdb.py\" target=\"_blank\"><span style=\"color: #7f7f7f; text-decoration-color: #7f7f7f\">nstdb.py</span></a><span style=\"color: #7f7f7f; text-decoration-color: #7f7f7f\">:</span><a href=\"file:///workspaces/heartkit/heartkit/datasets/nstdb.py#37\" target=\"_blank\"><span style=\"color: #7f7f7f; text-decoration-color: #7f7f7f\">37</span></a>\n",
       "</pre>\n"
      ],
      "text/plain": [
       "\u001b[32mDEBUG   \u001b[0m Loading noise data from HDF5 file.                                                             \u001b]8;id=993314;file:///workspaces/heartkit/heartkit/datasets/nstdb.py\u001b\\\u001b[2mnstdb.py\u001b[0m\u001b]8;;\u001b\\\u001b[2m:\u001b[0m\u001b]8;id=883271;file:///workspaces/heartkit/heartkit/datasets/nstdb.py#37\u001b\\\u001b[2m37\u001b[0m\u001b]8;;\u001b\\\n"
      ]
     },
     "metadata": {},
     "output_type": "display_data"
    },
    {
     "data": {
      "text/html": [
       "<pre style=\"white-space:pre;overflow-x:auto;line-height:normal;font-family:Menlo,'DejaVu Sans Mono',consolas,'Courier New',monospace\"><span style=\"color: #008000; text-decoration-color: #008000\">DEBUG   </span> Loading noise data from HDF5 file.                                                             <a href=\"file:///workspaces/heartkit/heartkit/datasets/nstdb.py\" target=\"_blank\"><span style=\"color: #7f7f7f; text-decoration-color: #7f7f7f\">nstdb.py</span></a><span style=\"color: #7f7f7f; text-decoration-color: #7f7f7f\">:</span><a href=\"file:///workspaces/heartkit/heartkit/datasets/nstdb.py#37\" target=\"_blank\"><span style=\"color: #7f7f7f; text-decoration-color: #7f7f7f\">37</span></a>\n",
       "</pre>\n"
      ],
      "text/plain": [
       "\u001b[32mDEBUG   \u001b[0m Loading noise data from HDF5 file.                                                             \u001b]8;id=868939;file:///workspaces/heartkit/heartkit/datasets/nstdb.py\u001b\\\u001b[2mnstdb.py\u001b[0m\u001b]8;;\u001b\\\u001b[2m:\u001b[0m\u001b]8;id=954823;file:///workspaces/heartkit/heartkit/datasets/nstdb.py#37\u001b\\\u001b[2m37\u001b[0m\u001b]8;;\u001b\\\n"
      ]
     },
     "metadata": {},
     "output_type": "display_data"
    },
    {
     "data": {
      "text/html": [
       "<pre style=\"white-space:pre;overflow-x:auto;line-height:normal;font-family:Menlo,'DejaVu Sans Mono',consolas,'Courier New',monospace\"><span style=\"color: #008000; text-decoration-color: #008000\">DEBUG   </span> Loading noise data from HDF5 file.                                                             <a href=\"file:///workspaces/heartkit/heartkit/datasets/nstdb.py\" target=\"_blank\"><span style=\"color: #7f7f7f; text-decoration-color: #7f7f7f\">nstdb.py</span></a><span style=\"color: #7f7f7f; text-decoration-color: #7f7f7f\">:</span><a href=\"file:///workspaces/heartkit/heartkit/datasets/nstdb.py#37\" target=\"_blank\"><span style=\"color: #7f7f7f; text-decoration-color: #7f7f7f\">37</span></a>\n",
       "</pre>\n"
      ],
      "text/plain": [
       "\u001b[32mDEBUG   \u001b[0m Loading noise data from HDF5 file.                                                             \u001b]8;id=741203;file:///workspaces/heartkit/heartkit/datasets/nstdb.py\u001b\\\u001b[2mnstdb.py\u001b[0m\u001b]8;;\u001b\\\u001b[2m:\u001b[0m\u001b]8;id=903627;file:///workspaces/heartkit/heartkit/datasets/nstdb.py#37\u001b\\\u001b[2m37\u001b[0m\u001b]8;;\u001b\\\n"
      ]
     },
     "metadata": {},
     "output_type": "display_data"
    },
    {
     "data": {
      "text/html": [
       "<pre style=\"white-space:pre;overflow-x:auto;line-height:normal;font-family:Menlo,'DejaVu Sans Mono',consolas,'Courier New',monospace\"><span style=\"color: #008000; text-decoration-color: #008000\">DEBUG   </span> Loading noise data from HDF5 file.                                                             <a href=\"file:///workspaces/heartkit/heartkit/datasets/nstdb.py\" target=\"_blank\"><span style=\"color: #7f7f7f; text-decoration-color: #7f7f7f\">nstdb.py</span></a><span style=\"color: #7f7f7f; text-decoration-color: #7f7f7f\">:</span><a href=\"file:///workspaces/heartkit/heartkit/datasets/nstdb.py#37\" target=\"_blank\"><span style=\"color: #7f7f7f; text-decoration-color: #7f7f7f\">37</span></a>\n",
       "</pre>\n"
      ],
      "text/plain": [
       "\u001b[32mDEBUG   \u001b[0m Loading noise data from HDF5 file.                                                             \u001b]8;id=278569;file:///workspaces/heartkit/heartkit/datasets/nstdb.py\u001b\\\u001b[2mnstdb.py\u001b[0m\u001b]8;;\u001b\\\u001b[2m:\u001b[0m\u001b]8;id=264936;file:///workspaces/heartkit/heartkit/datasets/nstdb.py#37\u001b\\\u001b[2m37\u001b[0m\u001b]8;;\u001b\\\n"
      ]
     },
     "metadata": {},
     "output_type": "display_data"
    },
    {
     "data": {
      "text/html": [
       "<pre style=\"white-space:pre;overflow-x:auto;line-height:normal;font-family:Menlo,'DejaVu Sans Mono',consolas,'Courier New',monospace\"><span style=\"color: #008000; text-decoration-color: #008000\">DEBUG   </span> Loading noise data from HDF5 file.                                                             <a href=\"file:///workspaces/heartkit/heartkit/datasets/nstdb.py\" target=\"_blank\"><span style=\"color: #7f7f7f; text-decoration-color: #7f7f7f\">nstdb.py</span></a><span style=\"color: #7f7f7f; text-decoration-color: #7f7f7f\">:</span><a href=\"file:///workspaces/heartkit/heartkit/datasets/nstdb.py#37\" target=\"_blank\"><span style=\"color: #7f7f7f; text-decoration-color: #7f7f7f\">37</span></a>\n",
       "</pre>\n"
      ],
      "text/plain": [
       "\u001b[32mDEBUG   \u001b[0m Loading noise data from HDF5 file.                                                             \u001b]8;id=245771;file:///workspaces/heartkit/heartkit/datasets/nstdb.py\u001b\\\u001b[2mnstdb.py\u001b[0m\u001b]8;;\u001b\\\u001b[2m:\u001b[0m\u001b]8;id=950477;file:///workspaces/heartkit/heartkit/datasets/nstdb.py#37\u001b\\\u001b[2m37\u001b[0m\u001b]8;;\u001b\\\n"
      ]
     },
     "metadata": {},
     "output_type": "display_data"
    },
    {
     "data": {
      "text/html": [
       "<pre style=\"white-space:pre;overflow-x:auto;line-height:normal;font-family:Menlo,'DejaVu Sans Mono',consolas,'Courier New',monospace\"><span style=\"color: #008000; text-decoration-color: #008000\">DEBUG   </span> Loading noise data from HDF5 file.                                                             <a href=\"file:///workspaces/heartkit/heartkit/datasets/nstdb.py\" target=\"_blank\"><span style=\"color: #7f7f7f; text-decoration-color: #7f7f7f\">nstdb.py</span></a><span style=\"color: #7f7f7f; text-decoration-color: #7f7f7f\">:</span><a href=\"file:///workspaces/heartkit/heartkit/datasets/nstdb.py#37\" target=\"_blank\"><span style=\"color: #7f7f7f; text-decoration-color: #7f7f7f\">37</span></a>\n",
       "</pre>\n"
      ],
      "text/plain": [
       "\u001b[32mDEBUG   \u001b[0m Loading noise data from HDF5 file.                                                             \u001b]8;id=681468;file:///workspaces/heartkit/heartkit/datasets/nstdb.py\u001b\\\u001b[2mnstdb.py\u001b[0m\u001b]8;;\u001b\\\u001b[2m:\u001b[0m\u001b]8;id=885918;file:///workspaces/heartkit/heartkit/datasets/nstdb.py#37\u001b\\\u001b[2m37\u001b[0m\u001b]8;;\u001b\\\n"
      ]
     },
     "metadata": {},
     "output_type": "display_data"
    },
    {
     "data": {
      "text/html": [
       "<pre style=\"white-space:pre;overflow-x:auto;line-height:normal;font-family:Menlo,'DejaVu Sans Mono',consolas,'Courier New',monospace\"><span style=\"color: #008000; text-decoration-color: #008000\">DEBUG   </span> Building train dataset                                                                   <a href=\"file:///workspaces/heartkit/heartkit/datasets/dataloader.py\" target=\"_blank\"><span style=\"color: #7f7f7f; text-decoration-color: #7f7f7f\">dataloader.py</span></a><span style=\"color: #7f7f7f; text-decoration-color: #7f7f7f\">:</span><a href=\"file:///workspaces/heartkit/heartkit/datasets/dataloader.py#123\" target=\"_blank\"><span style=\"color: #7f7f7f; text-decoration-color: #7f7f7f\">123</span></a>\n",
       "</pre>\n"
      ],
      "text/plain": [
       "\u001b[32mDEBUG   \u001b[0m Building train dataset                                                                   \u001b]8;id=695286;file:///workspaces/heartkit/heartkit/datasets/dataloader.py\u001b\\\u001b[2mdataloader.py\u001b[0m\u001b]8;;\u001b\\\u001b[2m:\u001b[0m\u001b]8;id=563967;file:///workspaces/heartkit/heartkit/datasets/dataloader.py#123\u001b\\\u001b[2m123\u001b[0m\u001b]8;;\u001b\\\n"
      ]
     },
     "metadata": {},
     "output_type": "display_data"
    },
    {
     "data": {
      "text/html": [
       "<pre style=\"white-space:pre;overflow-x:auto;line-height:normal;font-family:Menlo,'DejaVu Sans Mono',consolas,'Courier New',monospace\"><span style=\"color: #008000; text-decoration-color: #008000\">DEBUG   </span> Splitting <span style=\"color: #008080; text-decoration-color: #008080; font-weight: bold\">28896</span> ids into <span style=\"color: #008080; text-decoration-color: #008080; font-weight: bold\">32</span> workers with <span style=\"color: #008080; text-decoration-color: #008080; font-weight: bold\">903</span> ids each                                         <a href=\"file:///workspaces/heartkit/heartkit/datasets/utils.py\" target=\"_blank\"><span style=\"color: #7f7f7f; text-decoration-color: #7f7f7f\">utils.py</span></a><span style=\"color: #7f7f7f; text-decoration-color: #7f7f7f\">:</span><a href=\"file:///workspaces/heartkit/heartkit/datasets/utils.py#182\" target=\"_blank\"><span style=\"color: #7f7f7f; text-decoration-color: #7f7f7f\">182</span></a>\n",
       "</pre>\n"
      ],
      "text/plain": [
       "\u001b[32mDEBUG   \u001b[0m Splitting \u001b[1;36m28896\u001b[0m ids into \u001b[1;36m32\u001b[0m workers with \u001b[1;36m903\u001b[0m ids each                                         \u001b]8;id=49942;file:///workspaces/heartkit/heartkit/datasets/utils.py\u001b\\\u001b[2mutils.py\u001b[0m\u001b]8;;\u001b\\\u001b[2m:\u001b[0m\u001b]8;id=989743;file:///workspaces/heartkit/heartkit/datasets/utils.py#182\u001b\\\u001b[2m182\u001b[0m\u001b]8;;\u001b\\\n"
      ]
     },
     "metadata": {},
     "output_type": "display_data"
    },
    {
     "data": {
      "text/html": [
       "<pre style=\"white-space:pre;overflow-x:auto;line-height:normal;font-family:Menlo,'DejaVu Sans Mono',consolas,'Courier New',monospace\"><span style=\"color: #008000; text-decoration-color: #008000\">DEBUG   </span> Splitting patients into train and validation                                              <a href=\"file:///workspaces/heartkit/heartkit/datasets/dataloader.py\" target=\"_blank\"><span style=\"color: #7f7f7f; text-decoration-color: #7f7f7f\">dataloader.py</span></a><span style=\"color: #7f7f7f; text-decoration-color: #7f7f7f\">:</span><a href=\"file:///workspaces/heartkit/heartkit/datasets/dataloader.py#90\" target=\"_blank\"><span style=\"color: #7f7f7f; text-decoration-color: #7f7f7f\">90</span></a>\n",
       "</pre>\n"
      ],
      "text/plain": [
       "\u001b[32mDEBUG   \u001b[0m Splitting patients into train and validation                                              \u001b]8;id=572341;file:///workspaces/heartkit/heartkit/datasets/dataloader.py\u001b\\\u001b[2mdataloader.py\u001b[0m\u001b]8;;\u001b\\\u001b[2m:\u001b[0m\u001b]8;id=70582;file:///workspaces/heartkit/heartkit/datasets/dataloader.py#90\u001b\\\u001b[2m90\u001b[0m\u001b]8;;\u001b\\\n"
      ]
     },
     "metadata": {},
     "output_type": "display_data"
    },
    {
     "data": {
      "text/html": [
       "<pre style=\"white-space:pre;overflow-x:auto;line-height:normal;font-family:Menlo,'DejaVu Sans Mono',consolas,'Courier New',monospace\"><span style=\"color: #008000; text-decoration-color: #008000\">DEBUG   </span> Collecting <span style=\"color: #008080; text-decoration-color: #008080; font-weight: bold\">1000</span> validation samples                                                       <a href=\"file:///workspaces/heartkit/heartkit/datasets/dataloader.py\" target=\"_blank\"><span style=\"color: #7f7f7f; text-decoration-color: #7f7f7f\">dataloader.py</span></a><span style=\"color: #7f7f7f; text-decoration-color: #7f7f7f\">:</span><a href=\"file:///workspaces/heartkit/heartkit/datasets/dataloader.py#101\" target=\"_blank\"><span style=\"color: #7f7f7f; text-decoration-color: #7f7f7f\">101</span></a>\n",
       "</pre>\n"
      ],
      "text/plain": [
       "\u001b[32mDEBUG   \u001b[0m Collecting \u001b[1;36m1000\u001b[0m validation samples                                                       \u001b]8;id=300188;file:///workspaces/heartkit/heartkit/datasets/dataloader.py\u001b\\\u001b[2mdataloader.py\u001b[0m\u001b]8;;\u001b\\\u001b[2m:\u001b[0m\u001b]8;id=105565;file:///workspaces/heartkit/heartkit/datasets/dataloader.py#101\u001b\\\u001b[2m101\u001b[0m\u001b]8;;\u001b\\\n"
      ]
     },
     "metadata": {},
     "output_type": "display_data"
    },
    {
     "data": {
      "text/html": [
       "<pre style=\"white-space:pre;overflow-x:auto;line-height:normal;font-family:Menlo,'DejaVu Sans Mono',consolas,'Courier New',monospace\"><span style=\"color: #008000; text-decoration-color: #008000\">DEBUG   </span> Splitting <span style=\"color: #008080; text-decoration-color: #008080; font-weight: bold\">3700</span> ids into <span style=\"color: #008080; text-decoration-color: #008080; font-weight: bold\">32</span> workers with <span style=\"color: #008080; text-decoration-color: #008080; font-weight: bold\">115</span> ids each                                          <a href=\"file:///workspaces/heartkit/heartkit/datasets/utils.py\" target=\"_blank\"><span style=\"color: #7f7f7f; text-decoration-color: #7f7f7f\">utils.py</span></a><span style=\"color: #7f7f7f; text-decoration-color: #7f7f7f\">:</span><a href=\"file:///workspaces/heartkit/heartkit/datasets/utils.py#182\" target=\"_blank\"><span style=\"color: #7f7f7f; text-decoration-color: #7f7f7f\">182</span></a>\n",
       "</pre>\n"
      ],
      "text/plain": [
       "\u001b[32mDEBUG   \u001b[0m Splitting \u001b[1;36m3700\u001b[0m ids into \u001b[1;36m32\u001b[0m workers with \u001b[1;36m115\u001b[0m ids each                                          \u001b]8;id=296311;file:///workspaces/heartkit/heartkit/datasets/utils.py\u001b\\\u001b[2mutils.py\u001b[0m\u001b]8;;\u001b\\\u001b[2m:\u001b[0m\u001b]8;id=360741;file:///workspaces/heartkit/heartkit/datasets/utils.py#182\u001b\\\u001b[2m182\u001b[0m\u001b]8;;\u001b\\\n"
      ]
     },
     "metadata": {},
     "output_type": "display_data"
    },
    {
     "data": {
      "text/html": [
       "<pre style=\"white-space:pre;overflow-x:auto;line-height:normal;font-family:Menlo,'DejaVu Sans Mono',consolas,'Courier New',monospace\"><span style=\"color: #008000; text-decoration-color: #008000\">DEBUG   </span> Building train dataset                                                                   <a href=\"file:///workspaces/heartkit/heartkit/datasets/dataloader.py\" target=\"_blank\"><span style=\"color: #7f7f7f; text-decoration-color: #7f7f7f\">dataloader.py</span></a><span style=\"color: #7f7f7f; text-decoration-color: #7f7f7f\">:</span><a href=\"file:///workspaces/heartkit/heartkit/datasets/dataloader.py#123\" target=\"_blank\"><span style=\"color: #7f7f7f; text-decoration-color: #7f7f7f\">123</span></a>\n",
       "</pre>\n"
      ],
      "text/plain": [
       "\u001b[32mDEBUG   \u001b[0m Building train dataset                                                                   \u001b]8;id=660475;file:///workspaces/heartkit/heartkit/datasets/dataloader.py\u001b\\\u001b[2mdataloader.py\u001b[0m\u001b]8;;\u001b\\\u001b[2m:\u001b[0m\u001b]8;id=217870;file:///workspaces/heartkit/heartkit/datasets/dataloader.py#123\u001b\\\u001b[2m123\u001b[0m\u001b]8;;\u001b\\\n"
      ]
     },
     "metadata": {},
     "output_type": "display_data"
    },
    {
     "data": {
      "text/html": [
       "<pre style=\"white-space:pre;overflow-x:auto;line-height:normal;font-family:Menlo,'DejaVu Sans Mono',consolas,'Courier New',monospace\"><span style=\"color: #008000; text-decoration-color: #008000\">DEBUG   </span> Splitting <span style=\"color: #008080; text-decoration-color: #008080; font-weight: bold\">14800</span> ids into <span style=\"color: #008080; text-decoration-color: #008080; font-weight: bold\">32</span> workers with <span style=\"color: #008080; text-decoration-color: #008080; font-weight: bold\">462</span> ids each                                         <a href=\"file:///workspaces/heartkit/heartkit/datasets/utils.py\" target=\"_blank\"><span style=\"color: #7f7f7f; text-decoration-color: #7f7f7f\">utils.py</span></a><span style=\"color: #7f7f7f; text-decoration-color: #7f7f7f\">:</span><a href=\"file:///workspaces/heartkit/heartkit/datasets/utils.py#182\" target=\"_blank\"><span style=\"color: #7f7f7f; text-decoration-color: #7f7f7f\">182</span></a>\n",
       "</pre>\n"
      ],
      "text/plain": [
       "\u001b[32mDEBUG   \u001b[0m Splitting \u001b[1;36m14800\u001b[0m ids into \u001b[1;36m32\u001b[0m workers with \u001b[1;36m462\u001b[0m ids each                                         \u001b]8;id=503890;file:///workspaces/heartkit/heartkit/datasets/utils.py\u001b\\\u001b[2mutils.py\u001b[0m\u001b]8;;\u001b\\\u001b[2m:\u001b[0m\u001b]8;id=3107;file:///workspaces/heartkit/heartkit/datasets/utils.py#182\u001b\\\u001b[2m182\u001b[0m\u001b]8;;\u001b\\\n"
      ]
     },
     "metadata": {},
     "output_type": "display_data"
    }
   ],
   "source": [
    "id_generator = functools.partial(hk.datasets.utils.uniform_id_generator, repeat=True)\n",
    "\n",
    "feat_shape = (frame_size, 1)\n",
    "\n",
    "ds_spec = (\n",
    "    tf.TensorSpec(shape=feat_shape, dtype=\"float32\"),\n",
    "    tf.TensorSpec(shape=feat_shape, dtype=\"float32\"),\n",
    ")\n",
    "\n",
    "train_prepare = functools.partial(\n",
    "    prepare,\n",
    "    sample_rate=sampling_rate,\n",
    "    preprocesses=preprocesses,\n",
    "    augmentations=augmentations,\n",
    "    spec=ds_spec\n",
    ")\n",
    "\n",
    "train_datasets =[]\n",
    "val_datasets = []\n",
    "for ds in dsets:\n",
    "    ds_gen = functools.partial(\n",
    "        data_generator,\n",
    "        ds=ds,\n",
    "        frame_size=frame_size,\n",
    "        samples_per_patient=samples_per_patient,\n",
    "        target_rate=sampling_rate,\n",
    "    )\n",
    "\n",
    "    train_ds, val_ds = hk.datasets.train_val_dataloader(\n",
    "        ds=ds,\n",
    "        spec=ds_spec,\n",
    "        data_generator=ds_gen,\n",
    "        id_generator=id_generator,\n",
    "        val_patients=val_percentage,\n",
    "        val_pt_samples=samples_per_patient,\n",
    "        val_size=val_size,\n",
    "        preprocess=train_prepare,\n",
    "        num_workers=os.cpu_count(),\n",
    "    )\n",
    "    train_datasets.append(train_ds)\n",
    "    val_datasets.append(val_ds)\n",
    "# END FOR\n"
   ]
  },
  {
   "cell_type": "code",
   "execution_count": 10,
   "metadata": {},
   "outputs": [],
   "source": [
    "ds_weights = np.array([d.weight for d in datasets])\n",
    "ds_weights = ds_weights / ds_weights.sum()\n",
    "\n",
    "train_ds = tf.data.Dataset.sample_from_datasets(train_datasets, weights=ds_weights)\n",
    "val_ds = tf.data.Dataset.sample_from_datasets(val_datasets, weights=ds_weights)\n",
    "\n",
    "# Shuffle and batch datasets for training\n",
    "train_ds = (\n",
    "    train_ds.shuffle(\n",
    "        buffer_size=buffer_size,\n",
    "        reshuffle_each_iteration=True,\n",
    "    )\n",
    "    .batch(\n",
    "        batch_size=batch_size,\n",
    "        drop_remainder=False,\n",
    "        num_parallel_calls=tf.data.AUTOTUNE,\n",
    "    )\n",
    "    .prefetch(buffer_size=tf.data.AUTOTUNE)\n",
    ")\n",
    "val_ds = val_ds.batch(\n",
    "    batch_size=batch_size,\n",
    "    drop_remainder=True,\n",
    "    num_parallel_calls=tf.data.AUTOTUNE,\n",
    ")"
   ]
  },
  {
   "cell_type": "code",
   "execution_count": 11,
   "metadata": {},
   "outputs": [
    {
     "name": "stdout",
     "output_type": "stream",
     "text": [
      "(1024, 800, 1) (1024, 800, 1)\n"
     ]
    }
   ],
   "source": [
    "x, y = next(iter(val_ds))\n",
    "print(x.shape, y.shape)"
   ]
  },
  {
   "cell_type": "code",
   "execution_count": 12,
   "metadata": {},
   "outputs": [],
   "source": [
    "inputs = keras.Input(shape=(frame_size, 1), name=\"input\")\n",
    "\n",
    "encoder_params=dict(\n",
    "    input_filters=24,\n",
    "    input_kernel_size=(1, 9),\n",
    "    input_strides=(1, 2),\n",
    "    blocks=[\n",
    "        dict(filters=32, depth=2, kernel_size=(1, 9), strides=(1, 2), ex_ratio=1, se_ratio=4, norm=\"layer\"),\n",
    "        dict(filters=48, depth=2, kernel_size=(1, 9), strides=(1, 2), ex_ratio=1, se_ratio=4, norm=\"layer\"),\n",
    "        dict(filters=64, depth=2, kernel_size=(1, 9), strides=(1, 2), ex_ratio=1, se_ratio=4, norm=\"layer\"),\n",
    "        dict(filters=80, depth=1, kernel_size=(1, 9), strides=(1, 2), ex_ratio=1, se_ratio=4, norm=\"layer\"),\n",
    "        dict(filters=96, depth=1, kernel_size=(1, 9), strides=(1, 2), ex_ratio=1, se_ratio=4, norm=\"layer\"),\n",
    "    ],\n",
    "    output_filters=projection_width,\n",
    "    include_top=True,\n",
    ")\n",
    "\n",
    "encoder = nse.models.efficientnet.efficientnetv2_from_object(\n",
    "    x=inputs,\n",
    "    params=encoder_params,\n",
    "    num_classes=None\n",
    ")\n"
   ]
  },
  {
   "cell_type": "code",
   "execution_count": 13,
   "metadata": {},
   "outputs": [
    {
     "data": {
      "text/html": [
       "<pre style=\"white-space:pre;overflow-x:auto;line-height:normal;font-family:Menlo,'DejaVu Sans Mono',consolas,'Courier New',monospace\"></pre>\n"
      ],
      "text/plain": []
     },
     "metadata": {},
     "output_type": "display_data"
    },
    {
     "data": {
      "text/html": [
       "<pre style=\"white-space:pre;overflow-x:auto;line-height:normal;font-family:Menlo,'DejaVu Sans Mono',consolas,'Courier New',monospace\"><span style=\"color: #000080; text-decoration-color: #000080\">INFO    </span> Model: <span style=\"color: #008000; text-decoration-color: #008000\">\"EfficientNetV2\"</span>                                                               <a href=\"file:///workspaces/heartkit/.venv/lib/python3.12/site-packages/keras/src/utils/summary_utils.py\" target=\"_blank\"><span style=\"color: #7f7f7f; text-decoration-color: #7f7f7f\">summary_utils.py</span></a><span style=\"color: #7f7f7f; text-decoration-color: #7f7f7f\">:</span><a href=\"file:///workspaces/heartkit/.venv/lib/python3.12/site-packages/keras/src/utils/summary_utils.py#380\" target=\"_blank\"><span style=\"color: #7f7f7f; text-decoration-color: #7f7f7f\">380</span></a>\n",
       "         ┏━━━━━━━━━━━━━━━━━━━━━┳━━━━━━━━━━━━━━━━━━━┳━━━━━━━━━━━━┳━━━━━━━━━━━━━━━━━━━┓          <span style=\"color: #7f7f7f; text-decoration-color: #7f7f7f\">                    </span>\n",
       "         ┃ Layer <span style=\"font-weight: bold\">(</span>type<span style=\"font-weight: bold\">)</span>        ┃ Output Shape      ┃    Param # ┃ Connected to      ┃          <span style=\"color: #7f7f7f; text-decoration-color: #7f7f7f\">                    </span>\n",
       "         ┡━━━━━━━━━━━━━━━━━━━━━╇━━━━━━━━━━━━━━━━━━━╇━━━━━━━━━━━━╇━━━━━━━━━━━━━━━━━━━┩          <span style=\"color: #7f7f7f; text-decoration-color: #7f7f7f\">                    </span>\n",
       "         │ input <span style=\"font-weight: bold\">(</span>InputLayer<span style=\"font-weight: bold\">)</span>  │ <span style=\"font-weight: bold\">(</span><span style=\"color: #800080; text-decoration-color: #800080; font-style: italic\">None</span>, <span style=\"color: #008080; text-decoration-color: #008080; font-weight: bold\">800</span>, <span style=\"color: #008080; text-decoration-color: #008080; font-weight: bold\">1</span><span style=\"font-weight: bold\">)</span>    │          <span style=\"color: #008080; text-decoration-color: #008080; font-weight: bold\">0</span> │ -                 │          <span style=\"color: #7f7f7f; text-decoration-color: #7f7f7f\">                    </span>\n",
       "         ├─────────────────────┼───────────────────┼────────────┼───────────────────┤          <span style=\"color: #7f7f7f; text-decoration-color: #7f7f7f\">                    </span>\n",
       "         │ reshape <span style=\"font-weight: bold\">(</span>Reshape<span style=\"font-weight: bold\">)</span>   │ <span style=\"font-weight: bold\">(</span><span style=\"color: #800080; text-decoration-color: #800080; font-style: italic\">None</span>, <span style=\"color: #008080; text-decoration-color: #008080; font-weight: bold\">1</span>, <span style=\"color: #008080; text-decoration-color: #008080; font-weight: bold\">800</span>, <span style=\"color: #008080; text-decoration-color: #008080; font-weight: bold\">1</span><span style=\"font-weight: bold\">)</span> │          <span style=\"color: #008080; text-decoration-color: #008080; font-weight: bold\">0</span> │ input<span style=\"font-weight: bold\">[</span><span style=\"color: #008080; text-decoration-color: #008080; font-weight: bold\">0</span><span style=\"font-weight: bold\">][</span><span style=\"color: #008080; text-decoration-color: #008080; font-weight: bold\">0</span><span style=\"font-weight: bold\">]</span>       │          <span style=\"color: #7f7f7f; text-decoration-color: #7f7f7f\">                    </span>\n",
       "         ├─────────────────────┼───────────────────┼────────────┼───────────────────┤          <span style=\"color: #7f7f7f; text-decoration-color: #7f7f7f\">                    </span>\n",
       "         │ stem.conv <span style=\"font-weight: bold\">(</span>Conv2D<span style=\"font-weight: bold\">)</span>  │ <span style=\"font-weight: bold\">(</span><span style=\"color: #800080; text-decoration-color: #800080; font-style: italic\">None</span>, <span style=\"color: #008080; text-decoration-color: #008080; font-weight: bold\">1</span>, <span style=\"color: #008080; text-decoration-color: #008080; font-weight: bold\">400</span>,    │        <span style=\"color: #008080; text-decoration-color: #008080; font-weight: bold\">216</span> │ reshape<span style=\"font-weight: bold\">[</span><span style=\"color: #008080; text-decoration-color: #008080; font-weight: bold\">0</span><span style=\"font-weight: bold\">][</span><span style=\"color: #008080; text-decoration-color: #008080; font-weight: bold\">0</span><span style=\"font-weight: bold\">]</span>     │          <span style=\"color: #7f7f7f; text-decoration-color: #7f7f7f\">                    </span>\n",
       "         │                     │ <span style=\"color: #008080; text-decoration-color: #008080; font-weight: bold\">24</span><span style=\"font-weight: bold\">)</span>               │            │                   │          <span style=\"color: #7f7f7f; text-decoration-color: #7f7f7f\">                    </span>\n",
       "         ├─────────────────────┼───────────────────┼────────────┼───────────────────┤          <span style=\"color: #7f7f7f; text-decoration-color: #7f7f7f\">                    </span>\n",
       "         │ stem.bn             │ <span style=\"font-weight: bold\">(</span><span style=\"color: #800080; text-decoration-color: #800080; font-style: italic\">None</span>, <span style=\"color: #008080; text-decoration-color: #008080; font-weight: bold\">1</span>, <span style=\"color: #008080; text-decoration-color: #008080; font-weight: bold\">400</span>,    │         <span style=\"color: #008080; text-decoration-color: #008080; font-weight: bold\">96</span> │ stem.conv<span style=\"font-weight: bold\">[</span><span style=\"color: #008080; text-decoration-color: #008080; font-weight: bold\">0</span><span style=\"font-weight: bold\">][</span><span style=\"color: #008080; text-decoration-color: #008080; font-weight: bold\">0</span><span style=\"font-weight: bold\">]</span>   │          <span style=\"color: #7f7f7f; text-decoration-color: #7f7f7f\">                    </span>\n",
       "         │ <span style=\"font-weight: bold\">(</span>BatchNormalizatio… │ <span style=\"color: #008080; text-decoration-color: #008080; font-weight: bold\">24</span><span style=\"font-weight: bold\">)</span>               │            │                   │          <span style=\"color: #7f7f7f; text-decoration-color: #7f7f7f\">                    </span>\n",
       "         ├─────────────────────┼───────────────────┼────────────┼───────────────────┤          <span style=\"color: #7f7f7f; text-decoration-color: #7f7f7f\">                    </span>\n",
       "         │ stem.act            │ <span style=\"font-weight: bold\">(</span><span style=\"color: #800080; text-decoration-color: #800080; font-style: italic\">None</span>, <span style=\"color: #008080; text-decoration-color: #008080; font-weight: bold\">1</span>, <span style=\"color: #008080; text-decoration-color: #008080; font-weight: bold\">400</span>,    │          <span style=\"color: #008080; text-decoration-color: #008080; font-weight: bold\">0</span> │ stem.bn<span style=\"font-weight: bold\">[</span><span style=\"color: #008080; text-decoration-color: #008080; font-weight: bold\">0</span><span style=\"font-weight: bold\">][</span><span style=\"color: #008080; text-decoration-color: #008080; font-weight: bold\">0</span><span style=\"font-weight: bold\">]</span>     │          <span style=\"color: #7f7f7f; text-decoration-color: #7f7f7f\">                    </span>\n",
       "         │ <span style=\"font-weight: bold\">(</span>Activation<span style=\"font-weight: bold\">)</span>        │ <span style=\"color: #008080; text-decoration-color: #008080; font-weight: bold\">24</span><span style=\"font-weight: bold\">)</span>               │            │                   │          <span style=\"color: #7f7f7f; text-decoration-color: #7f7f7f\">                    </span>\n",
       "         ├─────────────────────┼───────────────────┼────────────┼───────────────────┤          <span style=\"color: #7f7f7f; text-decoration-color: #7f7f7f\">                    </span>\n",
       "         │ stage1.mbconv1.dp   │ <span style=\"font-weight: bold\">(</span><span style=\"color: #800080; text-decoration-color: #800080; font-style: italic\">None</span>, <span style=\"color: #008080; text-decoration-color: #008080; font-weight: bold\">1</span>, <span style=\"color: #008080; text-decoration-color: #008080; font-weight: bold\">400</span>,    │        <span style=\"color: #008080; text-decoration-color: #008080; font-weight: bold\">216</span> │ stem.act<span style=\"font-weight: bold\">[</span><span style=\"color: #008080; text-decoration-color: #008080; font-weight: bold\">0</span><span style=\"font-weight: bold\">][</span><span style=\"color: #008080; text-decoration-color: #008080; font-weight: bold\">0</span><span style=\"font-weight: bold\">]</span>    │          <span style=\"color: #7f7f7f; text-decoration-color: #7f7f7f\">                    </span>\n",
       "         │ <span style=\"font-weight: bold\">(</span>DepthwiseConv2D<span style=\"font-weight: bold\">)</span>   │ <span style=\"color: #008080; text-decoration-color: #008080; font-weight: bold\">24</span><span style=\"font-weight: bold\">)</span>               │            │                   │          <span style=\"color: #7f7f7f; text-decoration-color: #7f7f7f\">                    </span>\n",
       "         ├─────────────────────┼───────────────────┼────────────┼───────────────────┤          <span style=\"color: #7f7f7f; text-decoration-color: #7f7f7f\">                    </span>\n",
       "         │ stage1.mbconv1.dp.… │ <span style=\"font-weight: bold\">(</span><span style=\"color: #800080; text-decoration-color: #800080; font-style: italic\">None</span>, <span style=\"color: #008080; text-decoration-color: #008080; font-weight: bold\">1</span>, <span style=\"color: #008080; text-decoration-color: #008080; font-weight: bold\">400</span>,    │         <span style=\"color: #008080; text-decoration-color: #008080; font-weight: bold\">96</span> │ stage1.mbconv1.d… │          <span style=\"color: #7f7f7f; text-decoration-color: #7f7f7f\">                    </span>\n",
       "         │ <span style=\"font-weight: bold\">(</span>BatchNormalizatio… │ <span style=\"color: #008080; text-decoration-color: #008080; font-weight: bold\">24</span><span style=\"font-weight: bold\">)</span>               │            │                   │          <span style=\"color: #7f7f7f; text-decoration-color: #7f7f7f\">                    </span>\n",
       "         ├─────────────────────┼───────────────────┼────────────┼───────────────────┤          <span style=\"color: #7f7f7f; text-decoration-color: #7f7f7f\">                    </span>\n",
       "         │ stage1.mbconv1.dp.… │ <span style=\"font-weight: bold\">(</span><span style=\"color: #800080; text-decoration-color: #800080; font-style: italic\">None</span>, <span style=\"color: #008080; text-decoration-color: #008080; font-weight: bold\">1</span>, <span style=\"color: #008080; text-decoration-color: #008080; font-weight: bold\">400</span>,    │          <span style=\"color: #008080; text-decoration-color: #008080; font-weight: bold\">0</span> │ stage1.mbconv1.d… │          <span style=\"color: #7f7f7f; text-decoration-color: #7f7f7f\">                    </span>\n",
       "         │ <span style=\"font-weight: bold\">(</span>Activation<span style=\"font-weight: bold\">)</span>        │ <span style=\"color: #008080; text-decoration-color: #008080; font-weight: bold\">24</span><span style=\"font-weight: bold\">)</span>               │            │                   │          <span style=\"color: #7f7f7f; text-decoration-color: #7f7f7f\">                    </span>\n",
       "         ├─────────────────────┼───────────────────┼────────────┼───────────────────┤          <span style=\"color: #7f7f7f; text-decoration-color: #7f7f7f\">                    </span>\n",
       "         │ max_pooling2d       │ <span style=\"font-weight: bold\">(</span><span style=\"color: #800080; text-decoration-color: #800080; font-style: italic\">None</span>, <span style=\"color: #008080; text-decoration-color: #008080; font-weight: bold\">1</span>, <span style=\"color: #008080; text-decoration-color: #008080; font-weight: bold\">200</span>,    │          <span style=\"color: #008080; text-decoration-color: #008080; font-weight: bold\">0</span> │ stage1.mbconv1.d… │          <span style=\"color: #7f7f7f; text-decoration-color: #7f7f7f\">                    </span>\n",
       "         │ <span style=\"font-weight: bold\">(</span>MaxPooling2D<span style=\"font-weight: bold\">)</span>      │ <span style=\"color: #008080; text-decoration-color: #008080; font-weight: bold\">24</span><span style=\"font-weight: bold\">)</span>               │            │                   │          <span style=\"color: #7f7f7f; text-decoration-color: #7f7f7f\">                    </span>\n",
       "         ├─────────────────────┼───────────────────┼────────────┼───────────────────┤          <span style=\"color: #7f7f7f; text-decoration-color: #7f7f7f\">                    </span>\n",
       "         │ stage1.mbconv1.se.… │ <span style=\"font-weight: bold\">(</span><span style=\"color: #800080; text-decoration-color: #800080; font-style: italic\">None</span>, <span style=\"color: #008080; text-decoration-color: #008080; font-weight: bold\">1</span>, <span style=\"color: #008080; text-decoration-color: #008080; font-weight: bold\">1</span>, <span style=\"color: #008080; text-decoration-color: #008080; font-weight: bold\">24</span><span style=\"font-weight: bold\">)</span>  │          <span style=\"color: #008080; text-decoration-color: #008080; font-weight: bold\">0</span> │ max_pooling2d<span style=\"font-weight: bold\">[</span><span style=\"color: #008080; text-decoration-color: #008080; font-weight: bold\">0</span><span style=\"font-weight: bold\">]</span>… │          <span style=\"color: #7f7f7f; text-decoration-color: #7f7f7f\">                    </span>\n",
       "         │ <span style=\"font-weight: bold\">(</span>GlobalAveragePool… │                   │            │                   │          <span style=\"color: #7f7f7f; text-decoration-color: #7f7f7f\">                    </span>\n",
       "         ├─────────────────────┼───────────────────┼────────────┼───────────────────┤          <span style=\"color: #7f7f7f; text-decoration-color: #7f7f7f\">                    </span>\n",
       "         │ stage1.mbconv1.se.… │ <span style=\"font-weight: bold\">(</span><span style=\"color: #800080; text-decoration-color: #800080; font-style: italic\">None</span>, <span style=\"color: #008080; text-decoration-color: #008080; font-weight: bold\">1</span>, <span style=\"color: #008080; text-decoration-color: #008080; font-weight: bold\">1</span>, <span style=\"color: #008080; text-decoration-color: #008080; font-weight: bold\">6</span><span style=\"font-weight: bold\">)</span>   │        <span style=\"color: #008080; text-decoration-color: #008080; font-weight: bold\">150</span> │ stage1.mbconv1.s… │          <span style=\"color: #7f7f7f; text-decoration-color: #7f7f7f\">                    </span>\n",
       "         │ <span style=\"font-weight: bold\">(</span>Conv2D<span style=\"font-weight: bold\">)</span>            │                   │            │                   │          <span style=\"color: #7f7f7f; text-decoration-color: #7f7f7f\">                    </span>\n",
       "         ├─────────────────────┼───────────────────┼────────────┼───────────────────┤          <span style=\"color: #7f7f7f; text-decoration-color: #7f7f7f\">                    </span>\n",
       "         │ stage1.mbconv1.se.… │ <span style=\"font-weight: bold\">(</span><span style=\"color: #800080; text-decoration-color: #800080; font-style: italic\">None</span>, <span style=\"color: #008080; text-decoration-color: #008080; font-weight: bold\">1</span>, <span style=\"color: #008080; text-decoration-color: #008080; font-weight: bold\">1</span>, <span style=\"color: #008080; text-decoration-color: #008080; font-weight: bold\">6</span><span style=\"font-weight: bold\">)</span>   │          <span style=\"color: #008080; text-decoration-color: #008080; font-weight: bold\">0</span> │ stage1.mbconv1.s… │          <span style=\"color: #7f7f7f; text-decoration-color: #7f7f7f\">                    </span>\n",
       "         │ <span style=\"font-weight: bold\">(</span>Activation<span style=\"font-weight: bold\">)</span>        │                   │            │                   │          <span style=\"color: #7f7f7f; text-decoration-color: #7f7f7f\">                    </span>\n",
       "         ├─────────────────────┼───────────────────┼────────────┼───────────────────┤          <span style=\"color: #7f7f7f; text-decoration-color: #7f7f7f\">                    </span>\n",
       "         │ stage1.mbconv1.se.… │ <span style=\"font-weight: bold\">(</span><span style=\"color: #800080; text-decoration-color: #800080; font-style: italic\">None</span>, <span style=\"color: #008080; text-decoration-color: #008080; font-weight: bold\">1</span>, <span style=\"color: #008080; text-decoration-color: #008080; font-weight: bold\">1</span>, <span style=\"color: #008080; text-decoration-color: #008080; font-weight: bold\">24</span><span style=\"font-weight: bold\">)</span>  │        <span style=\"color: #008080; text-decoration-color: #008080; font-weight: bold\">168</span> │ stage1.mbconv1.s… │          <span style=\"color: #7f7f7f; text-decoration-color: #7f7f7f\">                    </span>\n",
       "         │ <span style=\"font-weight: bold\">(</span>Conv2D<span style=\"font-weight: bold\">)</span>            │                   │            │                   │          <span style=\"color: #7f7f7f; text-decoration-color: #7f7f7f\">                    </span>\n",
       "         ├─────────────────────┼───────────────────┼────────────┼───────────────────┤          <span style=\"color: #7f7f7f; text-decoration-color: #7f7f7f\">                    </span>\n",
       "         │ stage1.mbconv1.se.… │ <span style=\"font-weight: bold\">(</span><span style=\"color: #800080; text-decoration-color: #800080; font-style: italic\">None</span>, <span style=\"color: #008080; text-decoration-color: #008080; font-weight: bold\">1</span>, <span style=\"color: #008080; text-decoration-color: #008080; font-weight: bold\">1</span>, <span style=\"color: #008080; text-decoration-color: #008080; font-weight: bold\">24</span><span style=\"font-weight: bold\">)</span>  │          <span style=\"color: #008080; text-decoration-color: #008080; font-weight: bold\">0</span> │ stage1.mbconv1.s… │          <span style=\"color: #7f7f7f; text-decoration-color: #7f7f7f\">                    </span>\n",
       "         │ <span style=\"font-weight: bold\">(</span>Activation<span style=\"font-weight: bold\">)</span>        │                   │            │                   │          <span style=\"color: #7f7f7f; text-decoration-color: #7f7f7f\">                    </span>\n",
       "         ├─────────────────────┼───────────────────┼────────────┼───────────────────┤          <span style=\"color: #7f7f7f; text-decoration-color: #7f7f7f\">                    </span>\n",
       "         │ multiply <span style=\"font-weight: bold\">(</span>Multiply<span style=\"font-weight: bold\">)</span> │ <span style=\"font-weight: bold\">(</span><span style=\"color: #800080; text-decoration-color: #800080; font-style: italic\">None</span>, <span style=\"color: #008080; text-decoration-color: #008080; font-weight: bold\">1</span>, <span style=\"color: #008080; text-decoration-color: #008080; font-weight: bold\">200</span>,    │          <span style=\"color: #008080; text-decoration-color: #008080; font-weight: bold\">0</span> │ max_pooling2d<span style=\"font-weight: bold\">[</span><span style=\"color: #008080; text-decoration-color: #008080; font-weight: bold\">0</span><span style=\"font-weight: bold\">]</span>… │          <span style=\"color: #7f7f7f; text-decoration-color: #7f7f7f\">                    </span>\n",
       "         │                     │ <span style=\"color: #008080; text-decoration-color: #008080; font-weight: bold\">24</span><span style=\"font-weight: bold\">)</span>               │            │ stage1.mbconv1.s… │          <span style=\"color: #7f7f7f; text-decoration-color: #7f7f7f\">                    </span>\n",
       "         ├─────────────────────┼───────────────────┼────────────┼───────────────────┤          <span style=\"color: #7f7f7f; text-decoration-color: #7f7f7f\">                    </span>\n",
       "         │ stage1.mbconv1.red… │ <span style=\"font-weight: bold\">(</span><span style=\"color: #800080; text-decoration-color: #800080; font-style: italic\">None</span>, <span style=\"color: #008080; text-decoration-color: #008080; font-weight: bold\">1</span>, <span style=\"color: #008080; text-decoration-color: #008080; font-weight: bold\">200</span>,    │        <span style=\"color: #008080; text-decoration-color: #008080; font-weight: bold\">768</span> │ multiply<span style=\"font-weight: bold\">[</span><span style=\"color: #008080; text-decoration-color: #008080; font-weight: bold\">0</span><span style=\"font-weight: bold\">][</span><span style=\"color: #008080; text-decoration-color: #008080; font-weight: bold\">0</span><span style=\"font-weight: bold\">]</span>    │          <span style=\"color: #7f7f7f; text-decoration-color: #7f7f7f\">                    </span>\n",
       "         │ <span style=\"font-weight: bold\">(</span>Conv2D<span style=\"font-weight: bold\">)</span>            │ <span style=\"color: #008080; text-decoration-color: #008080; font-weight: bold\">32</span><span style=\"font-weight: bold\">)</span>               │            │                   │          <span style=\"color: #7f7f7f; text-decoration-color: #7f7f7f\">                    </span>\n",
       "         ├─────────────────────┼───────────────────┼────────────┼───────────────────┤          <span style=\"color: #7f7f7f; text-decoration-color: #7f7f7f\">                    </span>\n",
       "         │ stage1.mbconv1.red… │ <span style=\"font-weight: bold\">(</span><span style=\"color: #800080; text-decoration-color: #800080; font-style: italic\">None</span>, <span style=\"color: #008080; text-decoration-color: #008080; font-weight: bold\">1</span>, <span style=\"color: #008080; text-decoration-color: #008080; font-weight: bold\">200</span>,    │        <span style=\"color: #008080; text-decoration-color: #008080; font-weight: bold\">128</span> │ stage1.mbconv1.r… │          <span style=\"color: #7f7f7f; text-decoration-color: #7f7f7f\">                    </span>\n",
       "         │ <span style=\"font-weight: bold\">(</span>BatchNormalizatio… │ <span style=\"color: #008080; text-decoration-color: #008080; font-weight: bold\">32</span><span style=\"font-weight: bold\">)</span>               │            │                   │          <span style=\"color: #7f7f7f; text-decoration-color: #7f7f7f\">                    </span>\n",
       "         ├─────────────────────┼───────────────────┼────────────┼───────────────────┤          <span style=\"color: #7f7f7f; text-decoration-color: #7f7f7f\">                    </span>\n",
       "         │ stage1.mbconv2.dp   │ <span style=\"font-weight: bold\">(</span><span style=\"color: #800080; text-decoration-color: #800080; font-style: italic\">None</span>, <span style=\"color: #008080; text-decoration-color: #008080; font-weight: bold\">1</span>, <span style=\"color: #008080; text-decoration-color: #008080; font-weight: bold\">200</span>,    │        <span style=\"color: #008080; text-decoration-color: #008080; font-weight: bold\">288</span> │ stage1.mbconv1.r… │          <span style=\"color: #7f7f7f; text-decoration-color: #7f7f7f\">                    </span>\n",
       "         │ <span style=\"font-weight: bold\">(</span>DepthwiseConv2D<span style=\"font-weight: bold\">)</span>   │ <span style=\"color: #008080; text-decoration-color: #008080; font-weight: bold\">32</span><span style=\"font-weight: bold\">)</span>               │            │                   │          <span style=\"color: #7f7f7f; text-decoration-color: #7f7f7f\">                    </span>\n",
       "         ├─────────────────────┼───────────────────┼────────────┼───────────────────┤          <span style=\"color: #7f7f7f; text-decoration-color: #7f7f7f\">                    </span>\n",
       "         │ stage1.mbconv2.dp.… │ <span style=\"font-weight: bold\">(</span><span style=\"color: #800080; text-decoration-color: #800080; font-style: italic\">None</span>, <span style=\"color: #008080; text-decoration-color: #008080; font-weight: bold\">1</span>, <span style=\"color: #008080; text-decoration-color: #008080; font-weight: bold\">200</span>,    │        <span style=\"color: #008080; text-decoration-color: #008080; font-weight: bold\">128</span> │ stage1.mbconv2.d… │          <span style=\"color: #7f7f7f; text-decoration-color: #7f7f7f\">                    </span>\n",
       "         │ <span style=\"font-weight: bold\">(</span>BatchNormalizatio… │ <span style=\"color: #008080; text-decoration-color: #008080; font-weight: bold\">32</span><span style=\"font-weight: bold\">)</span>               │            │                   │          <span style=\"color: #7f7f7f; text-decoration-color: #7f7f7f\">                    </span>\n",
       "         ├─────────────────────┼───────────────────┼────────────┼───────────────────┤          <span style=\"color: #7f7f7f; text-decoration-color: #7f7f7f\">                    </span>\n",
       "         │ stage1.mbconv2.dp.… │ <span style=\"font-weight: bold\">(</span><span style=\"color: #800080; text-decoration-color: #800080; font-style: italic\">None</span>, <span style=\"color: #008080; text-decoration-color: #008080; font-weight: bold\">1</span>, <span style=\"color: #008080; text-decoration-color: #008080; font-weight: bold\">200</span>,    │          <span style=\"color: #008080; text-decoration-color: #008080; font-weight: bold\">0</span> │ stage1.mbconv2.d… │          <span style=\"color: #7f7f7f; text-decoration-color: #7f7f7f\">                    </span>\n",
       "         │ <span style=\"font-weight: bold\">(</span>Activation<span style=\"font-weight: bold\">)</span>        │ <span style=\"color: #008080; text-decoration-color: #008080; font-weight: bold\">32</span><span style=\"font-weight: bold\">)</span>               │            │                   │          <span style=\"color: #7f7f7f; text-decoration-color: #7f7f7f\">                    </span>\n",
       "         ├─────────────────────┼───────────────────┼────────────┼───────────────────┤          <span style=\"color: #7f7f7f; text-decoration-color: #7f7f7f\">                    </span>\n",
       "         │ stage1.mbconv2.se.… │ <span style=\"font-weight: bold\">(</span><span style=\"color: #800080; text-decoration-color: #800080; font-style: italic\">None</span>, <span style=\"color: #008080; text-decoration-color: #008080; font-weight: bold\">1</span>, <span style=\"color: #008080; text-decoration-color: #008080; font-weight: bold\">1</span>, <span style=\"color: #008080; text-decoration-color: #008080; font-weight: bold\">32</span><span style=\"font-weight: bold\">)</span>  │          <span style=\"color: #008080; text-decoration-color: #008080; font-weight: bold\">0</span> │ stage1.mbconv2.d… │          <span style=\"color: #7f7f7f; text-decoration-color: #7f7f7f\">                    </span>\n",
       "         │ <span style=\"font-weight: bold\">(</span>GlobalAveragePool… │                   │            │                   │          <span style=\"color: #7f7f7f; text-decoration-color: #7f7f7f\">                    </span>\n",
       "         ├─────────────────────┼───────────────────┼────────────┼───────────────────┤          <span style=\"color: #7f7f7f; text-decoration-color: #7f7f7f\">                    </span>\n",
       "         │ stage1.mbconv2.se.… │ <span style=\"font-weight: bold\">(</span><span style=\"color: #800080; text-decoration-color: #800080; font-style: italic\">None</span>, <span style=\"color: #008080; text-decoration-color: #008080; font-weight: bold\">1</span>, <span style=\"color: #008080; text-decoration-color: #008080; font-weight: bold\">1</span>, <span style=\"color: #008080; text-decoration-color: #008080; font-weight: bold\">8</span><span style=\"font-weight: bold\">)</span>   │        <span style=\"color: #008080; text-decoration-color: #008080; font-weight: bold\">264</span> │ stage1.mbconv2.s… │          <span style=\"color: #7f7f7f; text-decoration-color: #7f7f7f\">                    </span>\n",
       "         │ <span style=\"font-weight: bold\">(</span>Conv2D<span style=\"font-weight: bold\">)</span>            │                   │            │                   │          <span style=\"color: #7f7f7f; text-decoration-color: #7f7f7f\">                    </span>\n",
       "         ├─────────────────────┼───────────────────┼────────────┼───────────────────┤          <span style=\"color: #7f7f7f; text-decoration-color: #7f7f7f\">                    </span>\n",
       "         │ stage1.mbconv2.se.… │ <span style=\"font-weight: bold\">(</span><span style=\"color: #800080; text-decoration-color: #800080; font-style: italic\">None</span>, <span style=\"color: #008080; text-decoration-color: #008080; font-weight: bold\">1</span>, <span style=\"color: #008080; text-decoration-color: #008080; font-weight: bold\">1</span>, <span style=\"color: #008080; text-decoration-color: #008080; font-weight: bold\">8</span><span style=\"font-weight: bold\">)</span>   │          <span style=\"color: #008080; text-decoration-color: #008080; font-weight: bold\">0</span> │ stage1.mbconv2.s… │          <span style=\"color: #7f7f7f; text-decoration-color: #7f7f7f\">                    </span>\n",
       "         │ <span style=\"font-weight: bold\">(</span>Activation<span style=\"font-weight: bold\">)</span>        │                   │            │                   │          <span style=\"color: #7f7f7f; text-decoration-color: #7f7f7f\">                    </span>\n",
       "         ├─────────────────────┼───────────────────┼────────────┼───────────────────┤          <span style=\"color: #7f7f7f; text-decoration-color: #7f7f7f\">                    </span>\n",
       "         │ stage1.mbconv2.se.… │ <span style=\"font-weight: bold\">(</span><span style=\"color: #800080; text-decoration-color: #800080; font-style: italic\">None</span>, <span style=\"color: #008080; text-decoration-color: #008080; font-weight: bold\">1</span>, <span style=\"color: #008080; text-decoration-color: #008080; font-weight: bold\">1</span>, <span style=\"color: #008080; text-decoration-color: #008080; font-weight: bold\">32</span><span style=\"font-weight: bold\">)</span>  │        <span style=\"color: #008080; text-decoration-color: #008080; font-weight: bold\">288</span> │ stage1.mbconv2.s… │          <span style=\"color: #7f7f7f; text-decoration-color: #7f7f7f\">                    </span>\n",
       "         │ <span style=\"font-weight: bold\">(</span>Conv2D<span style=\"font-weight: bold\">)</span>            │                   │            │                   │          <span style=\"color: #7f7f7f; text-decoration-color: #7f7f7f\">                    </span>\n",
       "         ├─────────────────────┼───────────────────┼────────────┼───────────────────┤          <span style=\"color: #7f7f7f; text-decoration-color: #7f7f7f\">                    </span>\n",
       "         │ stage1.mbconv2.se.… │ <span style=\"font-weight: bold\">(</span><span style=\"color: #800080; text-decoration-color: #800080; font-style: italic\">None</span>, <span style=\"color: #008080; text-decoration-color: #008080; font-weight: bold\">1</span>, <span style=\"color: #008080; text-decoration-color: #008080; font-weight: bold\">1</span>, <span style=\"color: #008080; text-decoration-color: #008080; font-weight: bold\">32</span><span style=\"font-weight: bold\">)</span>  │          <span style=\"color: #008080; text-decoration-color: #008080; font-weight: bold\">0</span> │ stage1.mbconv2.s… │          <span style=\"color: #7f7f7f; text-decoration-color: #7f7f7f\">                    </span>\n",
       "         │ <span style=\"font-weight: bold\">(</span>Activation<span style=\"font-weight: bold\">)</span>        │                   │            │                   │          <span style=\"color: #7f7f7f; text-decoration-color: #7f7f7f\">                    </span>\n",
       "         ├─────────────────────┼───────────────────┼────────────┼───────────────────┤          <span style=\"color: #7f7f7f; text-decoration-color: #7f7f7f\">                    </span>\n",
       "         │ multiply_1          │ <span style=\"font-weight: bold\">(</span><span style=\"color: #800080; text-decoration-color: #800080; font-style: italic\">None</span>, <span style=\"color: #008080; text-decoration-color: #008080; font-weight: bold\">1</span>, <span style=\"color: #008080; text-decoration-color: #008080; font-weight: bold\">200</span>,    │          <span style=\"color: #008080; text-decoration-color: #008080; font-weight: bold\">0</span> │ stage1.mbconv2.d… │          <span style=\"color: #7f7f7f; text-decoration-color: #7f7f7f\">                    </span>\n",
       "         │ <span style=\"font-weight: bold\">(</span>Multiply<span style=\"font-weight: bold\">)</span>          │ <span style=\"color: #008080; text-decoration-color: #008080; font-weight: bold\">32</span><span style=\"font-weight: bold\">)</span>               │            │ stage1.mbconv2.s… │          <span style=\"color: #7f7f7f; text-decoration-color: #7f7f7f\">                    </span>\n",
       "         ├─────────────────────┼───────────────────┼────────────┼───────────────────┤          <span style=\"color: #7f7f7f; text-decoration-color: #7f7f7f\">                    </span>\n",
       "         │ stage1.mbconv2.red… │ <span style=\"font-weight: bold\">(</span><span style=\"color: #800080; text-decoration-color: #800080; font-style: italic\">None</span>, <span style=\"color: #008080; text-decoration-color: #008080; font-weight: bold\">1</span>, <span style=\"color: #008080; text-decoration-color: #008080; font-weight: bold\">200</span>,    │      <span style=\"color: #008080; text-decoration-color: #008080; font-weight: bold\">1</span>,<span style=\"color: #008080; text-decoration-color: #008080; font-weight: bold\">024</span> │ multiply_1<span style=\"font-weight: bold\">[</span><span style=\"color: #008080; text-decoration-color: #008080; font-weight: bold\">0</span><span style=\"font-weight: bold\">][</span><span style=\"color: #008080; text-decoration-color: #008080; font-weight: bold\">0</span><span style=\"font-weight: bold\">]</span>  │          <span style=\"color: #7f7f7f; text-decoration-color: #7f7f7f\">                    </span>\n",
       "         │ <span style=\"font-weight: bold\">(</span>Conv2D<span style=\"font-weight: bold\">)</span>            │ <span style=\"color: #008080; text-decoration-color: #008080; font-weight: bold\">32</span><span style=\"font-weight: bold\">)</span>               │            │                   │          <span style=\"color: #7f7f7f; text-decoration-color: #7f7f7f\">                    </span>\n",
       "         ├─────────────────────┼───────────────────┼────────────┼───────────────────┤          <span style=\"color: #7f7f7f; text-decoration-color: #7f7f7f\">                    </span>\n",
       "         │ stage1.mbconv2.red… │ <span style=\"font-weight: bold\">(</span><span style=\"color: #800080; text-decoration-color: #800080; font-style: italic\">None</span>, <span style=\"color: #008080; text-decoration-color: #008080; font-weight: bold\">1</span>, <span style=\"color: #008080; text-decoration-color: #008080; font-weight: bold\">200</span>,    │        <span style=\"color: #008080; text-decoration-color: #008080; font-weight: bold\">128</span> │ stage1.mbconv2.r… │          <span style=\"color: #7f7f7f; text-decoration-color: #7f7f7f\">                    </span>\n",
       "         │ <span style=\"font-weight: bold\">(</span>BatchNormalizatio… │ <span style=\"color: #008080; text-decoration-color: #008080; font-weight: bold\">32</span><span style=\"font-weight: bold\">)</span>               │            │                   │          <span style=\"color: #7f7f7f; text-decoration-color: #7f7f7f\">                    </span>\n",
       "         ├─────────────────────┼───────────────────┼────────────┼───────────────────┤          <span style=\"color: #7f7f7f; text-decoration-color: #7f7f7f\">                    </span>\n",
       "         │ dropout <span style=\"font-weight: bold\">(</span>Dropout<span style=\"font-weight: bold\">)</span>   │ <span style=\"font-weight: bold\">(</span><span style=\"color: #800080; text-decoration-color: #800080; font-style: italic\">None</span>, <span style=\"color: #008080; text-decoration-color: #008080; font-weight: bold\">1</span>, <span style=\"color: #008080; text-decoration-color: #008080; font-weight: bold\">200</span>,    │          <span style=\"color: #008080; text-decoration-color: #008080; font-weight: bold\">0</span> │ stage1.mbconv2.r… │          <span style=\"color: #7f7f7f; text-decoration-color: #7f7f7f\">                    </span>\n",
       "         │                     │ <span style=\"color: #008080; text-decoration-color: #008080; font-weight: bold\">32</span><span style=\"font-weight: bold\">)</span>               │            │                   │          <span style=\"color: #7f7f7f; text-decoration-color: #7f7f7f\">                    </span>\n",
       "         ├─────────────────────┼───────────────────┼────────────┼───────────────────┤          <span style=\"color: #7f7f7f; text-decoration-color: #7f7f7f\">                    </span>\n",
       "         │ stage1.mbconv2.res  │ <span style=\"font-weight: bold\">(</span><span style=\"color: #800080; text-decoration-color: #800080; font-style: italic\">None</span>, <span style=\"color: #008080; text-decoration-color: #008080; font-weight: bold\">1</span>, <span style=\"color: #008080; text-decoration-color: #008080; font-weight: bold\">200</span>,    │          <span style=\"color: #008080; text-decoration-color: #008080; font-weight: bold\">0</span> │ stage1.mbconv1.r… │          <span style=\"color: #7f7f7f; text-decoration-color: #7f7f7f\">                    </span>\n",
       "         │ <span style=\"font-weight: bold\">(</span>Add<span style=\"font-weight: bold\">)</span>               │ <span style=\"color: #008080; text-decoration-color: #008080; font-weight: bold\">32</span><span style=\"font-weight: bold\">)</span>               │            │ dropout<span style=\"font-weight: bold\">[</span><span style=\"color: #008080; text-decoration-color: #008080; font-weight: bold\">0</span><span style=\"font-weight: bold\">][</span><span style=\"color: #008080; text-decoration-color: #008080; font-weight: bold\">0</span><span style=\"font-weight: bold\">]</span>     │          <span style=\"color: #7f7f7f; text-decoration-color: #7f7f7f\">                    </span>\n",
       "         ├─────────────────────┼───────────────────┼────────────┼───────────────────┤          <span style=\"color: #7f7f7f; text-decoration-color: #7f7f7f\">                    </span>\n",
       "         │ stage2.mbconv1.dp   │ <span style=\"font-weight: bold\">(</span><span style=\"color: #800080; text-decoration-color: #800080; font-style: italic\">None</span>, <span style=\"color: #008080; text-decoration-color: #008080; font-weight: bold\">1</span>, <span style=\"color: #008080; text-decoration-color: #008080; font-weight: bold\">200</span>,    │        <span style=\"color: #008080; text-decoration-color: #008080; font-weight: bold\">288</span> │ stage1.mbconv2.r… │          <span style=\"color: #7f7f7f; text-decoration-color: #7f7f7f\">                    </span>\n",
       "         │ <span style=\"font-weight: bold\">(</span>DepthwiseConv2D<span style=\"font-weight: bold\">)</span>   │ <span style=\"color: #008080; text-decoration-color: #008080; font-weight: bold\">32</span><span style=\"font-weight: bold\">)</span>               │            │                   │          <span style=\"color: #7f7f7f; text-decoration-color: #7f7f7f\">                    </span>\n",
       "         ├─────────────────────┼───────────────────┼────────────┼───────────────────┤          <span style=\"color: #7f7f7f; text-decoration-color: #7f7f7f\">                    </span>\n",
       "         │ stage2.mbconv1.dp.… │ <span style=\"font-weight: bold\">(</span><span style=\"color: #800080; text-decoration-color: #800080; font-style: italic\">None</span>, <span style=\"color: #008080; text-decoration-color: #008080; font-weight: bold\">1</span>, <span style=\"color: #008080; text-decoration-color: #008080; font-weight: bold\">200</span>,    │        <span style=\"color: #008080; text-decoration-color: #008080; font-weight: bold\">128</span> │ stage2.mbconv1.d… │          <span style=\"color: #7f7f7f; text-decoration-color: #7f7f7f\">                    </span>\n",
       "         │ <span style=\"font-weight: bold\">(</span>BatchNormalizatio… │ <span style=\"color: #008080; text-decoration-color: #008080; font-weight: bold\">32</span><span style=\"font-weight: bold\">)</span>               │            │                   │          <span style=\"color: #7f7f7f; text-decoration-color: #7f7f7f\">                    </span>\n",
       "         ├─────────────────────┼───────────────────┼────────────┼───────────────────┤          <span style=\"color: #7f7f7f; text-decoration-color: #7f7f7f\">                    </span>\n",
       "         │ stage2.mbconv1.dp.… │ <span style=\"font-weight: bold\">(</span><span style=\"color: #800080; text-decoration-color: #800080; font-style: italic\">None</span>, <span style=\"color: #008080; text-decoration-color: #008080; font-weight: bold\">1</span>, <span style=\"color: #008080; text-decoration-color: #008080; font-weight: bold\">200</span>,    │          <span style=\"color: #008080; text-decoration-color: #008080; font-weight: bold\">0</span> │ stage2.mbconv1.d… │          <span style=\"color: #7f7f7f; text-decoration-color: #7f7f7f\">                    </span>\n",
       "         │ <span style=\"font-weight: bold\">(</span>Activation<span style=\"font-weight: bold\">)</span>        │ <span style=\"color: #008080; text-decoration-color: #008080; font-weight: bold\">32</span><span style=\"font-weight: bold\">)</span>               │            │                   │          <span style=\"color: #7f7f7f; text-decoration-color: #7f7f7f\">                    </span>\n",
       "         ├─────────────────────┼───────────────────┼────────────┼───────────────────┤          <span style=\"color: #7f7f7f; text-decoration-color: #7f7f7f\">                    </span>\n",
       "         │ max_pooling2d_1     │ <span style=\"font-weight: bold\">(</span><span style=\"color: #800080; text-decoration-color: #800080; font-style: italic\">None</span>, <span style=\"color: #008080; text-decoration-color: #008080; font-weight: bold\">1</span>, <span style=\"color: #008080; text-decoration-color: #008080; font-weight: bold\">100</span>,    │          <span style=\"color: #008080; text-decoration-color: #008080; font-weight: bold\">0</span> │ stage2.mbconv1.d… │          <span style=\"color: #7f7f7f; text-decoration-color: #7f7f7f\">                    </span>\n",
       "         │ <span style=\"font-weight: bold\">(</span>MaxPooling2D<span style=\"font-weight: bold\">)</span>      │ <span style=\"color: #008080; text-decoration-color: #008080; font-weight: bold\">32</span><span style=\"font-weight: bold\">)</span>               │            │                   │          <span style=\"color: #7f7f7f; text-decoration-color: #7f7f7f\">                    </span>\n",
       "         ├─────────────────────┼───────────────────┼────────────┼───────────────────┤          <span style=\"color: #7f7f7f; text-decoration-color: #7f7f7f\">                    </span>\n",
       "         │ stage2.mbconv1.se.… │ <span style=\"font-weight: bold\">(</span><span style=\"color: #800080; text-decoration-color: #800080; font-style: italic\">None</span>, <span style=\"color: #008080; text-decoration-color: #008080; font-weight: bold\">1</span>, <span style=\"color: #008080; text-decoration-color: #008080; font-weight: bold\">1</span>, <span style=\"color: #008080; text-decoration-color: #008080; font-weight: bold\">32</span><span style=\"font-weight: bold\">)</span>  │          <span style=\"color: #008080; text-decoration-color: #008080; font-weight: bold\">0</span> │ max_pooling2d_1<span style=\"font-weight: bold\">[</span>… │          <span style=\"color: #7f7f7f; text-decoration-color: #7f7f7f\">                    </span>\n",
       "         │ <span style=\"font-weight: bold\">(</span>GlobalAveragePool… │                   │            │                   │          <span style=\"color: #7f7f7f; text-decoration-color: #7f7f7f\">                    </span>\n",
       "         ├─────────────────────┼───────────────────┼────────────┼───────────────────┤          <span style=\"color: #7f7f7f; text-decoration-color: #7f7f7f\">                    </span>\n",
       "         │ stage2.mbconv1.se.… │ <span style=\"font-weight: bold\">(</span><span style=\"color: #800080; text-decoration-color: #800080; font-style: italic\">None</span>, <span style=\"color: #008080; text-decoration-color: #008080; font-weight: bold\">1</span>, <span style=\"color: #008080; text-decoration-color: #008080; font-weight: bold\">1</span>, <span style=\"color: #008080; text-decoration-color: #008080; font-weight: bold\">8</span><span style=\"font-weight: bold\">)</span>   │        <span style=\"color: #008080; text-decoration-color: #008080; font-weight: bold\">264</span> │ stage2.mbconv1.s… │          <span style=\"color: #7f7f7f; text-decoration-color: #7f7f7f\">                    </span>\n",
       "         │ <span style=\"font-weight: bold\">(</span>Conv2D<span style=\"font-weight: bold\">)</span>            │                   │            │                   │          <span style=\"color: #7f7f7f; text-decoration-color: #7f7f7f\">                    </span>\n",
       "         ├─────────────────────┼───────────────────┼────────────┼───────────────────┤          <span style=\"color: #7f7f7f; text-decoration-color: #7f7f7f\">                    </span>\n",
       "         │ stage2.mbconv1.se.… │ <span style=\"font-weight: bold\">(</span><span style=\"color: #800080; text-decoration-color: #800080; font-style: italic\">None</span>, <span style=\"color: #008080; text-decoration-color: #008080; font-weight: bold\">1</span>, <span style=\"color: #008080; text-decoration-color: #008080; font-weight: bold\">1</span>, <span style=\"color: #008080; text-decoration-color: #008080; font-weight: bold\">8</span><span style=\"font-weight: bold\">)</span>   │          <span style=\"color: #008080; text-decoration-color: #008080; font-weight: bold\">0</span> │ stage2.mbconv1.s… │          <span style=\"color: #7f7f7f; text-decoration-color: #7f7f7f\">                    </span>\n",
       "         │ <span style=\"font-weight: bold\">(</span>Activation<span style=\"font-weight: bold\">)</span>        │                   │            │                   │          <span style=\"color: #7f7f7f; text-decoration-color: #7f7f7f\">                    </span>\n",
       "         ├─────────────────────┼───────────────────┼────────────┼───────────────────┤          <span style=\"color: #7f7f7f; text-decoration-color: #7f7f7f\">                    </span>\n",
       "         │ stage2.mbconv1.se.… │ <span style=\"font-weight: bold\">(</span><span style=\"color: #800080; text-decoration-color: #800080; font-style: italic\">None</span>, <span style=\"color: #008080; text-decoration-color: #008080; font-weight: bold\">1</span>, <span style=\"color: #008080; text-decoration-color: #008080; font-weight: bold\">1</span>, <span style=\"color: #008080; text-decoration-color: #008080; font-weight: bold\">32</span><span style=\"font-weight: bold\">)</span>  │        <span style=\"color: #008080; text-decoration-color: #008080; font-weight: bold\">288</span> │ stage2.mbconv1.s… │          <span style=\"color: #7f7f7f; text-decoration-color: #7f7f7f\">                    </span>\n",
       "         │ <span style=\"font-weight: bold\">(</span>Conv2D<span style=\"font-weight: bold\">)</span>            │                   │            │                   │          <span style=\"color: #7f7f7f; text-decoration-color: #7f7f7f\">                    </span>\n",
       "         ├─────────────────────┼───────────────────┼────────────┼───────────────────┤          <span style=\"color: #7f7f7f; text-decoration-color: #7f7f7f\">                    </span>\n",
       "         │ stage2.mbconv1.se.… │ <span style=\"font-weight: bold\">(</span><span style=\"color: #800080; text-decoration-color: #800080; font-style: italic\">None</span>, <span style=\"color: #008080; text-decoration-color: #008080; font-weight: bold\">1</span>, <span style=\"color: #008080; text-decoration-color: #008080; font-weight: bold\">1</span>, <span style=\"color: #008080; text-decoration-color: #008080; font-weight: bold\">32</span><span style=\"font-weight: bold\">)</span>  │          <span style=\"color: #008080; text-decoration-color: #008080; font-weight: bold\">0</span> │ stage2.mbconv1.s… │          <span style=\"color: #7f7f7f; text-decoration-color: #7f7f7f\">                    </span>\n",
       "         │ <span style=\"font-weight: bold\">(</span>Activation<span style=\"font-weight: bold\">)</span>        │                   │            │                   │          <span style=\"color: #7f7f7f; text-decoration-color: #7f7f7f\">                    </span>\n",
       "         ├─────────────────────┼───────────────────┼────────────┼───────────────────┤          <span style=\"color: #7f7f7f; text-decoration-color: #7f7f7f\">                    </span>\n",
       "         │ multiply_2          │ <span style=\"font-weight: bold\">(</span><span style=\"color: #800080; text-decoration-color: #800080; font-style: italic\">None</span>, <span style=\"color: #008080; text-decoration-color: #008080; font-weight: bold\">1</span>, <span style=\"color: #008080; text-decoration-color: #008080; font-weight: bold\">100</span>,    │          <span style=\"color: #008080; text-decoration-color: #008080; font-weight: bold\">0</span> │ max_pooling2d_1<span style=\"font-weight: bold\">[</span>… │          <span style=\"color: #7f7f7f; text-decoration-color: #7f7f7f\">                    </span>\n",
       "         │ <span style=\"font-weight: bold\">(</span>Multiply<span style=\"font-weight: bold\">)</span>          │ <span style=\"color: #008080; text-decoration-color: #008080; font-weight: bold\">32</span><span style=\"font-weight: bold\">)</span>               │            │ stage2.mbconv1.s… │          <span style=\"color: #7f7f7f; text-decoration-color: #7f7f7f\">                    </span>\n",
       "         ├─────────────────────┼───────────────────┼────────────┼───────────────────┤          <span style=\"color: #7f7f7f; text-decoration-color: #7f7f7f\">                    </span>\n",
       "         │ stage2.mbconv1.red… │ <span style=\"font-weight: bold\">(</span><span style=\"color: #800080; text-decoration-color: #800080; font-style: italic\">None</span>, <span style=\"color: #008080; text-decoration-color: #008080; font-weight: bold\">1</span>, <span style=\"color: #008080; text-decoration-color: #008080; font-weight: bold\">100</span>,    │      <span style=\"color: #008080; text-decoration-color: #008080; font-weight: bold\">1</span>,<span style=\"color: #008080; text-decoration-color: #008080; font-weight: bold\">536</span> │ multiply_2<span style=\"font-weight: bold\">[</span><span style=\"color: #008080; text-decoration-color: #008080; font-weight: bold\">0</span><span style=\"font-weight: bold\">][</span><span style=\"color: #008080; text-decoration-color: #008080; font-weight: bold\">0</span><span style=\"font-weight: bold\">]</span>  │          <span style=\"color: #7f7f7f; text-decoration-color: #7f7f7f\">                    </span>\n",
       "         │ <span style=\"font-weight: bold\">(</span>Conv2D<span style=\"font-weight: bold\">)</span>            │ <span style=\"color: #008080; text-decoration-color: #008080; font-weight: bold\">48</span><span style=\"font-weight: bold\">)</span>               │            │                   │          <span style=\"color: #7f7f7f; text-decoration-color: #7f7f7f\">                    </span>\n",
       "         ├─────────────────────┼───────────────────┼────────────┼───────────────────┤          <span style=\"color: #7f7f7f; text-decoration-color: #7f7f7f\">                    </span>\n",
       "         │ stage2.mbconv1.red… │ <span style=\"font-weight: bold\">(</span><span style=\"color: #800080; text-decoration-color: #800080; font-style: italic\">None</span>, <span style=\"color: #008080; text-decoration-color: #008080; font-weight: bold\">1</span>, <span style=\"color: #008080; text-decoration-color: #008080; font-weight: bold\">100</span>,    │        <span style=\"color: #008080; text-decoration-color: #008080; font-weight: bold\">192</span> │ stage2.mbconv1.r… │          <span style=\"color: #7f7f7f; text-decoration-color: #7f7f7f\">                    </span>\n",
       "         │ <span style=\"font-weight: bold\">(</span>BatchNormalizatio… │ <span style=\"color: #008080; text-decoration-color: #008080; font-weight: bold\">48</span><span style=\"font-weight: bold\">)</span>               │            │                   │          <span style=\"color: #7f7f7f; text-decoration-color: #7f7f7f\">                    </span>\n",
       "         ├─────────────────────┼───────────────────┼────────────┼───────────────────┤          <span style=\"color: #7f7f7f; text-decoration-color: #7f7f7f\">                    </span>\n",
       "         │ stage2.mbconv2.dp   │ <span style=\"font-weight: bold\">(</span><span style=\"color: #800080; text-decoration-color: #800080; font-style: italic\">None</span>, <span style=\"color: #008080; text-decoration-color: #008080; font-weight: bold\">1</span>, <span style=\"color: #008080; text-decoration-color: #008080; font-weight: bold\">100</span>,    │        <span style=\"color: #008080; text-decoration-color: #008080; font-weight: bold\">432</span> │ stage2.mbconv1.r… │          <span style=\"color: #7f7f7f; text-decoration-color: #7f7f7f\">                    </span>\n",
       "         │ <span style=\"font-weight: bold\">(</span>DepthwiseConv2D<span style=\"font-weight: bold\">)</span>   │ <span style=\"color: #008080; text-decoration-color: #008080; font-weight: bold\">48</span><span style=\"font-weight: bold\">)</span>               │            │                   │          <span style=\"color: #7f7f7f; text-decoration-color: #7f7f7f\">                    </span>\n",
       "         ├─────────────────────┼───────────────────┼────────────┼───────────────────┤          <span style=\"color: #7f7f7f; text-decoration-color: #7f7f7f\">                    </span>\n",
       "         │ stage2.mbconv2.dp.… │ <span style=\"font-weight: bold\">(</span><span style=\"color: #800080; text-decoration-color: #800080; font-style: italic\">None</span>, <span style=\"color: #008080; text-decoration-color: #008080; font-weight: bold\">1</span>, <span style=\"color: #008080; text-decoration-color: #008080; font-weight: bold\">100</span>,    │        <span style=\"color: #008080; text-decoration-color: #008080; font-weight: bold\">192</span> │ stage2.mbconv2.d… │          <span style=\"color: #7f7f7f; text-decoration-color: #7f7f7f\">                    </span>\n",
       "         │ <span style=\"font-weight: bold\">(</span>BatchNormalizatio… │ <span style=\"color: #008080; text-decoration-color: #008080; font-weight: bold\">48</span><span style=\"font-weight: bold\">)</span>               │            │                   │          <span style=\"color: #7f7f7f; text-decoration-color: #7f7f7f\">                    </span>\n",
       "         ├─────────────────────┼───────────────────┼────────────┼───────────────────┤          <span style=\"color: #7f7f7f; text-decoration-color: #7f7f7f\">                    </span>\n",
       "         │ stage2.mbconv2.dp.… │ <span style=\"font-weight: bold\">(</span><span style=\"color: #800080; text-decoration-color: #800080; font-style: italic\">None</span>, <span style=\"color: #008080; text-decoration-color: #008080; font-weight: bold\">1</span>, <span style=\"color: #008080; text-decoration-color: #008080; font-weight: bold\">100</span>,    │          <span style=\"color: #008080; text-decoration-color: #008080; font-weight: bold\">0</span> │ stage2.mbconv2.d… │          <span style=\"color: #7f7f7f; text-decoration-color: #7f7f7f\">                    </span>\n",
       "         │ <span style=\"font-weight: bold\">(</span>Activation<span style=\"font-weight: bold\">)</span>        │ <span style=\"color: #008080; text-decoration-color: #008080; font-weight: bold\">48</span><span style=\"font-weight: bold\">)</span>               │            │                   │          <span style=\"color: #7f7f7f; text-decoration-color: #7f7f7f\">                    </span>\n",
       "         ├─────────────────────┼───────────────────┼────────────┼───────────────────┤          <span style=\"color: #7f7f7f; text-decoration-color: #7f7f7f\">                    </span>\n",
       "         │ stage2.mbconv2.se.… │ <span style=\"font-weight: bold\">(</span><span style=\"color: #800080; text-decoration-color: #800080; font-style: italic\">None</span>, <span style=\"color: #008080; text-decoration-color: #008080; font-weight: bold\">1</span>, <span style=\"color: #008080; text-decoration-color: #008080; font-weight: bold\">1</span>, <span style=\"color: #008080; text-decoration-color: #008080; font-weight: bold\">48</span><span style=\"font-weight: bold\">)</span>  │          <span style=\"color: #008080; text-decoration-color: #008080; font-weight: bold\">0</span> │ stage2.mbconv2.d… │          <span style=\"color: #7f7f7f; text-decoration-color: #7f7f7f\">                    </span>\n",
       "         │ <span style=\"font-weight: bold\">(</span>GlobalAveragePool… │                   │            │                   │          <span style=\"color: #7f7f7f; text-decoration-color: #7f7f7f\">                    </span>\n",
       "         ├─────────────────────┼───────────────────┼────────────┼───────────────────┤          <span style=\"color: #7f7f7f; text-decoration-color: #7f7f7f\">                    </span>\n",
       "         │ stage2.mbconv2.se.… │ <span style=\"font-weight: bold\">(</span><span style=\"color: #800080; text-decoration-color: #800080; font-style: italic\">None</span>, <span style=\"color: #008080; text-decoration-color: #008080; font-weight: bold\">1</span>, <span style=\"color: #008080; text-decoration-color: #008080; font-weight: bold\">1</span>, <span style=\"color: #008080; text-decoration-color: #008080; font-weight: bold\">12</span><span style=\"font-weight: bold\">)</span>  │        <span style=\"color: #008080; text-decoration-color: #008080; font-weight: bold\">588</span> │ stage2.mbconv2.s… │          <span style=\"color: #7f7f7f; text-decoration-color: #7f7f7f\">                    </span>\n",
       "         │ <span style=\"font-weight: bold\">(</span>Conv2D<span style=\"font-weight: bold\">)</span>            │                   │            │                   │          <span style=\"color: #7f7f7f; text-decoration-color: #7f7f7f\">                    </span>\n",
       "         ├─────────────────────┼───────────────────┼────────────┼───────────────────┤          <span style=\"color: #7f7f7f; text-decoration-color: #7f7f7f\">                    </span>\n",
       "         │ stage2.mbconv2.se.… │ <span style=\"font-weight: bold\">(</span><span style=\"color: #800080; text-decoration-color: #800080; font-style: italic\">None</span>, <span style=\"color: #008080; text-decoration-color: #008080; font-weight: bold\">1</span>, <span style=\"color: #008080; text-decoration-color: #008080; font-weight: bold\">1</span>, <span style=\"color: #008080; text-decoration-color: #008080; font-weight: bold\">12</span><span style=\"font-weight: bold\">)</span>  │          <span style=\"color: #008080; text-decoration-color: #008080; font-weight: bold\">0</span> │ stage2.mbconv2.s… │          <span style=\"color: #7f7f7f; text-decoration-color: #7f7f7f\">                    </span>\n",
       "         │ <span style=\"font-weight: bold\">(</span>Activation<span style=\"font-weight: bold\">)</span>        │                   │            │                   │          <span style=\"color: #7f7f7f; text-decoration-color: #7f7f7f\">                    </span>\n",
       "         ├─────────────────────┼───────────────────┼────────────┼───────────────────┤          <span style=\"color: #7f7f7f; text-decoration-color: #7f7f7f\">                    </span>\n",
       "         │ stage2.mbconv2.se.… │ <span style=\"font-weight: bold\">(</span><span style=\"color: #800080; text-decoration-color: #800080; font-style: italic\">None</span>, <span style=\"color: #008080; text-decoration-color: #008080; font-weight: bold\">1</span>, <span style=\"color: #008080; text-decoration-color: #008080; font-weight: bold\">1</span>, <span style=\"color: #008080; text-decoration-color: #008080; font-weight: bold\">48</span><span style=\"font-weight: bold\">)</span>  │        <span style=\"color: #008080; text-decoration-color: #008080; font-weight: bold\">624</span> │ stage2.mbconv2.s… │          <span style=\"color: #7f7f7f; text-decoration-color: #7f7f7f\">                    </span>\n",
       "         │ <span style=\"font-weight: bold\">(</span>Conv2D<span style=\"font-weight: bold\">)</span>            │                   │            │                   │          <span style=\"color: #7f7f7f; text-decoration-color: #7f7f7f\">                    </span>\n",
       "         ├─────────────────────┼───────────────────┼────────────┼───────────────────┤          <span style=\"color: #7f7f7f; text-decoration-color: #7f7f7f\">                    </span>\n",
       "         │ stage2.mbconv2.se.… │ <span style=\"font-weight: bold\">(</span><span style=\"color: #800080; text-decoration-color: #800080; font-style: italic\">None</span>, <span style=\"color: #008080; text-decoration-color: #008080; font-weight: bold\">1</span>, <span style=\"color: #008080; text-decoration-color: #008080; font-weight: bold\">1</span>, <span style=\"color: #008080; text-decoration-color: #008080; font-weight: bold\">48</span><span style=\"font-weight: bold\">)</span>  │          <span style=\"color: #008080; text-decoration-color: #008080; font-weight: bold\">0</span> │ stage2.mbconv2.s… │          <span style=\"color: #7f7f7f; text-decoration-color: #7f7f7f\">                    </span>\n",
       "         │ <span style=\"font-weight: bold\">(</span>Activation<span style=\"font-weight: bold\">)</span>        │                   │            │                   │          <span style=\"color: #7f7f7f; text-decoration-color: #7f7f7f\">                    </span>\n",
       "         ├─────────────────────┼───────────────────┼────────────┼───────────────────┤          <span style=\"color: #7f7f7f; text-decoration-color: #7f7f7f\">                    </span>\n",
       "         │ multiply_3          │ <span style=\"font-weight: bold\">(</span><span style=\"color: #800080; text-decoration-color: #800080; font-style: italic\">None</span>, <span style=\"color: #008080; text-decoration-color: #008080; font-weight: bold\">1</span>, <span style=\"color: #008080; text-decoration-color: #008080; font-weight: bold\">100</span>,    │          <span style=\"color: #008080; text-decoration-color: #008080; font-weight: bold\">0</span> │ stage2.mbconv2.d… │          <span style=\"color: #7f7f7f; text-decoration-color: #7f7f7f\">                    </span>\n",
       "         │ <span style=\"font-weight: bold\">(</span>Multiply<span style=\"font-weight: bold\">)</span>          │ <span style=\"color: #008080; text-decoration-color: #008080; font-weight: bold\">48</span><span style=\"font-weight: bold\">)</span>               │            │ stage2.mbconv2.s… │          <span style=\"color: #7f7f7f; text-decoration-color: #7f7f7f\">                    </span>\n",
       "         ├─────────────────────┼───────────────────┼────────────┼───────────────────┤          <span style=\"color: #7f7f7f; text-decoration-color: #7f7f7f\">                    </span>\n",
       "         │ stage2.mbconv2.red… │ <span style=\"font-weight: bold\">(</span><span style=\"color: #800080; text-decoration-color: #800080; font-style: italic\">None</span>, <span style=\"color: #008080; text-decoration-color: #008080; font-weight: bold\">1</span>, <span style=\"color: #008080; text-decoration-color: #008080; font-weight: bold\">100</span>,    │      <span style=\"color: #008080; text-decoration-color: #008080; font-weight: bold\">2</span>,<span style=\"color: #008080; text-decoration-color: #008080; font-weight: bold\">304</span> │ multiply_3<span style=\"font-weight: bold\">[</span><span style=\"color: #008080; text-decoration-color: #008080; font-weight: bold\">0</span><span style=\"font-weight: bold\">][</span><span style=\"color: #008080; text-decoration-color: #008080; font-weight: bold\">0</span><span style=\"font-weight: bold\">]</span>  │          <span style=\"color: #7f7f7f; text-decoration-color: #7f7f7f\">                    </span>\n",
       "         │ <span style=\"font-weight: bold\">(</span>Conv2D<span style=\"font-weight: bold\">)</span>            │ <span style=\"color: #008080; text-decoration-color: #008080; font-weight: bold\">48</span><span style=\"font-weight: bold\">)</span>               │            │                   │          <span style=\"color: #7f7f7f; text-decoration-color: #7f7f7f\">                    </span>\n",
       "         ├─────────────────────┼───────────────────┼────────────┼───────────────────┤          <span style=\"color: #7f7f7f; text-decoration-color: #7f7f7f\">                    </span>\n",
       "         │ stage2.mbconv2.red… │ <span style=\"font-weight: bold\">(</span><span style=\"color: #800080; text-decoration-color: #800080; font-style: italic\">None</span>, <span style=\"color: #008080; text-decoration-color: #008080; font-weight: bold\">1</span>, <span style=\"color: #008080; text-decoration-color: #008080; font-weight: bold\">100</span>,    │        <span style=\"color: #008080; text-decoration-color: #008080; font-weight: bold\">192</span> │ stage2.mbconv2.r… │          <span style=\"color: #7f7f7f; text-decoration-color: #7f7f7f\">                    </span>\n",
       "         │ <span style=\"font-weight: bold\">(</span>BatchNormalizatio… │ <span style=\"color: #008080; text-decoration-color: #008080; font-weight: bold\">48</span><span style=\"font-weight: bold\">)</span>               │            │                   │          <span style=\"color: #7f7f7f; text-decoration-color: #7f7f7f\">                    </span>\n",
       "         ├─────────────────────┼───────────────────┼────────────┼───────────────────┤          <span style=\"color: #7f7f7f; text-decoration-color: #7f7f7f\">                    </span>\n",
       "         │ dropout_1 <span style=\"font-weight: bold\">(</span>Dropout<span style=\"font-weight: bold\">)</span> │ <span style=\"font-weight: bold\">(</span><span style=\"color: #800080; text-decoration-color: #800080; font-style: italic\">None</span>, <span style=\"color: #008080; text-decoration-color: #008080; font-weight: bold\">1</span>, <span style=\"color: #008080; text-decoration-color: #008080; font-weight: bold\">100</span>,    │          <span style=\"color: #008080; text-decoration-color: #008080; font-weight: bold\">0</span> │ stage2.mbconv2.r… │          <span style=\"color: #7f7f7f; text-decoration-color: #7f7f7f\">                    </span>\n",
       "         │                     │ <span style=\"color: #008080; text-decoration-color: #008080; font-weight: bold\">48</span><span style=\"font-weight: bold\">)</span>               │            │                   │          <span style=\"color: #7f7f7f; text-decoration-color: #7f7f7f\">                    </span>\n",
       "         ├─────────────────────┼───────────────────┼────────────┼───────────────────┤          <span style=\"color: #7f7f7f; text-decoration-color: #7f7f7f\">                    </span>\n",
       "         │ stage2.mbconv2.res  │ <span style=\"font-weight: bold\">(</span><span style=\"color: #800080; text-decoration-color: #800080; font-style: italic\">None</span>, <span style=\"color: #008080; text-decoration-color: #008080; font-weight: bold\">1</span>, <span style=\"color: #008080; text-decoration-color: #008080; font-weight: bold\">100</span>,    │          <span style=\"color: #008080; text-decoration-color: #008080; font-weight: bold\">0</span> │ stage2.mbconv1.r… │          <span style=\"color: #7f7f7f; text-decoration-color: #7f7f7f\">                    </span>\n",
       "         │ <span style=\"font-weight: bold\">(</span>Add<span style=\"font-weight: bold\">)</span>               │ <span style=\"color: #008080; text-decoration-color: #008080; font-weight: bold\">48</span><span style=\"font-weight: bold\">)</span>               │            │ dropout_1<span style=\"font-weight: bold\">[</span><span style=\"color: #008080; text-decoration-color: #008080; font-weight: bold\">0</span><span style=\"font-weight: bold\">][</span><span style=\"color: #008080; text-decoration-color: #008080; font-weight: bold\">0</span><span style=\"font-weight: bold\">]</span>   │          <span style=\"color: #7f7f7f; text-decoration-color: #7f7f7f\">                    </span>\n",
       "         ├─────────────────────┼───────────────────┼────────────┼───────────────────┤          <span style=\"color: #7f7f7f; text-decoration-color: #7f7f7f\">                    </span>\n",
       "         │ stage3.mbconv1.dp   │ <span style=\"font-weight: bold\">(</span><span style=\"color: #800080; text-decoration-color: #800080; font-style: italic\">None</span>, <span style=\"color: #008080; text-decoration-color: #008080; font-weight: bold\">1</span>, <span style=\"color: #008080; text-decoration-color: #008080; font-weight: bold\">100</span>,    │        <span style=\"color: #008080; text-decoration-color: #008080; font-weight: bold\">432</span> │ stage2.mbconv2.r… │          <span style=\"color: #7f7f7f; text-decoration-color: #7f7f7f\">                    </span>\n",
       "         │ <span style=\"font-weight: bold\">(</span>DepthwiseConv2D<span style=\"font-weight: bold\">)</span>   │ <span style=\"color: #008080; text-decoration-color: #008080; font-weight: bold\">48</span><span style=\"font-weight: bold\">)</span>               │            │                   │          <span style=\"color: #7f7f7f; text-decoration-color: #7f7f7f\">                    </span>\n",
       "         ├─────────────────────┼───────────────────┼────────────┼───────────────────┤          <span style=\"color: #7f7f7f; text-decoration-color: #7f7f7f\">                    </span>\n",
       "         │ stage3.mbconv1.dp.… │ <span style=\"font-weight: bold\">(</span><span style=\"color: #800080; text-decoration-color: #800080; font-style: italic\">None</span>, <span style=\"color: #008080; text-decoration-color: #008080; font-weight: bold\">1</span>, <span style=\"color: #008080; text-decoration-color: #008080; font-weight: bold\">100</span>,    │        <span style=\"color: #008080; text-decoration-color: #008080; font-weight: bold\">192</span> │ stage3.mbconv1.d… │          <span style=\"color: #7f7f7f; text-decoration-color: #7f7f7f\">                    </span>\n",
       "         │ <span style=\"font-weight: bold\">(</span>BatchNormalizatio… │ <span style=\"color: #008080; text-decoration-color: #008080; font-weight: bold\">48</span><span style=\"font-weight: bold\">)</span>               │            │                   │          <span style=\"color: #7f7f7f; text-decoration-color: #7f7f7f\">                    </span>\n",
       "         ├─────────────────────┼───────────────────┼────────────┼───────────────────┤          <span style=\"color: #7f7f7f; text-decoration-color: #7f7f7f\">                    </span>\n",
       "         │ stage3.mbconv1.dp.… │ <span style=\"font-weight: bold\">(</span><span style=\"color: #800080; text-decoration-color: #800080; font-style: italic\">None</span>, <span style=\"color: #008080; text-decoration-color: #008080; font-weight: bold\">1</span>, <span style=\"color: #008080; text-decoration-color: #008080; font-weight: bold\">100</span>,    │          <span style=\"color: #008080; text-decoration-color: #008080; font-weight: bold\">0</span> │ stage3.mbconv1.d… │          <span style=\"color: #7f7f7f; text-decoration-color: #7f7f7f\">                    </span>\n",
       "         │ <span style=\"font-weight: bold\">(</span>Activation<span style=\"font-weight: bold\">)</span>        │ <span style=\"color: #008080; text-decoration-color: #008080; font-weight: bold\">48</span><span style=\"font-weight: bold\">)</span>               │            │                   │          <span style=\"color: #7f7f7f; text-decoration-color: #7f7f7f\">                    </span>\n",
       "         ├─────────────────────┼───────────────────┼────────────┼───────────────────┤          <span style=\"color: #7f7f7f; text-decoration-color: #7f7f7f\">                    </span>\n",
       "         │ max_pooling2d_2     │ <span style=\"font-weight: bold\">(</span><span style=\"color: #800080; text-decoration-color: #800080; font-style: italic\">None</span>, <span style=\"color: #008080; text-decoration-color: #008080; font-weight: bold\">1</span>, <span style=\"color: #008080; text-decoration-color: #008080; font-weight: bold\">50</span>, <span style=\"color: #008080; text-decoration-color: #008080; font-weight: bold\">48</span><span style=\"font-weight: bold\">)</span> │          <span style=\"color: #008080; text-decoration-color: #008080; font-weight: bold\">0</span> │ stage3.mbconv1.d… │          <span style=\"color: #7f7f7f; text-decoration-color: #7f7f7f\">                    </span>\n",
       "         │ <span style=\"font-weight: bold\">(</span>MaxPooling2D<span style=\"font-weight: bold\">)</span>      │                   │            │                   │          <span style=\"color: #7f7f7f; text-decoration-color: #7f7f7f\">                    </span>\n",
       "         ├─────────────────────┼───────────────────┼────────────┼───────────────────┤          <span style=\"color: #7f7f7f; text-decoration-color: #7f7f7f\">                    </span>\n",
       "         │ stage3.mbconv1.se.… │ <span style=\"font-weight: bold\">(</span><span style=\"color: #800080; text-decoration-color: #800080; font-style: italic\">None</span>, <span style=\"color: #008080; text-decoration-color: #008080; font-weight: bold\">1</span>, <span style=\"color: #008080; text-decoration-color: #008080; font-weight: bold\">1</span>, <span style=\"color: #008080; text-decoration-color: #008080; font-weight: bold\">48</span><span style=\"font-weight: bold\">)</span>  │          <span style=\"color: #008080; text-decoration-color: #008080; font-weight: bold\">0</span> │ max_pooling2d_2<span style=\"font-weight: bold\">[</span>… │          <span style=\"color: #7f7f7f; text-decoration-color: #7f7f7f\">                    </span>\n",
       "         │ <span style=\"font-weight: bold\">(</span>GlobalAveragePool… │                   │            │                   │          <span style=\"color: #7f7f7f; text-decoration-color: #7f7f7f\">                    </span>\n",
       "         ├─────────────────────┼───────────────────┼────────────┼───────────────────┤          <span style=\"color: #7f7f7f; text-decoration-color: #7f7f7f\">                    </span>\n",
       "         │ stage3.mbconv1.se.… │ <span style=\"font-weight: bold\">(</span><span style=\"color: #800080; text-decoration-color: #800080; font-style: italic\">None</span>, <span style=\"color: #008080; text-decoration-color: #008080; font-weight: bold\">1</span>, <span style=\"color: #008080; text-decoration-color: #008080; font-weight: bold\">1</span>, <span style=\"color: #008080; text-decoration-color: #008080; font-weight: bold\">12</span><span style=\"font-weight: bold\">)</span>  │        <span style=\"color: #008080; text-decoration-color: #008080; font-weight: bold\">588</span> │ stage3.mbconv1.s… │          <span style=\"color: #7f7f7f; text-decoration-color: #7f7f7f\">                    </span>\n",
       "         │ <span style=\"font-weight: bold\">(</span>Conv2D<span style=\"font-weight: bold\">)</span>            │                   │            │                   │          <span style=\"color: #7f7f7f; text-decoration-color: #7f7f7f\">                    </span>\n",
       "         ├─────────────────────┼───────────────────┼────────────┼───────────────────┤          <span style=\"color: #7f7f7f; text-decoration-color: #7f7f7f\">                    </span>\n",
       "         │ stage3.mbconv1.se.… │ <span style=\"font-weight: bold\">(</span><span style=\"color: #800080; text-decoration-color: #800080; font-style: italic\">None</span>, <span style=\"color: #008080; text-decoration-color: #008080; font-weight: bold\">1</span>, <span style=\"color: #008080; text-decoration-color: #008080; font-weight: bold\">1</span>, <span style=\"color: #008080; text-decoration-color: #008080; font-weight: bold\">12</span><span style=\"font-weight: bold\">)</span>  │          <span style=\"color: #008080; text-decoration-color: #008080; font-weight: bold\">0</span> │ stage3.mbconv1.s… │          <span style=\"color: #7f7f7f; text-decoration-color: #7f7f7f\">                    </span>\n",
       "         │ <span style=\"font-weight: bold\">(</span>Activation<span style=\"font-weight: bold\">)</span>        │                   │            │                   │          <span style=\"color: #7f7f7f; text-decoration-color: #7f7f7f\">                    </span>\n",
       "         ├─────────────────────┼───────────────────┼────────────┼───────────────────┤          <span style=\"color: #7f7f7f; text-decoration-color: #7f7f7f\">                    </span>\n",
       "         │ stage3.mbconv1.se.… │ <span style=\"font-weight: bold\">(</span><span style=\"color: #800080; text-decoration-color: #800080; font-style: italic\">None</span>, <span style=\"color: #008080; text-decoration-color: #008080; font-weight: bold\">1</span>, <span style=\"color: #008080; text-decoration-color: #008080; font-weight: bold\">1</span>, <span style=\"color: #008080; text-decoration-color: #008080; font-weight: bold\">48</span><span style=\"font-weight: bold\">)</span>  │        <span style=\"color: #008080; text-decoration-color: #008080; font-weight: bold\">624</span> │ stage3.mbconv1.s… │          <span style=\"color: #7f7f7f; text-decoration-color: #7f7f7f\">                    </span>\n",
       "         │ <span style=\"font-weight: bold\">(</span>Conv2D<span style=\"font-weight: bold\">)</span>            │                   │            │                   │          <span style=\"color: #7f7f7f; text-decoration-color: #7f7f7f\">                    </span>\n",
       "         ├─────────────────────┼───────────────────┼────────────┼───────────────────┤          <span style=\"color: #7f7f7f; text-decoration-color: #7f7f7f\">                    </span>\n",
       "         │ stage3.mbconv1.se.… │ <span style=\"font-weight: bold\">(</span><span style=\"color: #800080; text-decoration-color: #800080; font-style: italic\">None</span>, <span style=\"color: #008080; text-decoration-color: #008080; font-weight: bold\">1</span>, <span style=\"color: #008080; text-decoration-color: #008080; font-weight: bold\">1</span>, <span style=\"color: #008080; text-decoration-color: #008080; font-weight: bold\">48</span><span style=\"font-weight: bold\">)</span>  │          <span style=\"color: #008080; text-decoration-color: #008080; font-weight: bold\">0</span> │ stage3.mbconv1.s… │          <span style=\"color: #7f7f7f; text-decoration-color: #7f7f7f\">                    </span>\n",
       "         │ <span style=\"font-weight: bold\">(</span>Activation<span style=\"font-weight: bold\">)</span>        │                   │            │                   │          <span style=\"color: #7f7f7f; text-decoration-color: #7f7f7f\">                    </span>\n",
       "         ├─────────────────────┼───────────────────┼────────────┼───────────────────┤          <span style=\"color: #7f7f7f; text-decoration-color: #7f7f7f\">                    </span>\n",
       "         │ multiply_4          │ <span style=\"font-weight: bold\">(</span><span style=\"color: #800080; text-decoration-color: #800080; font-style: italic\">None</span>, <span style=\"color: #008080; text-decoration-color: #008080; font-weight: bold\">1</span>, <span style=\"color: #008080; text-decoration-color: #008080; font-weight: bold\">50</span>, <span style=\"color: #008080; text-decoration-color: #008080; font-weight: bold\">48</span><span style=\"font-weight: bold\">)</span> │          <span style=\"color: #008080; text-decoration-color: #008080; font-weight: bold\">0</span> │ max_pooling2d_2<span style=\"font-weight: bold\">[</span>… │          <span style=\"color: #7f7f7f; text-decoration-color: #7f7f7f\">                    </span>\n",
       "         │ <span style=\"font-weight: bold\">(</span>Multiply<span style=\"font-weight: bold\">)</span>          │                   │            │ stage3.mbconv1.s… │          <span style=\"color: #7f7f7f; text-decoration-color: #7f7f7f\">                    </span>\n",
       "         ├─────────────────────┼───────────────────┼────────────┼───────────────────┤          <span style=\"color: #7f7f7f; text-decoration-color: #7f7f7f\">                    </span>\n",
       "         │ stage3.mbconv1.red… │ <span style=\"font-weight: bold\">(</span><span style=\"color: #800080; text-decoration-color: #800080; font-style: italic\">None</span>, <span style=\"color: #008080; text-decoration-color: #008080; font-weight: bold\">1</span>, <span style=\"color: #008080; text-decoration-color: #008080; font-weight: bold\">50</span>, <span style=\"color: #008080; text-decoration-color: #008080; font-weight: bold\">64</span><span style=\"font-weight: bold\">)</span> │      <span style=\"color: #008080; text-decoration-color: #008080; font-weight: bold\">3</span>,<span style=\"color: #008080; text-decoration-color: #008080; font-weight: bold\">072</span> │ multiply_4<span style=\"font-weight: bold\">[</span><span style=\"color: #008080; text-decoration-color: #008080; font-weight: bold\">0</span><span style=\"font-weight: bold\">][</span><span style=\"color: #008080; text-decoration-color: #008080; font-weight: bold\">0</span><span style=\"font-weight: bold\">]</span>  │          <span style=\"color: #7f7f7f; text-decoration-color: #7f7f7f\">                    </span>\n",
       "         │ <span style=\"font-weight: bold\">(</span>Conv2D<span style=\"font-weight: bold\">)</span>            │                   │            │                   │          <span style=\"color: #7f7f7f; text-decoration-color: #7f7f7f\">                    </span>\n",
       "         ├─────────────────────┼───────────────────┼────────────┼───────────────────┤          <span style=\"color: #7f7f7f; text-decoration-color: #7f7f7f\">                    </span>\n",
       "         │ stage3.mbconv1.red… │ <span style=\"font-weight: bold\">(</span><span style=\"color: #800080; text-decoration-color: #800080; font-style: italic\">None</span>, <span style=\"color: #008080; text-decoration-color: #008080; font-weight: bold\">1</span>, <span style=\"color: #008080; text-decoration-color: #008080; font-weight: bold\">50</span>, <span style=\"color: #008080; text-decoration-color: #008080; font-weight: bold\">64</span><span style=\"font-weight: bold\">)</span> │        <span style=\"color: #008080; text-decoration-color: #008080; font-weight: bold\">256</span> │ stage3.mbconv1.r… │          <span style=\"color: #7f7f7f; text-decoration-color: #7f7f7f\">                    </span>\n",
       "         │ <span style=\"font-weight: bold\">(</span>BatchNormalizatio… │                   │            │                   │          <span style=\"color: #7f7f7f; text-decoration-color: #7f7f7f\">                    </span>\n",
       "         ├─────────────────────┼───────────────────┼────────────┼───────────────────┤          <span style=\"color: #7f7f7f; text-decoration-color: #7f7f7f\">                    </span>\n",
       "         │ stage3.mbconv2.dp   │ <span style=\"font-weight: bold\">(</span><span style=\"color: #800080; text-decoration-color: #800080; font-style: italic\">None</span>, <span style=\"color: #008080; text-decoration-color: #008080; font-weight: bold\">1</span>, <span style=\"color: #008080; text-decoration-color: #008080; font-weight: bold\">50</span>, <span style=\"color: #008080; text-decoration-color: #008080; font-weight: bold\">64</span><span style=\"font-weight: bold\">)</span> │        <span style=\"color: #008080; text-decoration-color: #008080; font-weight: bold\">576</span> │ stage3.mbconv1.r… │          <span style=\"color: #7f7f7f; text-decoration-color: #7f7f7f\">                    </span>\n",
       "         │ <span style=\"font-weight: bold\">(</span>DepthwiseConv2D<span style=\"font-weight: bold\">)</span>   │                   │            │                   │          <span style=\"color: #7f7f7f; text-decoration-color: #7f7f7f\">                    </span>\n",
       "         ├─────────────────────┼───────────────────┼────────────┼───────────────────┤          <span style=\"color: #7f7f7f; text-decoration-color: #7f7f7f\">                    </span>\n",
       "         │ stage3.mbconv2.dp.… │ <span style=\"font-weight: bold\">(</span><span style=\"color: #800080; text-decoration-color: #800080; font-style: italic\">None</span>, <span style=\"color: #008080; text-decoration-color: #008080; font-weight: bold\">1</span>, <span style=\"color: #008080; text-decoration-color: #008080; font-weight: bold\">50</span>, <span style=\"color: #008080; text-decoration-color: #008080; font-weight: bold\">64</span><span style=\"font-weight: bold\">)</span> │        <span style=\"color: #008080; text-decoration-color: #008080; font-weight: bold\">256</span> │ stage3.mbconv2.d… │          <span style=\"color: #7f7f7f; text-decoration-color: #7f7f7f\">                    </span>\n",
       "         │ <span style=\"font-weight: bold\">(</span>BatchNormalizatio… │                   │            │                   │          <span style=\"color: #7f7f7f; text-decoration-color: #7f7f7f\">                    </span>\n",
       "         ├─────────────────────┼───────────────────┼────────────┼───────────────────┤          <span style=\"color: #7f7f7f; text-decoration-color: #7f7f7f\">                    </span>\n",
       "         │ stage3.mbconv2.dp.… │ <span style=\"font-weight: bold\">(</span><span style=\"color: #800080; text-decoration-color: #800080; font-style: italic\">None</span>, <span style=\"color: #008080; text-decoration-color: #008080; font-weight: bold\">1</span>, <span style=\"color: #008080; text-decoration-color: #008080; font-weight: bold\">50</span>, <span style=\"color: #008080; text-decoration-color: #008080; font-weight: bold\">64</span><span style=\"font-weight: bold\">)</span> │          <span style=\"color: #008080; text-decoration-color: #008080; font-weight: bold\">0</span> │ stage3.mbconv2.d… │          <span style=\"color: #7f7f7f; text-decoration-color: #7f7f7f\">                    </span>\n",
       "         │ <span style=\"font-weight: bold\">(</span>Activation<span style=\"font-weight: bold\">)</span>        │                   │            │                   │          <span style=\"color: #7f7f7f; text-decoration-color: #7f7f7f\">                    </span>\n",
       "         ├─────────────────────┼───────────────────┼────────────┼───────────────────┤          <span style=\"color: #7f7f7f; text-decoration-color: #7f7f7f\">                    </span>\n",
       "         │ stage3.mbconv2.se.… │ <span style=\"font-weight: bold\">(</span><span style=\"color: #800080; text-decoration-color: #800080; font-style: italic\">None</span>, <span style=\"color: #008080; text-decoration-color: #008080; font-weight: bold\">1</span>, <span style=\"color: #008080; text-decoration-color: #008080; font-weight: bold\">1</span>, <span style=\"color: #008080; text-decoration-color: #008080; font-weight: bold\">64</span><span style=\"font-weight: bold\">)</span>  │          <span style=\"color: #008080; text-decoration-color: #008080; font-weight: bold\">0</span> │ stage3.mbconv2.d… │          <span style=\"color: #7f7f7f; text-decoration-color: #7f7f7f\">                    </span>\n",
       "         │ <span style=\"font-weight: bold\">(</span>GlobalAveragePool… │                   │            │                   │          <span style=\"color: #7f7f7f; text-decoration-color: #7f7f7f\">                    </span>\n",
       "         ├─────────────────────┼───────────────────┼────────────┼───────────────────┤          <span style=\"color: #7f7f7f; text-decoration-color: #7f7f7f\">                    </span>\n",
       "         │ stage3.mbconv2.se.… │ <span style=\"font-weight: bold\">(</span><span style=\"color: #800080; text-decoration-color: #800080; font-style: italic\">None</span>, <span style=\"color: #008080; text-decoration-color: #008080; font-weight: bold\">1</span>, <span style=\"color: #008080; text-decoration-color: #008080; font-weight: bold\">1</span>, <span style=\"color: #008080; text-decoration-color: #008080; font-weight: bold\">16</span><span style=\"font-weight: bold\">)</span>  │      <span style=\"color: #008080; text-decoration-color: #008080; font-weight: bold\">1</span>,<span style=\"color: #008080; text-decoration-color: #008080; font-weight: bold\">040</span> │ stage3.mbconv2.s… │          <span style=\"color: #7f7f7f; text-decoration-color: #7f7f7f\">                    </span>\n",
       "         │ <span style=\"font-weight: bold\">(</span>Conv2D<span style=\"font-weight: bold\">)</span>            │                   │            │                   │          <span style=\"color: #7f7f7f; text-decoration-color: #7f7f7f\">                    </span>\n",
       "         ├─────────────────────┼───────────────────┼────────────┼───────────────────┤          <span style=\"color: #7f7f7f; text-decoration-color: #7f7f7f\">                    </span>\n",
       "         │ stage3.mbconv2.se.… │ <span style=\"font-weight: bold\">(</span><span style=\"color: #800080; text-decoration-color: #800080; font-style: italic\">None</span>, <span style=\"color: #008080; text-decoration-color: #008080; font-weight: bold\">1</span>, <span style=\"color: #008080; text-decoration-color: #008080; font-weight: bold\">1</span>, <span style=\"color: #008080; text-decoration-color: #008080; font-weight: bold\">16</span><span style=\"font-weight: bold\">)</span>  │          <span style=\"color: #008080; text-decoration-color: #008080; font-weight: bold\">0</span> │ stage3.mbconv2.s… │          <span style=\"color: #7f7f7f; text-decoration-color: #7f7f7f\">                    </span>\n",
       "         │ <span style=\"font-weight: bold\">(</span>Activation<span style=\"font-weight: bold\">)</span>        │                   │            │                   │          <span style=\"color: #7f7f7f; text-decoration-color: #7f7f7f\">                    </span>\n",
       "         ├─────────────────────┼───────────────────┼────────────┼───────────────────┤          <span style=\"color: #7f7f7f; text-decoration-color: #7f7f7f\">                    </span>\n",
       "         │ stage3.mbconv2.se.… │ <span style=\"font-weight: bold\">(</span><span style=\"color: #800080; text-decoration-color: #800080; font-style: italic\">None</span>, <span style=\"color: #008080; text-decoration-color: #008080; font-weight: bold\">1</span>, <span style=\"color: #008080; text-decoration-color: #008080; font-weight: bold\">1</span>, <span style=\"color: #008080; text-decoration-color: #008080; font-weight: bold\">64</span><span style=\"font-weight: bold\">)</span>  │      <span style=\"color: #008080; text-decoration-color: #008080; font-weight: bold\">1</span>,<span style=\"color: #008080; text-decoration-color: #008080; font-weight: bold\">088</span> │ stage3.mbconv2.s… │          <span style=\"color: #7f7f7f; text-decoration-color: #7f7f7f\">                    </span>\n",
       "         │ <span style=\"font-weight: bold\">(</span>Conv2D<span style=\"font-weight: bold\">)</span>            │                   │            │                   │          <span style=\"color: #7f7f7f; text-decoration-color: #7f7f7f\">                    </span>\n",
       "         ├─────────────────────┼───────────────────┼────────────┼───────────────────┤          <span style=\"color: #7f7f7f; text-decoration-color: #7f7f7f\">                    </span>\n",
       "         │ stage3.mbconv2.se.… │ <span style=\"font-weight: bold\">(</span><span style=\"color: #800080; text-decoration-color: #800080; font-style: italic\">None</span>, <span style=\"color: #008080; text-decoration-color: #008080; font-weight: bold\">1</span>, <span style=\"color: #008080; text-decoration-color: #008080; font-weight: bold\">1</span>, <span style=\"color: #008080; text-decoration-color: #008080; font-weight: bold\">64</span><span style=\"font-weight: bold\">)</span>  │          <span style=\"color: #008080; text-decoration-color: #008080; font-weight: bold\">0</span> │ stage3.mbconv2.s… │          <span style=\"color: #7f7f7f; text-decoration-color: #7f7f7f\">                    </span>\n",
       "         │ <span style=\"font-weight: bold\">(</span>Activation<span style=\"font-weight: bold\">)</span>        │                   │            │                   │          <span style=\"color: #7f7f7f; text-decoration-color: #7f7f7f\">                    </span>\n",
       "         ├─────────────────────┼───────────────────┼────────────┼───────────────────┤          <span style=\"color: #7f7f7f; text-decoration-color: #7f7f7f\">                    </span>\n",
       "         │ multiply_5          │ <span style=\"font-weight: bold\">(</span><span style=\"color: #800080; text-decoration-color: #800080; font-style: italic\">None</span>, <span style=\"color: #008080; text-decoration-color: #008080; font-weight: bold\">1</span>, <span style=\"color: #008080; text-decoration-color: #008080; font-weight: bold\">50</span>, <span style=\"color: #008080; text-decoration-color: #008080; font-weight: bold\">64</span><span style=\"font-weight: bold\">)</span> │          <span style=\"color: #008080; text-decoration-color: #008080; font-weight: bold\">0</span> │ stage3.mbconv2.d… │          <span style=\"color: #7f7f7f; text-decoration-color: #7f7f7f\">                    </span>\n",
       "         │ <span style=\"font-weight: bold\">(</span>Multiply<span style=\"font-weight: bold\">)</span>          │                   │            │ stage3.mbconv2.s… │          <span style=\"color: #7f7f7f; text-decoration-color: #7f7f7f\">                    </span>\n",
       "         ├─────────────────────┼───────────────────┼────────────┼───────────────────┤          <span style=\"color: #7f7f7f; text-decoration-color: #7f7f7f\">                    </span>\n",
       "         │ stage3.mbconv2.red… │ <span style=\"font-weight: bold\">(</span><span style=\"color: #800080; text-decoration-color: #800080; font-style: italic\">None</span>, <span style=\"color: #008080; text-decoration-color: #008080; font-weight: bold\">1</span>, <span style=\"color: #008080; text-decoration-color: #008080; font-weight: bold\">50</span>, <span style=\"color: #008080; text-decoration-color: #008080; font-weight: bold\">64</span><span style=\"font-weight: bold\">)</span> │      <span style=\"color: #008080; text-decoration-color: #008080; font-weight: bold\">4</span>,<span style=\"color: #008080; text-decoration-color: #008080; font-weight: bold\">096</span> │ multiply_5<span style=\"font-weight: bold\">[</span><span style=\"color: #008080; text-decoration-color: #008080; font-weight: bold\">0</span><span style=\"font-weight: bold\">][</span><span style=\"color: #008080; text-decoration-color: #008080; font-weight: bold\">0</span><span style=\"font-weight: bold\">]</span>  │          <span style=\"color: #7f7f7f; text-decoration-color: #7f7f7f\">                    </span>\n",
       "         │ <span style=\"font-weight: bold\">(</span>Conv2D<span style=\"font-weight: bold\">)</span>            │                   │            │                   │          <span style=\"color: #7f7f7f; text-decoration-color: #7f7f7f\">                    </span>\n",
       "         ├─────────────────────┼───────────────────┼────────────┼───────────────────┤          <span style=\"color: #7f7f7f; text-decoration-color: #7f7f7f\">                    </span>\n",
       "         │ stage3.mbconv2.red… │ <span style=\"font-weight: bold\">(</span><span style=\"color: #800080; text-decoration-color: #800080; font-style: italic\">None</span>, <span style=\"color: #008080; text-decoration-color: #008080; font-weight: bold\">1</span>, <span style=\"color: #008080; text-decoration-color: #008080; font-weight: bold\">50</span>, <span style=\"color: #008080; text-decoration-color: #008080; font-weight: bold\">64</span><span style=\"font-weight: bold\">)</span> │        <span style=\"color: #008080; text-decoration-color: #008080; font-weight: bold\">256</span> │ stage3.mbconv2.r… │          <span style=\"color: #7f7f7f; text-decoration-color: #7f7f7f\">                    </span>\n",
       "         │ <span style=\"font-weight: bold\">(</span>BatchNormalizatio… │                   │            │                   │          <span style=\"color: #7f7f7f; text-decoration-color: #7f7f7f\">                    </span>\n",
       "         ├─────────────────────┼───────────────────┼────────────┼───────────────────┤          <span style=\"color: #7f7f7f; text-decoration-color: #7f7f7f\">                    </span>\n",
       "         │ dropout_2 <span style=\"font-weight: bold\">(</span>Dropout<span style=\"font-weight: bold\">)</span> │ <span style=\"font-weight: bold\">(</span><span style=\"color: #800080; text-decoration-color: #800080; font-style: italic\">None</span>, <span style=\"color: #008080; text-decoration-color: #008080; font-weight: bold\">1</span>, <span style=\"color: #008080; text-decoration-color: #008080; font-weight: bold\">50</span>, <span style=\"color: #008080; text-decoration-color: #008080; font-weight: bold\">64</span><span style=\"font-weight: bold\">)</span> │          <span style=\"color: #008080; text-decoration-color: #008080; font-weight: bold\">0</span> │ stage3.mbconv2.r… │          <span style=\"color: #7f7f7f; text-decoration-color: #7f7f7f\">                    </span>\n",
       "         ├─────────────────────┼───────────────────┼────────────┼───────────────────┤          <span style=\"color: #7f7f7f; text-decoration-color: #7f7f7f\">                    </span>\n",
       "         │ stage3.mbconv2.res  │ <span style=\"font-weight: bold\">(</span><span style=\"color: #800080; text-decoration-color: #800080; font-style: italic\">None</span>, <span style=\"color: #008080; text-decoration-color: #008080; font-weight: bold\">1</span>, <span style=\"color: #008080; text-decoration-color: #008080; font-weight: bold\">50</span>, <span style=\"color: #008080; text-decoration-color: #008080; font-weight: bold\">64</span><span style=\"font-weight: bold\">)</span> │          <span style=\"color: #008080; text-decoration-color: #008080; font-weight: bold\">0</span> │ stage3.mbconv1.r… │          <span style=\"color: #7f7f7f; text-decoration-color: #7f7f7f\">                    </span>\n",
       "         │ <span style=\"font-weight: bold\">(</span>Add<span style=\"font-weight: bold\">)</span>               │                   │            │ dropout_2<span style=\"font-weight: bold\">[</span><span style=\"color: #008080; text-decoration-color: #008080; font-weight: bold\">0</span><span style=\"font-weight: bold\">][</span><span style=\"color: #008080; text-decoration-color: #008080; font-weight: bold\">0</span><span style=\"font-weight: bold\">]</span>   │          <span style=\"color: #7f7f7f; text-decoration-color: #7f7f7f\">                    </span>\n",
       "         ├─────────────────────┼───────────────────┼────────────┼───────────────────┤          <span style=\"color: #7f7f7f; text-decoration-color: #7f7f7f\">                    </span>\n",
       "         │ stage4.mbconv1.dp   │ <span style=\"font-weight: bold\">(</span><span style=\"color: #800080; text-decoration-color: #800080; font-style: italic\">None</span>, <span style=\"color: #008080; text-decoration-color: #008080; font-weight: bold\">1</span>, <span style=\"color: #008080; text-decoration-color: #008080; font-weight: bold\">50</span>, <span style=\"color: #008080; text-decoration-color: #008080; font-weight: bold\">64</span><span style=\"font-weight: bold\">)</span> │        <span style=\"color: #008080; text-decoration-color: #008080; font-weight: bold\">576</span> │ stage3.mbconv2.r… │          <span style=\"color: #7f7f7f; text-decoration-color: #7f7f7f\">                    </span>\n",
       "         │ <span style=\"font-weight: bold\">(</span>DepthwiseConv2D<span style=\"font-weight: bold\">)</span>   │                   │            │                   │          <span style=\"color: #7f7f7f; text-decoration-color: #7f7f7f\">                    </span>\n",
       "         ├─────────────────────┼───────────────────┼────────────┼───────────────────┤          <span style=\"color: #7f7f7f; text-decoration-color: #7f7f7f\">                    </span>\n",
       "         │ stage4.mbconv1.dp.… │ <span style=\"font-weight: bold\">(</span><span style=\"color: #800080; text-decoration-color: #800080; font-style: italic\">None</span>, <span style=\"color: #008080; text-decoration-color: #008080; font-weight: bold\">1</span>, <span style=\"color: #008080; text-decoration-color: #008080; font-weight: bold\">50</span>, <span style=\"color: #008080; text-decoration-color: #008080; font-weight: bold\">64</span><span style=\"font-weight: bold\">)</span> │        <span style=\"color: #008080; text-decoration-color: #008080; font-weight: bold\">256</span> │ stage4.mbconv1.d… │          <span style=\"color: #7f7f7f; text-decoration-color: #7f7f7f\">                    </span>\n",
       "         │ <span style=\"font-weight: bold\">(</span>BatchNormalizatio… │                   │            │                   │          <span style=\"color: #7f7f7f; text-decoration-color: #7f7f7f\">                    </span>\n",
       "         ├─────────────────────┼───────────────────┼────────────┼───────────────────┤          <span style=\"color: #7f7f7f; text-decoration-color: #7f7f7f\">                    </span>\n",
       "         │ stage4.mbconv1.dp.… │ <span style=\"font-weight: bold\">(</span><span style=\"color: #800080; text-decoration-color: #800080; font-style: italic\">None</span>, <span style=\"color: #008080; text-decoration-color: #008080; font-weight: bold\">1</span>, <span style=\"color: #008080; text-decoration-color: #008080; font-weight: bold\">50</span>, <span style=\"color: #008080; text-decoration-color: #008080; font-weight: bold\">64</span><span style=\"font-weight: bold\">)</span> │          <span style=\"color: #008080; text-decoration-color: #008080; font-weight: bold\">0</span> │ stage4.mbconv1.d… │          <span style=\"color: #7f7f7f; text-decoration-color: #7f7f7f\">                    </span>\n",
       "         │ <span style=\"font-weight: bold\">(</span>Activation<span style=\"font-weight: bold\">)</span>        │                   │            │                   │          <span style=\"color: #7f7f7f; text-decoration-color: #7f7f7f\">                    </span>\n",
       "         ├─────────────────────┼───────────────────┼────────────┼───────────────────┤          <span style=\"color: #7f7f7f; text-decoration-color: #7f7f7f\">                    </span>\n",
       "         │ max_pooling2d_3     │ <span style=\"font-weight: bold\">(</span><span style=\"color: #800080; text-decoration-color: #800080; font-style: italic\">None</span>, <span style=\"color: #008080; text-decoration-color: #008080; font-weight: bold\">1</span>, <span style=\"color: #008080; text-decoration-color: #008080; font-weight: bold\">25</span>, <span style=\"color: #008080; text-decoration-color: #008080; font-weight: bold\">64</span><span style=\"font-weight: bold\">)</span> │          <span style=\"color: #008080; text-decoration-color: #008080; font-weight: bold\">0</span> │ stage4.mbconv1.d… │          <span style=\"color: #7f7f7f; text-decoration-color: #7f7f7f\">                    </span>\n",
       "         │ <span style=\"font-weight: bold\">(</span>MaxPooling2D<span style=\"font-weight: bold\">)</span>      │                   │            │                   │          <span style=\"color: #7f7f7f; text-decoration-color: #7f7f7f\">                    </span>\n",
       "         ├─────────────────────┼───────────────────┼────────────┼───────────────────┤          <span style=\"color: #7f7f7f; text-decoration-color: #7f7f7f\">                    </span>\n",
       "         │ stage4.mbconv1.se.… │ <span style=\"font-weight: bold\">(</span><span style=\"color: #800080; text-decoration-color: #800080; font-style: italic\">None</span>, <span style=\"color: #008080; text-decoration-color: #008080; font-weight: bold\">1</span>, <span style=\"color: #008080; text-decoration-color: #008080; font-weight: bold\">1</span>, <span style=\"color: #008080; text-decoration-color: #008080; font-weight: bold\">64</span><span style=\"font-weight: bold\">)</span>  │          <span style=\"color: #008080; text-decoration-color: #008080; font-weight: bold\">0</span> │ max_pooling2d_3<span style=\"font-weight: bold\">[</span>… │          <span style=\"color: #7f7f7f; text-decoration-color: #7f7f7f\">                    </span>\n",
       "         │ <span style=\"font-weight: bold\">(</span>GlobalAveragePool… │                   │            │                   │          <span style=\"color: #7f7f7f; text-decoration-color: #7f7f7f\">                    </span>\n",
       "         ├─────────────────────┼───────────────────┼────────────┼───────────────────┤          <span style=\"color: #7f7f7f; text-decoration-color: #7f7f7f\">                    </span>\n",
       "         │ stage4.mbconv1.se.… │ <span style=\"font-weight: bold\">(</span><span style=\"color: #800080; text-decoration-color: #800080; font-style: italic\">None</span>, <span style=\"color: #008080; text-decoration-color: #008080; font-weight: bold\">1</span>, <span style=\"color: #008080; text-decoration-color: #008080; font-weight: bold\">1</span>, <span style=\"color: #008080; text-decoration-color: #008080; font-weight: bold\">16</span><span style=\"font-weight: bold\">)</span>  │      <span style=\"color: #008080; text-decoration-color: #008080; font-weight: bold\">1</span>,<span style=\"color: #008080; text-decoration-color: #008080; font-weight: bold\">040</span> │ stage4.mbconv1.s… │          <span style=\"color: #7f7f7f; text-decoration-color: #7f7f7f\">                    </span>\n",
       "         │ <span style=\"font-weight: bold\">(</span>Conv2D<span style=\"font-weight: bold\">)</span>            │                   │            │                   │          <span style=\"color: #7f7f7f; text-decoration-color: #7f7f7f\">                    </span>\n",
       "         ├─────────────────────┼───────────────────┼────────────┼───────────────────┤          <span style=\"color: #7f7f7f; text-decoration-color: #7f7f7f\">                    </span>\n",
       "         │ stage4.mbconv1.se.… │ <span style=\"font-weight: bold\">(</span><span style=\"color: #800080; text-decoration-color: #800080; font-style: italic\">None</span>, <span style=\"color: #008080; text-decoration-color: #008080; font-weight: bold\">1</span>, <span style=\"color: #008080; text-decoration-color: #008080; font-weight: bold\">1</span>, <span style=\"color: #008080; text-decoration-color: #008080; font-weight: bold\">16</span><span style=\"font-weight: bold\">)</span>  │          <span style=\"color: #008080; text-decoration-color: #008080; font-weight: bold\">0</span> │ stage4.mbconv1.s… │          <span style=\"color: #7f7f7f; text-decoration-color: #7f7f7f\">                    </span>\n",
       "         │ <span style=\"font-weight: bold\">(</span>Activation<span style=\"font-weight: bold\">)</span>        │                   │            │                   │          <span style=\"color: #7f7f7f; text-decoration-color: #7f7f7f\">                    </span>\n",
       "         ├─────────────────────┼───────────────────┼────────────┼───────────────────┤          <span style=\"color: #7f7f7f; text-decoration-color: #7f7f7f\">                    </span>\n",
       "         │ stage4.mbconv1.se.… │ <span style=\"font-weight: bold\">(</span><span style=\"color: #800080; text-decoration-color: #800080; font-style: italic\">None</span>, <span style=\"color: #008080; text-decoration-color: #008080; font-weight: bold\">1</span>, <span style=\"color: #008080; text-decoration-color: #008080; font-weight: bold\">1</span>, <span style=\"color: #008080; text-decoration-color: #008080; font-weight: bold\">64</span><span style=\"font-weight: bold\">)</span>  │      <span style=\"color: #008080; text-decoration-color: #008080; font-weight: bold\">1</span>,<span style=\"color: #008080; text-decoration-color: #008080; font-weight: bold\">088</span> │ stage4.mbconv1.s… │          <span style=\"color: #7f7f7f; text-decoration-color: #7f7f7f\">                    </span>\n",
       "         │ <span style=\"font-weight: bold\">(</span>Conv2D<span style=\"font-weight: bold\">)</span>            │                   │            │                   │          <span style=\"color: #7f7f7f; text-decoration-color: #7f7f7f\">                    </span>\n",
       "         ├─────────────────────┼───────────────────┼────────────┼───────────────────┤          <span style=\"color: #7f7f7f; text-decoration-color: #7f7f7f\">                    </span>\n",
       "         │ stage4.mbconv1.se.… │ <span style=\"font-weight: bold\">(</span><span style=\"color: #800080; text-decoration-color: #800080; font-style: italic\">None</span>, <span style=\"color: #008080; text-decoration-color: #008080; font-weight: bold\">1</span>, <span style=\"color: #008080; text-decoration-color: #008080; font-weight: bold\">1</span>, <span style=\"color: #008080; text-decoration-color: #008080; font-weight: bold\">64</span><span style=\"font-weight: bold\">)</span>  │          <span style=\"color: #008080; text-decoration-color: #008080; font-weight: bold\">0</span> │ stage4.mbconv1.s… │          <span style=\"color: #7f7f7f; text-decoration-color: #7f7f7f\">                    </span>\n",
       "         │ <span style=\"font-weight: bold\">(</span>Activation<span style=\"font-weight: bold\">)</span>        │                   │            │                   │          <span style=\"color: #7f7f7f; text-decoration-color: #7f7f7f\">                    </span>\n",
       "         ├─────────────────────┼───────────────────┼────────────┼───────────────────┤          <span style=\"color: #7f7f7f; text-decoration-color: #7f7f7f\">                    </span>\n",
       "         │ multiply_6          │ <span style=\"font-weight: bold\">(</span><span style=\"color: #800080; text-decoration-color: #800080; font-style: italic\">None</span>, <span style=\"color: #008080; text-decoration-color: #008080; font-weight: bold\">1</span>, <span style=\"color: #008080; text-decoration-color: #008080; font-weight: bold\">25</span>, <span style=\"color: #008080; text-decoration-color: #008080; font-weight: bold\">64</span><span style=\"font-weight: bold\">)</span> │          <span style=\"color: #008080; text-decoration-color: #008080; font-weight: bold\">0</span> │ max_pooling2d_3<span style=\"font-weight: bold\">[</span>… │          <span style=\"color: #7f7f7f; text-decoration-color: #7f7f7f\">                    </span>\n",
       "         │ <span style=\"font-weight: bold\">(</span>Multiply<span style=\"font-weight: bold\">)</span>          │                   │            │ stage4.mbconv1.s… │          <span style=\"color: #7f7f7f; text-decoration-color: #7f7f7f\">                    </span>\n",
       "         ├─────────────────────┼───────────────────┼────────────┼───────────────────┤          <span style=\"color: #7f7f7f; text-decoration-color: #7f7f7f\">                    </span>\n",
       "         │ stage4.mbconv1.red… │ <span style=\"font-weight: bold\">(</span><span style=\"color: #800080; text-decoration-color: #800080; font-style: italic\">None</span>, <span style=\"color: #008080; text-decoration-color: #008080; font-weight: bold\">1</span>, <span style=\"color: #008080; text-decoration-color: #008080; font-weight: bold\">25</span>, <span style=\"color: #008080; text-decoration-color: #008080; font-weight: bold\">80</span><span style=\"font-weight: bold\">)</span> │      <span style=\"color: #008080; text-decoration-color: #008080; font-weight: bold\">5</span>,<span style=\"color: #008080; text-decoration-color: #008080; font-weight: bold\">120</span> │ multiply_6<span style=\"font-weight: bold\">[</span><span style=\"color: #008080; text-decoration-color: #008080; font-weight: bold\">0</span><span style=\"font-weight: bold\">][</span><span style=\"color: #008080; text-decoration-color: #008080; font-weight: bold\">0</span><span style=\"font-weight: bold\">]</span>  │          <span style=\"color: #7f7f7f; text-decoration-color: #7f7f7f\">                    </span>\n",
       "         │ <span style=\"font-weight: bold\">(</span>Conv2D<span style=\"font-weight: bold\">)</span>            │                   │            │                   │          <span style=\"color: #7f7f7f; text-decoration-color: #7f7f7f\">                    </span>\n",
       "         ├─────────────────────┼───────────────────┼────────────┼───────────────────┤          <span style=\"color: #7f7f7f; text-decoration-color: #7f7f7f\">                    </span>\n",
       "         │ stage4.mbconv1.red… │ <span style=\"font-weight: bold\">(</span><span style=\"color: #800080; text-decoration-color: #800080; font-style: italic\">None</span>, <span style=\"color: #008080; text-decoration-color: #008080; font-weight: bold\">1</span>, <span style=\"color: #008080; text-decoration-color: #008080; font-weight: bold\">25</span>, <span style=\"color: #008080; text-decoration-color: #008080; font-weight: bold\">80</span><span style=\"font-weight: bold\">)</span> │        <span style=\"color: #008080; text-decoration-color: #008080; font-weight: bold\">320</span> │ stage4.mbconv1.r… │          <span style=\"color: #7f7f7f; text-decoration-color: #7f7f7f\">                    </span>\n",
       "         │ <span style=\"font-weight: bold\">(</span>BatchNormalizatio… │                   │            │                   │          <span style=\"color: #7f7f7f; text-decoration-color: #7f7f7f\">                    </span>\n",
       "         ├─────────────────────┼───────────────────┼────────────┼───────────────────┤          <span style=\"color: #7f7f7f; text-decoration-color: #7f7f7f\">                    </span>\n",
       "         │ stage5.mbconv1.dp   │ <span style=\"font-weight: bold\">(</span><span style=\"color: #800080; text-decoration-color: #800080; font-style: italic\">None</span>, <span style=\"color: #008080; text-decoration-color: #008080; font-weight: bold\">1</span>, <span style=\"color: #008080; text-decoration-color: #008080; font-weight: bold\">25</span>, <span style=\"color: #008080; text-decoration-color: #008080; font-weight: bold\">80</span><span style=\"font-weight: bold\">)</span> │        <span style=\"color: #008080; text-decoration-color: #008080; font-weight: bold\">720</span> │ stage4.mbconv1.r… │          <span style=\"color: #7f7f7f; text-decoration-color: #7f7f7f\">                    </span>\n",
       "         │ <span style=\"font-weight: bold\">(</span>DepthwiseConv2D<span style=\"font-weight: bold\">)</span>   │                   │            │                   │          <span style=\"color: #7f7f7f; text-decoration-color: #7f7f7f\">                    </span>\n",
       "         ├─────────────────────┼───────────────────┼────────────┼───────────────────┤          <span style=\"color: #7f7f7f; text-decoration-color: #7f7f7f\">                    </span>\n",
       "         │ stage5.mbconv1.dp.… │ <span style=\"font-weight: bold\">(</span><span style=\"color: #800080; text-decoration-color: #800080; font-style: italic\">None</span>, <span style=\"color: #008080; text-decoration-color: #008080; font-weight: bold\">1</span>, <span style=\"color: #008080; text-decoration-color: #008080; font-weight: bold\">25</span>, <span style=\"color: #008080; text-decoration-color: #008080; font-weight: bold\">80</span><span style=\"font-weight: bold\">)</span> │        <span style=\"color: #008080; text-decoration-color: #008080; font-weight: bold\">320</span> │ stage5.mbconv1.d… │          <span style=\"color: #7f7f7f; text-decoration-color: #7f7f7f\">                    </span>\n",
       "         │ <span style=\"font-weight: bold\">(</span>BatchNormalizatio… │                   │            │                   │          <span style=\"color: #7f7f7f; text-decoration-color: #7f7f7f\">                    </span>\n",
       "         ├─────────────────────┼───────────────────┼────────────┼───────────────────┤          <span style=\"color: #7f7f7f; text-decoration-color: #7f7f7f\">                    </span>\n",
       "         │ stage5.mbconv1.dp.… │ <span style=\"font-weight: bold\">(</span><span style=\"color: #800080; text-decoration-color: #800080; font-style: italic\">None</span>, <span style=\"color: #008080; text-decoration-color: #008080; font-weight: bold\">1</span>, <span style=\"color: #008080; text-decoration-color: #008080; font-weight: bold\">25</span>, <span style=\"color: #008080; text-decoration-color: #008080; font-weight: bold\">80</span><span style=\"font-weight: bold\">)</span> │          <span style=\"color: #008080; text-decoration-color: #008080; font-weight: bold\">0</span> │ stage5.mbconv1.d… │          <span style=\"color: #7f7f7f; text-decoration-color: #7f7f7f\">                    </span>\n",
       "         │ <span style=\"font-weight: bold\">(</span>Activation<span style=\"font-weight: bold\">)</span>        │                   │            │                   │          <span style=\"color: #7f7f7f; text-decoration-color: #7f7f7f\">                    </span>\n",
       "         ├─────────────────────┼───────────────────┼────────────┼───────────────────┤          <span style=\"color: #7f7f7f; text-decoration-color: #7f7f7f\">                    </span>\n",
       "         │ max_pooling2d_4     │ <span style=\"font-weight: bold\">(</span><span style=\"color: #800080; text-decoration-color: #800080; font-style: italic\">None</span>, <span style=\"color: #008080; text-decoration-color: #008080; font-weight: bold\">1</span>, <span style=\"color: #008080; text-decoration-color: #008080; font-weight: bold\">13</span>, <span style=\"color: #008080; text-decoration-color: #008080; font-weight: bold\">80</span><span style=\"font-weight: bold\">)</span> │          <span style=\"color: #008080; text-decoration-color: #008080; font-weight: bold\">0</span> │ stage5.mbconv1.d… │          <span style=\"color: #7f7f7f; text-decoration-color: #7f7f7f\">                    </span>\n",
       "         │ <span style=\"font-weight: bold\">(</span>MaxPooling2D<span style=\"font-weight: bold\">)</span>      │                   │            │                   │          <span style=\"color: #7f7f7f; text-decoration-color: #7f7f7f\">                    </span>\n",
       "         ├─────────────────────┼───────────────────┼────────────┼───────────────────┤          <span style=\"color: #7f7f7f; text-decoration-color: #7f7f7f\">                    </span>\n",
       "         │ stage5.mbconv1.se.… │ <span style=\"font-weight: bold\">(</span><span style=\"color: #800080; text-decoration-color: #800080; font-style: italic\">None</span>, <span style=\"color: #008080; text-decoration-color: #008080; font-weight: bold\">1</span>, <span style=\"color: #008080; text-decoration-color: #008080; font-weight: bold\">1</span>, <span style=\"color: #008080; text-decoration-color: #008080; font-weight: bold\">80</span><span style=\"font-weight: bold\">)</span>  │          <span style=\"color: #008080; text-decoration-color: #008080; font-weight: bold\">0</span> │ max_pooling2d_4<span style=\"font-weight: bold\">[</span>… │          <span style=\"color: #7f7f7f; text-decoration-color: #7f7f7f\">                    </span>\n",
       "         │ <span style=\"font-weight: bold\">(</span>GlobalAveragePool… │                   │            │                   │          <span style=\"color: #7f7f7f; text-decoration-color: #7f7f7f\">                    </span>\n",
       "         ├─────────────────────┼───────────────────┼────────────┼───────────────────┤          <span style=\"color: #7f7f7f; text-decoration-color: #7f7f7f\">                    </span>\n",
       "         │ stage5.mbconv1.se.… │ <span style=\"font-weight: bold\">(</span><span style=\"color: #800080; text-decoration-color: #800080; font-style: italic\">None</span>, <span style=\"color: #008080; text-decoration-color: #008080; font-weight: bold\">1</span>, <span style=\"color: #008080; text-decoration-color: #008080; font-weight: bold\">1</span>, <span style=\"color: #008080; text-decoration-color: #008080; font-weight: bold\">20</span><span style=\"font-weight: bold\">)</span>  │      <span style=\"color: #008080; text-decoration-color: #008080; font-weight: bold\">1</span>,<span style=\"color: #008080; text-decoration-color: #008080; font-weight: bold\">620</span> │ stage5.mbconv1.s… │          <span style=\"color: #7f7f7f; text-decoration-color: #7f7f7f\">                    </span>\n",
       "         │ <span style=\"font-weight: bold\">(</span>Conv2D<span style=\"font-weight: bold\">)</span>            │                   │            │                   │          <span style=\"color: #7f7f7f; text-decoration-color: #7f7f7f\">                    </span>\n",
       "         ├─────────────────────┼───────────────────┼────────────┼───────────────────┤          <span style=\"color: #7f7f7f; text-decoration-color: #7f7f7f\">                    </span>\n",
       "         │ stage5.mbconv1.se.… │ <span style=\"font-weight: bold\">(</span><span style=\"color: #800080; text-decoration-color: #800080; font-style: italic\">None</span>, <span style=\"color: #008080; text-decoration-color: #008080; font-weight: bold\">1</span>, <span style=\"color: #008080; text-decoration-color: #008080; font-weight: bold\">1</span>, <span style=\"color: #008080; text-decoration-color: #008080; font-weight: bold\">20</span><span style=\"font-weight: bold\">)</span>  │          <span style=\"color: #008080; text-decoration-color: #008080; font-weight: bold\">0</span> │ stage5.mbconv1.s… │          <span style=\"color: #7f7f7f; text-decoration-color: #7f7f7f\">                    </span>\n",
       "         │ <span style=\"font-weight: bold\">(</span>Activation<span style=\"font-weight: bold\">)</span>        │                   │            │                   │          <span style=\"color: #7f7f7f; text-decoration-color: #7f7f7f\">                    </span>\n",
       "         ├─────────────────────┼───────────────────┼────────────┼───────────────────┤          <span style=\"color: #7f7f7f; text-decoration-color: #7f7f7f\">                    </span>\n",
       "         │ stage5.mbconv1.se.… │ <span style=\"font-weight: bold\">(</span><span style=\"color: #800080; text-decoration-color: #800080; font-style: italic\">None</span>, <span style=\"color: #008080; text-decoration-color: #008080; font-weight: bold\">1</span>, <span style=\"color: #008080; text-decoration-color: #008080; font-weight: bold\">1</span>, <span style=\"color: #008080; text-decoration-color: #008080; font-weight: bold\">80</span><span style=\"font-weight: bold\">)</span>  │      <span style=\"color: #008080; text-decoration-color: #008080; font-weight: bold\">1</span>,<span style=\"color: #008080; text-decoration-color: #008080; font-weight: bold\">680</span> │ stage5.mbconv1.s… │          <span style=\"color: #7f7f7f; text-decoration-color: #7f7f7f\">                    </span>\n",
       "         │ <span style=\"font-weight: bold\">(</span>Conv2D<span style=\"font-weight: bold\">)</span>            │                   │            │                   │          <span style=\"color: #7f7f7f; text-decoration-color: #7f7f7f\">                    </span>\n",
       "         ├─────────────────────┼───────────────────┼────────────┼───────────────────┤          <span style=\"color: #7f7f7f; text-decoration-color: #7f7f7f\">                    </span>\n",
       "         │ stage5.mbconv1.se.… │ <span style=\"font-weight: bold\">(</span><span style=\"color: #800080; text-decoration-color: #800080; font-style: italic\">None</span>, <span style=\"color: #008080; text-decoration-color: #008080; font-weight: bold\">1</span>, <span style=\"color: #008080; text-decoration-color: #008080; font-weight: bold\">1</span>, <span style=\"color: #008080; text-decoration-color: #008080; font-weight: bold\">80</span><span style=\"font-weight: bold\">)</span>  │          <span style=\"color: #008080; text-decoration-color: #008080; font-weight: bold\">0</span> │ stage5.mbconv1.s… │          <span style=\"color: #7f7f7f; text-decoration-color: #7f7f7f\">                    </span>\n",
       "         │ <span style=\"font-weight: bold\">(</span>Activation<span style=\"font-weight: bold\">)</span>        │                   │            │                   │          <span style=\"color: #7f7f7f; text-decoration-color: #7f7f7f\">                    </span>\n",
       "         ├─────────────────────┼───────────────────┼────────────┼───────────────────┤          <span style=\"color: #7f7f7f; text-decoration-color: #7f7f7f\">                    </span>\n",
       "         │ multiply_7          │ <span style=\"font-weight: bold\">(</span><span style=\"color: #800080; text-decoration-color: #800080; font-style: italic\">None</span>, <span style=\"color: #008080; text-decoration-color: #008080; font-weight: bold\">1</span>, <span style=\"color: #008080; text-decoration-color: #008080; font-weight: bold\">13</span>, <span style=\"color: #008080; text-decoration-color: #008080; font-weight: bold\">80</span><span style=\"font-weight: bold\">)</span> │          <span style=\"color: #008080; text-decoration-color: #008080; font-weight: bold\">0</span> │ max_pooling2d_4<span style=\"font-weight: bold\">[</span>… │          <span style=\"color: #7f7f7f; text-decoration-color: #7f7f7f\">                    </span>\n",
       "         │ <span style=\"font-weight: bold\">(</span>Multiply<span style=\"font-weight: bold\">)</span>          │                   │            │ stage5.mbconv1.s… │          <span style=\"color: #7f7f7f; text-decoration-color: #7f7f7f\">                    </span>\n",
       "         ├─────────────────────┼───────────────────┼────────────┼───────────────────┤          <span style=\"color: #7f7f7f; text-decoration-color: #7f7f7f\">                    </span>\n",
       "         │ stage5.mbconv1.red… │ <span style=\"font-weight: bold\">(</span><span style=\"color: #800080; text-decoration-color: #800080; font-style: italic\">None</span>, <span style=\"color: #008080; text-decoration-color: #008080; font-weight: bold\">1</span>, <span style=\"color: #008080; text-decoration-color: #008080; font-weight: bold\">13</span>, <span style=\"color: #008080; text-decoration-color: #008080; font-weight: bold\">96</span><span style=\"font-weight: bold\">)</span> │      <span style=\"color: #008080; text-decoration-color: #008080; font-weight: bold\">7</span>,<span style=\"color: #008080; text-decoration-color: #008080; font-weight: bold\">680</span> │ multiply_7<span style=\"font-weight: bold\">[</span><span style=\"color: #008080; text-decoration-color: #008080; font-weight: bold\">0</span><span style=\"font-weight: bold\">][</span><span style=\"color: #008080; text-decoration-color: #008080; font-weight: bold\">0</span><span style=\"font-weight: bold\">]</span>  │          <span style=\"color: #7f7f7f; text-decoration-color: #7f7f7f\">                    </span>\n",
       "         │ <span style=\"font-weight: bold\">(</span>Conv2D<span style=\"font-weight: bold\">)</span>            │                   │            │                   │          <span style=\"color: #7f7f7f; text-decoration-color: #7f7f7f\">                    </span>\n",
       "         ├─────────────────────┼───────────────────┼────────────┼───────────────────┤          <span style=\"color: #7f7f7f; text-decoration-color: #7f7f7f\">                    </span>\n",
       "         │ stage5.mbconv1.red… │ <span style=\"font-weight: bold\">(</span><span style=\"color: #800080; text-decoration-color: #800080; font-style: italic\">None</span>, <span style=\"color: #008080; text-decoration-color: #008080; font-weight: bold\">1</span>, <span style=\"color: #008080; text-decoration-color: #008080; font-weight: bold\">13</span>, <span style=\"color: #008080; text-decoration-color: #008080; font-weight: bold\">96</span><span style=\"font-weight: bold\">)</span> │        <span style=\"color: #008080; text-decoration-color: #008080; font-weight: bold\">384</span> │ stage5.mbconv1.r… │          <span style=\"color: #7f7f7f; text-decoration-color: #7f7f7f\">                    </span>\n",
       "         │ <span style=\"font-weight: bold\">(</span>BatchNormalizatio… │                   │            │                   │          <span style=\"color: #7f7f7f; text-decoration-color: #7f7f7f\">                    </span>\n",
       "         ├─────────────────────┼───────────────────┼────────────┼───────────────────┤          <span style=\"color: #7f7f7f; text-decoration-color: #7f7f7f\">                    </span>\n",
       "         │ neck.conv <span style=\"font-weight: bold\">(</span>Conv2D<span style=\"font-weight: bold\">)</span>  │ <span style=\"font-weight: bold\">(</span><span style=\"color: #800080; text-decoration-color: #800080; font-style: italic\">None</span>, <span style=\"color: #008080; text-decoration-color: #008080; font-weight: bold\">1</span>, <span style=\"color: #008080; text-decoration-color: #008080; font-weight: bold\">13</span>,     │     <span style=\"color: #008080; text-decoration-color: #008080; font-weight: bold\">12</span>,<span style=\"color: #008080; text-decoration-color: #008080; font-weight: bold\">288</span> │ stage5.mbconv1.r… │          <span style=\"color: #7f7f7f; text-decoration-color: #7f7f7f\">                    </span>\n",
       "         │                     │ <span style=\"color: #008080; text-decoration-color: #008080; font-weight: bold\">128</span><span style=\"font-weight: bold\">)</span>              │            │                   │          <span style=\"color: #7f7f7f; text-decoration-color: #7f7f7f\">                    </span>\n",
       "         ├─────────────────────┼───────────────────┼────────────┼───────────────────┤          <span style=\"color: #7f7f7f; text-decoration-color: #7f7f7f\">                    </span>\n",
       "         │ neck.bn             │ <span style=\"font-weight: bold\">(</span><span style=\"color: #800080; text-decoration-color: #800080; font-style: italic\">None</span>, <span style=\"color: #008080; text-decoration-color: #008080; font-weight: bold\">1</span>, <span style=\"color: #008080; text-decoration-color: #008080; font-weight: bold\">13</span>,     │        <span style=\"color: #008080; text-decoration-color: #008080; font-weight: bold\">512</span> │ neck.conv<span style=\"font-weight: bold\">[</span><span style=\"color: #008080; text-decoration-color: #008080; font-weight: bold\">0</span><span style=\"font-weight: bold\">][</span><span style=\"color: #008080; text-decoration-color: #008080; font-weight: bold\">0</span><span style=\"font-weight: bold\">]</span>   │          <span style=\"color: #7f7f7f; text-decoration-color: #7f7f7f\">                    </span>\n",
       "         │ <span style=\"font-weight: bold\">(</span>BatchNormalizatio… │ <span style=\"color: #008080; text-decoration-color: #008080; font-weight: bold\">128</span><span style=\"font-weight: bold\">)</span>              │            │                   │          <span style=\"color: #7f7f7f; text-decoration-color: #7f7f7f\">                    </span>\n",
       "         ├─────────────────────┼───────────────────┼────────────┼───────────────────┤          <span style=\"color: #7f7f7f; text-decoration-color: #7f7f7f\">                    </span>\n",
       "         │ neck.act            │ <span style=\"font-weight: bold\">(</span><span style=\"color: #800080; text-decoration-color: #800080; font-style: italic\">None</span>, <span style=\"color: #008080; text-decoration-color: #008080; font-weight: bold\">1</span>, <span style=\"color: #008080; text-decoration-color: #008080; font-weight: bold\">13</span>,     │          <span style=\"color: #008080; text-decoration-color: #008080; font-weight: bold\">0</span> │ neck.bn<span style=\"font-weight: bold\">[</span><span style=\"color: #008080; text-decoration-color: #008080; font-weight: bold\">0</span><span style=\"font-weight: bold\">][</span><span style=\"color: #008080; text-decoration-color: #008080; font-weight: bold\">0</span><span style=\"font-weight: bold\">]</span>     │          <span style=\"color: #7f7f7f; text-decoration-color: #7f7f7f\">                    </span>\n",
       "         │ <span style=\"font-weight: bold\">(</span>Activation<span style=\"font-weight: bold\">)</span>        │ <span style=\"color: #008080; text-decoration-color: #008080; font-weight: bold\">128</span><span style=\"font-weight: bold\">)</span>              │            │                   │          <span style=\"color: #7f7f7f; text-decoration-color: #7f7f7f\">                    </span>\n",
       "         ├─────────────────────┼───────────────────┼────────────┼───────────────────┤          <span style=\"color: #7f7f7f; text-decoration-color: #7f7f7f\">                    </span>\n",
       "         │ top.pool            │ <span style=\"font-weight: bold\">(</span><span style=\"color: #800080; text-decoration-color: #800080; font-style: italic\">None</span>, <span style=\"color: #008080; text-decoration-color: #008080; font-weight: bold\">128</span><span style=\"font-weight: bold\">)</span>       │          <span style=\"color: #008080; text-decoration-color: #008080; font-weight: bold\">0</span> │ neck.act<span style=\"font-weight: bold\">[</span><span style=\"color: #008080; text-decoration-color: #008080; font-weight: bold\">0</span><span style=\"font-weight: bold\">][</span><span style=\"color: #008080; text-decoration-color: #008080; font-weight: bold\">0</span><span style=\"font-weight: bold\">]</span>    │          <span style=\"color: #7f7f7f; text-decoration-color: #7f7f7f\">                    </span>\n",
       "         │ <span style=\"font-weight: bold\">(</span>GlobalAveragePool… │                   │            │                   │          <span style=\"color: #7f7f7f; text-decoration-color: #7f7f7f\">                    </span>\n",
       "         ├─────────────────────┼───────────────────┼────────────┼───────────────────┤          <span style=\"color: #7f7f7f; text-decoration-color: #7f7f7f\">                    </span>\n",
       "         │ dropout_3 <span style=\"font-weight: bold\">(</span>Dropout<span style=\"font-weight: bold\">)</span> │ <span style=\"font-weight: bold\">(</span><span style=\"color: #800080; text-decoration-color: #800080; font-style: italic\">None</span>, <span style=\"color: #008080; text-decoration-color: #008080; font-weight: bold\">128</span><span style=\"font-weight: bold\">)</span>       │          <span style=\"color: #008080; text-decoration-color: #008080; font-weight: bold\">0</span> │ top.pool<span style=\"font-weight: bold\">[</span><span style=\"color: #008080; text-decoration-color: #008080; font-weight: bold\">0</span><span style=\"font-weight: bold\">][</span><span style=\"color: #008080; text-decoration-color: #008080; font-weight: bold\">0</span><span style=\"font-weight: bold\">]</span>    │          <span style=\"color: #7f7f7f; text-decoration-color: #7f7f7f\">                    </span>\n",
       "         └─────────────────────┴───────────────────┴────────────┴───────────────────┘          <span style=\"color: #7f7f7f; text-decoration-color: #7f7f7f\">                    </span>\n",
       "          Total params: <span style=\"color: #008080; text-decoration-color: #008080; font-weight: bold\">57</span>,<span style=\"color: #008080; text-decoration-color: #008080; font-weight: bold\">066</span> <span style=\"font-weight: bold\">(</span><span style=\"color: #008080; text-decoration-color: #008080; font-weight: bold\">222.91</span> KB<span style=\"font-weight: bold\">)</span>                                                     <span style=\"color: #7f7f7f; text-decoration-color: #7f7f7f\">                    </span>\n",
       "          Trainable params: <span style=\"color: #008080; text-decoration-color: #008080; font-weight: bold\">55</span>,<span style=\"color: #008080; text-decoration-color: #008080; font-weight: bold\">050</span> <span style=\"font-weight: bold\">(</span><span style=\"color: #008080; text-decoration-color: #008080; font-weight: bold\">215.04</span> KB<span style=\"font-weight: bold\">)</span>                                                 <span style=\"color: #7f7f7f; text-decoration-color: #7f7f7f\">                    </span>\n",
       "          Non-trainable params: <span style=\"color: #008080; text-decoration-color: #008080; font-weight: bold\">2</span>,<span style=\"color: #008080; text-decoration-color: #008080; font-weight: bold\">016</span> <span style=\"font-weight: bold\">(</span><span style=\"color: #008080; text-decoration-color: #008080; font-weight: bold\">7.88</span> KB<span style=\"font-weight: bold\">)</span>                                                <span style=\"color: #7f7f7f; text-decoration-color: #7f7f7f\">                    </span>\n",
       "                                                                                               <span style=\"color: #7f7f7f; text-decoration-color: #7f7f7f\">                    </span>\n",
       "</pre>\n"
      ],
      "text/plain": [
       "\u001b[34mINFO    \u001b[0m Model: \u001b[32m\"EfficientNetV2\"\u001b[0m                                                               \u001b]8;id=405106;file:///workspaces/heartkit/.venv/lib/python3.12/site-packages/keras/src/utils/summary_utils.py\u001b\\\u001b[2msummary_utils.py\u001b[0m\u001b]8;;\u001b\\\u001b[2m:\u001b[0m\u001b]8;id=760327;file:///workspaces/heartkit/.venv/lib/python3.12/site-packages/keras/src/utils/summary_utils.py#380\u001b\\\u001b[2m380\u001b[0m\u001b]8;;\u001b\\\n",
       "         ┏━━━━━━━━━━━━━━━━━━━━━┳━━━━━━━━━━━━━━━━━━━┳━━━━━━━━━━━━┳━━━━━━━━━━━━━━━━━━━┓          \u001b[2m                    \u001b[0m\n",
       "         ┃ Layer \u001b[1m(\u001b[0mtype\u001b[1m)\u001b[0m        ┃ Output Shape      ┃    Param # ┃ Connected to      ┃          \u001b[2m                    \u001b[0m\n",
       "         ┡━━━━━━━━━━━━━━━━━━━━━╇━━━━━━━━━━━━━━━━━━━╇━━━━━━━━━━━━╇━━━━━━━━━━━━━━━━━━━┩          \u001b[2m                    \u001b[0m\n",
       "         │ input \u001b[1m(\u001b[0mInputLayer\u001b[1m)\u001b[0m  │ \u001b[1m(\u001b[0m\u001b[3;35mNone\u001b[0m, \u001b[1;36m800\u001b[0m, \u001b[1;36m1\u001b[0m\u001b[1m)\u001b[0m    │          \u001b[1;36m0\u001b[0m │ -                 │          \u001b[2m                    \u001b[0m\n",
       "         ├─────────────────────┼───────────────────┼────────────┼───────────────────┤          \u001b[2m                    \u001b[0m\n",
       "         │ reshape \u001b[1m(\u001b[0mReshape\u001b[1m)\u001b[0m   │ \u001b[1m(\u001b[0m\u001b[3;35mNone\u001b[0m, \u001b[1;36m1\u001b[0m, \u001b[1;36m800\u001b[0m, \u001b[1;36m1\u001b[0m\u001b[1m)\u001b[0m │          \u001b[1;36m0\u001b[0m │ input\u001b[1m[\u001b[0m\u001b[1;36m0\u001b[0m\u001b[1m]\u001b[0m\u001b[1m[\u001b[0m\u001b[1;36m0\u001b[0m\u001b[1m]\u001b[0m       │          \u001b[2m                    \u001b[0m\n",
       "         ├─────────────────────┼───────────────────┼────────────┼───────────────────┤          \u001b[2m                    \u001b[0m\n",
       "         │ stem.conv \u001b[1m(\u001b[0mConv2D\u001b[1m)\u001b[0m  │ \u001b[1m(\u001b[0m\u001b[3;35mNone\u001b[0m, \u001b[1;36m1\u001b[0m, \u001b[1;36m400\u001b[0m,    │        \u001b[1;36m216\u001b[0m │ reshape\u001b[1m[\u001b[0m\u001b[1;36m0\u001b[0m\u001b[1m]\u001b[0m\u001b[1m[\u001b[0m\u001b[1;36m0\u001b[0m\u001b[1m]\u001b[0m     │          \u001b[2m                    \u001b[0m\n",
       "         │                     │ \u001b[1;36m24\u001b[0m\u001b[1m)\u001b[0m               │            │                   │          \u001b[2m                    \u001b[0m\n",
       "         ├─────────────────────┼───────────────────┼────────────┼───────────────────┤          \u001b[2m                    \u001b[0m\n",
       "         │ stem.bn             │ \u001b[1m(\u001b[0m\u001b[3;35mNone\u001b[0m, \u001b[1;36m1\u001b[0m, \u001b[1;36m400\u001b[0m,    │         \u001b[1;36m96\u001b[0m │ stem.conv\u001b[1m[\u001b[0m\u001b[1;36m0\u001b[0m\u001b[1m]\u001b[0m\u001b[1m[\u001b[0m\u001b[1;36m0\u001b[0m\u001b[1m]\u001b[0m   │          \u001b[2m                    \u001b[0m\n",
       "         │ \u001b[1m(\u001b[0mBatchNormalizatio… │ \u001b[1;36m24\u001b[0m\u001b[1m)\u001b[0m               │            │                   │          \u001b[2m                    \u001b[0m\n",
       "         ├─────────────────────┼───────────────────┼────────────┼───────────────────┤          \u001b[2m                    \u001b[0m\n",
       "         │ stem.act            │ \u001b[1m(\u001b[0m\u001b[3;35mNone\u001b[0m, \u001b[1;36m1\u001b[0m, \u001b[1;36m400\u001b[0m,    │          \u001b[1;36m0\u001b[0m │ stem.bn\u001b[1m[\u001b[0m\u001b[1;36m0\u001b[0m\u001b[1m]\u001b[0m\u001b[1m[\u001b[0m\u001b[1;36m0\u001b[0m\u001b[1m]\u001b[0m     │          \u001b[2m                    \u001b[0m\n",
       "         │ \u001b[1m(\u001b[0mActivation\u001b[1m)\u001b[0m        │ \u001b[1;36m24\u001b[0m\u001b[1m)\u001b[0m               │            │                   │          \u001b[2m                    \u001b[0m\n",
       "         ├─────────────────────┼───────────────────┼────────────┼───────────────────┤          \u001b[2m                    \u001b[0m\n",
       "         │ stage1.mbconv1.dp   │ \u001b[1m(\u001b[0m\u001b[3;35mNone\u001b[0m, \u001b[1;36m1\u001b[0m, \u001b[1;36m400\u001b[0m,    │        \u001b[1;36m216\u001b[0m │ stem.act\u001b[1m[\u001b[0m\u001b[1;36m0\u001b[0m\u001b[1m]\u001b[0m\u001b[1m[\u001b[0m\u001b[1;36m0\u001b[0m\u001b[1m]\u001b[0m    │          \u001b[2m                    \u001b[0m\n",
       "         │ \u001b[1m(\u001b[0mDepthwiseConv2D\u001b[1m)\u001b[0m   │ \u001b[1;36m24\u001b[0m\u001b[1m)\u001b[0m               │            │                   │          \u001b[2m                    \u001b[0m\n",
       "         ├─────────────────────┼───────────────────┼────────────┼───────────────────┤          \u001b[2m                    \u001b[0m\n",
       "         │ stage1.mbconv1.dp.… │ \u001b[1m(\u001b[0m\u001b[3;35mNone\u001b[0m, \u001b[1;36m1\u001b[0m, \u001b[1;36m400\u001b[0m,    │         \u001b[1;36m96\u001b[0m │ stage1.mbconv1.d… │          \u001b[2m                    \u001b[0m\n",
       "         │ \u001b[1m(\u001b[0mBatchNormalizatio… │ \u001b[1;36m24\u001b[0m\u001b[1m)\u001b[0m               │            │                   │          \u001b[2m                    \u001b[0m\n",
       "         ├─────────────────────┼───────────────────┼────────────┼───────────────────┤          \u001b[2m                    \u001b[0m\n",
       "         │ stage1.mbconv1.dp.… │ \u001b[1m(\u001b[0m\u001b[3;35mNone\u001b[0m, \u001b[1;36m1\u001b[0m, \u001b[1;36m400\u001b[0m,    │          \u001b[1;36m0\u001b[0m │ stage1.mbconv1.d… │          \u001b[2m                    \u001b[0m\n",
       "         │ \u001b[1m(\u001b[0mActivation\u001b[1m)\u001b[0m        │ \u001b[1;36m24\u001b[0m\u001b[1m)\u001b[0m               │            │                   │          \u001b[2m                    \u001b[0m\n",
       "         ├─────────────────────┼───────────────────┼────────────┼───────────────────┤          \u001b[2m                    \u001b[0m\n",
       "         │ max_pooling2d       │ \u001b[1m(\u001b[0m\u001b[3;35mNone\u001b[0m, \u001b[1;36m1\u001b[0m, \u001b[1;36m200\u001b[0m,    │          \u001b[1;36m0\u001b[0m │ stage1.mbconv1.d… │          \u001b[2m                    \u001b[0m\n",
       "         │ \u001b[1m(\u001b[0mMaxPooling2D\u001b[1m)\u001b[0m      │ \u001b[1;36m24\u001b[0m\u001b[1m)\u001b[0m               │            │                   │          \u001b[2m                    \u001b[0m\n",
       "         ├─────────────────────┼───────────────────┼────────────┼───────────────────┤          \u001b[2m                    \u001b[0m\n",
       "         │ stage1.mbconv1.se.… │ \u001b[1m(\u001b[0m\u001b[3;35mNone\u001b[0m, \u001b[1;36m1\u001b[0m, \u001b[1;36m1\u001b[0m, \u001b[1;36m24\u001b[0m\u001b[1m)\u001b[0m  │          \u001b[1;36m0\u001b[0m │ max_pooling2d\u001b[1m[\u001b[0m\u001b[1;36m0\u001b[0m\u001b[1m]\u001b[0m… │          \u001b[2m                    \u001b[0m\n",
       "         │ \u001b[1m(\u001b[0mGlobalAveragePool… │                   │            │                   │          \u001b[2m                    \u001b[0m\n",
       "         ├─────────────────────┼───────────────────┼────────────┼───────────────────┤          \u001b[2m                    \u001b[0m\n",
       "         │ stage1.mbconv1.se.… │ \u001b[1m(\u001b[0m\u001b[3;35mNone\u001b[0m, \u001b[1;36m1\u001b[0m, \u001b[1;36m1\u001b[0m, \u001b[1;36m6\u001b[0m\u001b[1m)\u001b[0m   │        \u001b[1;36m150\u001b[0m │ stage1.mbconv1.s… │          \u001b[2m                    \u001b[0m\n",
       "         │ \u001b[1m(\u001b[0mConv2D\u001b[1m)\u001b[0m            │                   │            │                   │          \u001b[2m                    \u001b[0m\n",
       "         ├─────────────────────┼───────────────────┼────────────┼───────────────────┤          \u001b[2m                    \u001b[0m\n",
       "         │ stage1.mbconv1.se.… │ \u001b[1m(\u001b[0m\u001b[3;35mNone\u001b[0m, \u001b[1;36m1\u001b[0m, \u001b[1;36m1\u001b[0m, \u001b[1;36m6\u001b[0m\u001b[1m)\u001b[0m   │          \u001b[1;36m0\u001b[0m │ stage1.mbconv1.s… │          \u001b[2m                    \u001b[0m\n",
       "         │ \u001b[1m(\u001b[0mActivation\u001b[1m)\u001b[0m        │                   │            │                   │          \u001b[2m                    \u001b[0m\n",
       "         ├─────────────────────┼───────────────────┼────────────┼───────────────────┤          \u001b[2m                    \u001b[0m\n",
       "         │ stage1.mbconv1.se.… │ \u001b[1m(\u001b[0m\u001b[3;35mNone\u001b[0m, \u001b[1;36m1\u001b[0m, \u001b[1;36m1\u001b[0m, \u001b[1;36m24\u001b[0m\u001b[1m)\u001b[0m  │        \u001b[1;36m168\u001b[0m │ stage1.mbconv1.s… │          \u001b[2m                    \u001b[0m\n",
       "         │ \u001b[1m(\u001b[0mConv2D\u001b[1m)\u001b[0m            │                   │            │                   │          \u001b[2m                    \u001b[0m\n",
       "         ├─────────────────────┼───────────────────┼────────────┼───────────────────┤          \u001b[2m                    \u001b[0m\n",
       "         │ stage1.mbconv1.se.… │ \u001b[1m(\u001b[0m\u001b[3;35mNone\u001b[0m, \u001b[1;36m1\u001b[0m, \u001b[1;36m1\u001b[0m, \u001b[1;36m24\u001b[0m\u001b[1m)\u001b[0m  │          \u001b[1;36m0\u001b[0m │ stage1.mbconv1.s… │          \u001b[2m                    \u001b[0m\n",
       "         │ \u001b[1m(\u001b[0mActivation\u001b[1m)\u001b[0m        │                   │            │                   │          \u001b[2m                    \u001b[0m\n",
       "         ├─────────────────────┼───────────────────┼────────────┼───────────────────┤          \u001b[2m                    \u001b[0m\n",
       "         │ multiply \u001b[1m(\u001b[0mMultiply\u001b[1m)\u001b[0m │ \u001b[1m(\u001b[0m\u001b[3;35mNone\u001b[0m, \u001b[1;36m1\u001b[0m, \u001b[1;36m200\u001b[0m,    │          \u001b[1;36m0\u001b[0m │ max_pooling2d\u001b[1m[\u001b[0m\u001b[1;36m0\u001b[0m\u001b[1m]\u001b[0m… │          \u001b[2m                    \u001b[0m\n",
       "         │                     │ \u001b[1;36m24\u001b[0m\u001b[1m)\u001b[0m               │            │ stage1.mbconv1.s… │          \u001b[2m                    \u001b[0m\n",
       "         ├─────────────────────┼───────────────────┼────────────┼───────────────────┤          \u001b[2m                    \u001b[0m\n",
       "         │ stage1.mbconv1.red… │ \u001b[1m(\u001b[0m\u001b[3;35mNone\u001b[0m, \u001b[1;36m1\u001b[0m, \u001b[1;36m200\u001b[0m,    │        \u001b[1;36m768\u001b[0m │ multiply\u001b[1m[\u001b[0m\u001b[1;36m0\u001b[0m\u001b[1m]\u001b[0m\u001b[1m[\u001b[0m\u001b[1;36m0\u001b[0m\u001b[1m]\u001b[0m    │          \u001b[2m                    \u001b[0m\n",
       "         │ \u001b[1m(\u001b[0mConv2D\u001b[1m)\u001b[0m            │ \u001b[1;36m32\u001b[0m\u001b[1m)\u001b[0m               │            │                   │          \u001b[2m                    \u001b[0m\n",
       "         ├─────────────────────┼───────────────────┼────────────┼───────────────────┤          \u001b[2m                    \u001b[0m\n",
       "         │ stage1.mbconv1.red… │ \u001b[1m(\u001b[0m\u001b[3;35mNone\u001b[0m, \u001b[1;36m1\u001b[0m, \u001b[1;36m200\u001b[0m,    │        \u001b[1;36m128\u001b[0m │ stage1.mbconv1.r… │          \u001b[2m                    \u001b[0m\n",
       "         │ \u001b[1m(\u001b[0mBatchNormalizatio… │ \u001b[1;36m32\u001b[0m\u001b[1m)\u001b[0m               │            │                   │          \u001b[2m                    \u001b[0m\n",
       "         ├─────────────────────┼───────────────────┼────────────┼───────────────────┤          \u001b[2m                    \u001b[0m\n",
       "         │ stage1.mbconv2.dp   │ \u001b[1m(\u001b[0m\u001b[3;35mNone\u001b[0m, \u001b[1;36m1\u001b[0m, \u001b[1;36m200\u001b[0m,    │        \u001b[1;36m288\u001b[0m │ stage1.mbconv1.r… │          \u001b[2m                    \u001b[0m\n",
       "         │ \u001b[1m(\u001b[0mDepthwiseConv2D\u001b[1m)\u001b[0m   │ \u001b[1;36m32\u001b[0m\u001b[1m)\u001b[0m               │            │                   │          \u001b[2m                    \u001b[0m\n",
       "         ├─────────────────────┼───────────────────┼────────────┼───────────────────┤          \u001b[2m                    \u001b[0m\n",
       "         │ stage1.mbconv2.dp.… │ \u001b[1m(\u001b[0m\u001b[3;35mNone\u001b[0m, \u001b[1;36m1\u001b[0m, \u001b[1;36m200\u001b[0m,    │        \u001b[1;36m128\u001b[0m │ stage1.mbconv2.d… │          \u001b[2m                    \u001b[0m\n",
       "         │ \u001b[1m(\u001b[0mBatchNormalizatio… │ \u001b[1;36m32\u001b[0m\u001b[1m)\u001b[0m               │            │                   │          \u001b[2m                    \u001b[0m\n",
       "         ├─────────────────────┼───────────────────┼────────────┼───────────────────┤          \u001b[2m                    \u001b[0m\n",
       "         │ stage1.mbconv2.dp.… │ \u001b[1m(\u001b[0m\u001b[3;35mNone\u001b[0m, \u001b[1;36m1\u001b[0m, \u001b[1;36m200\u001b[0m,    │          \u001b[1;36m0\u001b[0m │ stage1.mbconv2.d… │          \u001b[2m                    \u001b[0m\n",
       "         │ \u001b[1m(\u001b[0mActivation\u001b[1m)\u001b[0m        │ \u001b[1;36m32\u001b[0m\u001b[1m)\u001b[0m               │            │                   │          \u001b[2m                    \u001b[0m\n",
       "         ├─────────────────────┼───────────────────┼────────────┼───────────────────┤          \u001b[2m                    \u001b[0m\n",
       "         │ stage1.mbconv2.se.… │ \u001b[1m(\u001b[0m\u001b[3;35mNone\u001b[0m, \u001b[1;36m1\u001b[0m, \u001b[1;36m1\u001b[0m, \u001b[1;36m32\u001b[0m\u001b[1m)\u001b[0m  │          \u001b[1;36m0\u001b[0m │ stage1.mbconv2.d… │          \u001b[2m                    \u001b[0m\n",
       "         │ \u001b[1m(\u001b[0mGlobalAveragePool… │                   │            │                   │          \u001b[2m                    \u001b[0m\n",
       "         ├─────────────────────┼───────────────────┼────────────┼───────────────────┤          \u001b[2m                    \u001b[0m\n",
       "         │ stage1.mbconv2.se.… │ \u001b[1m(\u001b[0m\u001b[3;35mNone\u001b[0m, \u001b[1;36m1\u001b[0m, \u001b[1;36m1\u001b[0m, \u001b[1;36m8\u001b[0m\u001b[1m)\u001b[0m   │        \u001b[1;36m264\u001b[0m │ stage1.mbconv2.s… │          \u001b[2m                    \u001b[0m\n",
       "         │ \u001b[1m(\u001b[0mConv2D\u001b[1m)\u001b[0m            │                   │            │                   │          \u001b[2m                    \u001b[0m\n",
       "         ├─────────────────────┼───────────────────┼────────────┼───────────────────┤          \u001b[2m                    \u001b[0m\n",
       "         │ stage1.mbconv2.se.… │ \u001b[1m(\u001b[0m\u001b[3;35mNone\u001b[0m, \u001b[1;36m1\u001b[0m, \u001b[1;36m1\u001b[0m, \u001b[1;36m8\u001b[0m\u001b[1m)\u001b[0m   │          \u001b[1;36m0\u001b[0m │ stage1.mbconv2.s… │          \u001b[2m                    \u001b[0m\n",
       "         │ \u001b[1m(\u001b[0mActivation\u001b[1m)\u001b[0m        │                   │            │                   │          \u001b[2m                    \u001b[0m\n",
       "         ├─────────────────────┼───────────────────┼────────────┼───────────────────┤          \u001b[2m                    \u001b[0m\n",
       "         │ stage1.mbconv2.se.… │ \u001b[1m(\u001b[0m\u001b[3;35mNone\u001b[0m, \u001b[1;36m1\u001b[0m, \u001b[1;36m1\u001b[0m, \u001b[1;36m32\u001b[0m\u001b[1m)\u001b[0m  │        \u001b[1;36m288\u001b[0m │ stage1.mbconv2.s… │          \u001b[2m                    \u001b[0m\n",
       "         │ \u001b[1m(\u001b[0mConv2D\u001b[1m)\u001b[0m            │                   │            │                   │          \u001b[2m                    \u001b[0m\n",
       "         ├─────────────────────┼───────────────────┼────────────┼───────────────────┤          \u001b[2m                    \u001b[0m\n",
       "         │ stage1.mbconv2.se.… │ \u001b[1m(\u001b[0m\u001b[3;35mNone\u001b[0m, \u001b[1;36m1\u001b[0m, \u001b[1;36m1\u001b[0m, \u001b[1;36m32\u001b[0m\u001b[1m)\u001b[0m  │          \u001b[1;36m0\u001b[0m │ stage1.mbconv2.s… │          \u001b[2m                    \u001b[0m\n",
       "         │ \u001b[1m(\u001b[0mActivation\u001b[1m)\u001b[0m        │                   │            │                   │          \u001b[2m                    \u001b[0m\n",
       "         ├─────────────────────┼───────────────────┼────────────┼───────────────────┤          \u001b[2m                    \u001b[0m\n",
       "         │ multiply_1          │ \u001b[1m(\u001b[0m\u001b[3;35mNone\u001b[0m, \u001b[1;36m1\u001b[0m, \u001b[1;36m200\u001b[0m,    │          \u001b[1;36m0\u001b[0m │ stage1.mbconv2.d… │          \u001b[2m                    \u001b[0m\n",
       "         │ \u001b[1m(\u001b[0mMultiply\u001b[1m)\u001b[0m          │ \u001b[1;36m32\u001b[0m\u001b[1m)\u001b[0m               │            │ stage1.mbconv2.s… │          \u001b[2m                    \u001b[0m\n",
       "         ├─────────────────────┼───────────────────┼────────────┼───────────────────┤          \u001b[2m                    \u001b[0m\n",
       "         │ stage1.mbconv2.red… │ \u001b[1m(\u001b[0m\u001b[3;35mNone\u001b[0m, \u001b[1;36m1\u001b[0m, \u001b[1;36m200\u001b[0m,    │      \u001b[1;36m1\u001b[0m,\u001b[1;36m024\u001b[0m │ multiply_1\u001b[1m[\u001b[0m\u001b[1;36m0\u001b[0m\u001b[1m]\u001b[0m\u001b[1m[\u001b[0m\u001b[1;36m0\u001b[0m\u001b[1m]\u001b[0m  │          \u001b[2m                    \u001b[0m\n",
       "         │ \u001b[1m(\u001b[0mConv2D\u001b[1m)\u001b[0m            │ \u001b[1;36m32\u001b[0m\u001b[1m)\u001b[0m               │            │                   │          \u001b[2m                    \u001b[0m\n",
       "         ├─────────────────────┼───────────────────┼────────────┼───────────────────┤          \u001b[2m                    \u001b[0m\n",
       "         │ stage1.mbconv2.red… │ \u001b[1m(\u001b[0m\u001b[3;35mNone\u001b[0m, \u001b[1;36m1\u001b[0m, \u001b[1;36m200\u001b[0m,    │        \u001b[1;36m128\u001b[0m │ stage1.mbconv2.r… │          \u001b[2m                    \u001b[0m\n",
       "         │ \u001b[1m(\u001b[0mBatchNormalizatio… │ \u001b[1;36m32\u001b[0m\u001b[1m)\u001b[0m               │            │                   │          \u001b[2m                    \u001b[0m\n",
       "         ├─────────────────────┼───────────────────┼────────────┼───────────────────┤          \u001b[2m                    \u001b[0m\n",
       "         │ dropout \u001b[1m(\u001b[0mDropout\u001b[1m)\u001b[0m   │ \u001b[1m(\u001b[0m\u001b[3;35mNone\u001b[0m, \u001b[1;36m1\u001b[0m, \u001b[1;36m200\u001b[0m,    │          \u001b[1;36m0\u001b[0m │ stage1.mbconv2.r… │          \u001b[2m                    \u001b[0m\n",
       "         │                     │ \u001b[1;36m32\u001b[0m\u001b[1m)\u001b[0m               │            │                   │          \u001b[2m                    \u001b[0m\n",
       "         ├─────────────────────┼───────────────────┼────────────┼───────────────────┤          \u001b[2m                    \u001b[0m\n",
       "         │ stage1.mbconv2.res  │ \u001b[1m(\u001b[0m\u001b[3;35mNone\u001b[0m, \u001b[1;36m1\u001b[0m, \u001b[1;36m200\u001b[0m,    │          \u001b[1;36m0\u001b[0m │ stage1.mbconv1.r… │          \u001b[2m                    \u001b[0m\n",
       "         │ \u001b[1m(\u001b[0mAdd\u001b[1m)\u001b[0m               │ \u001b[1;36m32\u001b[0m\u001b[1m)\u001b[0m               │            │ dropout\u001b[1m[\u001b[0m\u001b[1;36m0\u001b[0m\u001b[1m]\u001b[0m\u001b[1m[\u001b[0m\u001b[1;36m0\u001b[0m\u001b[1m]\u001b[0m     │          \u001b[2m                    \u001b[0m\n",
       "         ├─────────────────────┼───────────────────┼────────────┼───────────────────┤          \u001b[2m                    \u001b[0m\n",
       "         │ stage2.mbconv1.dp   │ \u001b[1m(\u001b[0m\u001b[3;35mNone\u001b[0m, \u001b[1;36m1\u001b[0m, \u001b[1;36m200\u001b[0m,    │        \u001b[1;36m288\u001b[0m │ stage1.mbconv2.r… │          \u001b[2m                    \u001b[0m\n",
       "         │ \u001b[1m(\u001b[0mDepthwiseConv2D\u001b[1m)\u001b[0m   │ \u001b[1;36m32\u001b[0m\u001b[1m)\u001b[0m               │            │                   │          \u001b[2m                    \u001b[0m\n",
       "         ├─────────────────────┼───────────────────┼────────────┼───────────────────┤          \u001b[2m                    \u001b[0m\n",
       "         │ stage2.mbconv1.dp.… │ \u001b[1m(\u001b[0m\u001b[3;35mNone\u001b[0m, \u001b[1;36m1\u001b[0m, \u001b[1;36m200\u001b[0m,    │        \u001b[1;36m128\u001b[0m │ stage2.mbconv1.d… │          \u001b[2m                    \u001b[0m\n",
       "         │ \u001b[1m(\u001b[0mBatchNormalizatio… │ \u001b[1;36m32\u001b[0m\u001b[1m)\u001b[0m               │            │                   │          \u001b[2m                    \u001b[0m\n",
       "         ├─────────────────────┼───────────────────┼────────────┼───────────────────┤          \u001b[2m                    \u001b[0m\n",
       "         │ stage2.mbconv1.dp.… │ \u001b[1m(\u001b[0m\u001b[3;35mNone\u001b[0m, \u001b[1;36m1\u001b[0m, \u001b[1;36m200\u001b[0m,    │          \u001b[1;36m0\u001b[0m │ stage2.mbconv1.d… │          \u001b[2m                    \u001b[0m\n",
       "         │ \u001b[1m(\u001b[0mActivation\u001b[1m)\u001b[0m        │ \u001b[1;36m32\u001b[0m\u001b[1m)\u001b[0m               │            │                   │          \u001b[2m                    \u001b[0m\n",
       "         ├─────────────────────┼───────────────────┼────────────┼───────────────────┤          \u001b[2m                    \u001b[0m\n",
       "         │ max_pooling2d_1     │ \u001b[1m(\u001b[0m\u001b[3;35mNone\u001b[0m, \u001b[1;36m1\u001b[0m, \u001b[1;36m100\u001b[0m,    │          \u001b[1;36m0\u001b[0m │ stage2.mbconv1.d… │          \u001b[2m                    \u001b[0m\n",
       "         │ \u001b[1m(\u001b[0mMaxPooling2D\u001b[1m)\u001b[0m      │ \u001b[1;36m32\u001b[0m\u001b[1m)\u001b[0m               │            │                   │          \u001b[2m                    \u001b[0m\n",
       "         ├─────────────────────┼───────────────────┼────────────┼───────────────────┤          \u001b[2m                    \u001b[0m\n",
       "         │ stage2.mbconv1.se.… │ \u001b[1m(\u001b[0m\u001b[3;35mNone\u001b[0m, \u001b[1;36m1\u001b[0m, \u001b[1;36m1\u001b[0m, \u001b[1;36m32\u001b[0m\u001b[1m)\u001b[0m  │          \u001b[1;36m0\u001b[0m │ max_pooling2d_1\u001b[1m[\u001b[0m… │          \u001b[2m                    \u001b[0m\n",
       "         │ \u001b[1m(\u001b[0mGlobalAveragePool… │                   │            │                   │          \u001b[2m                    \u001b[0m\n",
       "         ├─────────────────────┼───────────────────┼────────────┼───────────────────┤          \u001b[2m                    \u001b[0m\n",
       "         │ stage2.mbconv1.se.… │ \u001b[1m(\u001b[0m\u001b[3;35mNone\u001b[0m, \u001b[1;36m1\u001b[0m, \u001b[1;36m1\u001b[0m, \u001b[1;36m8\u001b[0m\u001b[1m)\u001b[0m   │        \u001b[1;36m264\u001b[0m │ stage2.mbconv1.s… │          \u001b[2m                    \u001b[0m\n",
       "         │ \u001b[1m(\u001b[0mConv2D\u001b[1m)\u001b[0m            │                   │            │                   │          \u001b[2m                    \u001b[0m\n",
       "         ├─────────────────────┼───────────────────┼────────────┼───────────────────┤          \u001b[2m                    \u001b[0m\n",
       "         │ stage2.mbconv1.se.… │ \u001b[1m(\u001b[0m\u001b[3;35mNone\u001b[0m, \u001b[1;36m1\u001b[0m, \u001b[1;36m1\u001b[0m, \u001b[1;36m8\u001b[0m\u001b[1m)\u001b[0m   │          \u001b[1;36m0\u001b[0m │ stage2.mbconv1.s… │          \u001b[2m                    \u001b[0m\n",
       "         │ \u001b[1m(\u001b[0mActivation\u001b[1m)\u001b[0m        │                   │            │                   │          \u001b[2m                    \u001b[0m\n",
       "         ├─────────────────────┼───────────────────┼────────────┼───────────────────┤          \u001b[2m                    \u001b[0m\n",
       "         │ stage2.mbconv1.se.… │ \u001b[1m(\u001b[0m\u001b[3;35mNone\u001b[0m, \u001b[1;36m1\u001b[0m, \u001b[1;36m1\u001b[0m, \u001b[1;36m32\u001b[0m\u001b[1m)\u001b[0m  │        \u001b[1;36m288\u001b[0m │ stage2.mbconv1.s… │          \u001b[2m                    \u001b[0m\n",
       "         │ \u001b[1m(\u001b[0mConv2D\u001b[1m)\u001b[0m            │                   │            │                   │          \u001b[2m                    \u001b[0m\n",
       "         ├─────────────────────┼───────────────────┼────────────┼───────────────────┤          \u001b[2m                    \u001b[0m\n",
       "         │ stage2.mbconv1.se.… │ \u001b[1m(\u001b[0m\u001b[3;35mNone\u001b[0m, \u001b[1;36m1\u001b[0m, \u001b[1;36m1\u001b[0m, \u001b[1;36m32\u001b[0m\u001b[1m)\u001b[0m  │          \u001b[1;36m0\u001b[0m │ stage2.mbconv1.s… │          \u001b[2m                    \u001b[0m\n",
       "         │ \u001b[1m(\u001b[0mActivation\u001b[1m)\u001b[0m        │                   │            │                   │          \u001b[2m                    \u001b[0m\n",
       "         ├─────────────────────┼───────────────────┼────────────┼───────────────────┤          \u001b[2m                    \u001b[0m\n",
       "         │ multiply_2          │ \u001b[1m(\u001b[0m\u001b[3;35mNone\u001b[0m, \u001b[1;36m1\u001b[0m, \u001b[1;36m100\u001b[0m,    │          \u001b[1;36m0\u001b[0m │ max_pooling2d_1\u001b[1m[\u001b[0m… │          \u001b[2m                    \u001b[0m\n",
       "         │ \u001b[1m(\u001b[0mMultiply\u001b[1m)\u001b[0m          │ \u001b[1;36m32\u001b[0m\u001b[1m)\u001b[0m               │            │ stage2.mbconv1.s… │          \u001b[2m                    \u001b[0m\n",
       "         ├─────────────────────┼───────────────────┼────────────┼───────────────────┤          \u001b[2m                    \u001b[0m\n",
       "         │ stage2.mbconv1.red… │ \u001b[1m(\u001b[0m\u001b[3;35mNone\u001b[0m, \u001b[1;36m1\u001b[0m, \u001b[1;36m100\u001b[0m,    │      \u001b[1;36m1\u001b[0m,\u001b[1;36m536\u001b[0m │ multiply_2\u001b[1m[\u001b[0m\u001b[1;36m0\u001b[0m\u001b[1m]\u001b[0m\u001b[1m[\u001b[0m\u001b[1;36m0\u001b[0m\u001b[1m]\u001b[0m  │          \u001b[2m                    \u001b[0m\n",
       "         │ \u001b[1m(\u001b[0mConv2D\u001b[1m)\u001b[0m            │ \u001b[1;36m48\u001b[0m\u001b[1m)\u001b[0m               │            │                   │          \u001b[2m                    \u001b[0m\n",
       "         ├─────────────────────┼───────────────────┼────────────┼───────────────────┤          \u001b[2m                    \u001b[0m\n",
       "         │ stage2.mbconv1.red… │ \u001b[1m(\u001b[0m\u001b[3;35mNone\u001b[0m, \u001b[1;36m1\u001b[0m, \u001b[1;36m100\u001b[0m,    │        \u001b[1;36m192\u001b[0m │ stage2.mbconv1.r… │          \u001b[2m                    \u001b[0m\n",
       "         │ \u001b[1m(\u001b[0mBatchNormalizatio… │ \u001b[1;36m48\u001b[0m\u001b[1m)\u001b[0m               │            │                   │          \u001b[2m                    \u001b[0m\n",
       "         ├─────────────────────┼───────────────────┼────────────┼───────────────────┤          \u001b[2m                    \u001b[0m\n",
       "         │ stage2.mbconv2.dp   │ \u001b[1m(\u001b[0m\u001b[3;35mNone\u001b[0m, \u001b[1;36m1\u001b[0m, \u001b[1;36m100\u001b[0m,    │        \u001b[1;36m432\u001b[0m │ stage2.mbconv1.r… │          \u001b[2m                    \u001b[0m\n",
       "         │ \u001b[1m(\u001b[0mDepthwiseConv2D\u001b[1m)\u001b[0m   │ \u001b[1;36m48\u001b[0m\u001b[1m)\u001b[0m               │            │                   │          \u001b[2m                    \u001b[0m\n",
       "         ├─────────────────────┼───────────────────┼────────────┼───────────────────┤          \u001b[2m                    \u001b[0m\n",
       "         │ stage2.mbconv2.dp.… │ \u001b[1m(\u001b[0m\u001b[3;35mNone\u001b[0m, \u001b[1;36m1\u001b[0m, \u001b[1;36m100\u001b[0m,    │        \u001b[1;36m192\u001b[0m │ stage2.mbconv2.d… │          \u001b[2m                    \u001b[0m\n",
       "         │ \u001b[1m(\u001b[0mBatchNormalizatio… │ \u001b[1;36m48\u001b[0m\u001b[1m)\u001b[0m               │            │                   │          \u001b[2m                    \u001b[0m\n",
       "         ├─────────────────────┼───────────────────┼────────────┼───────────────────┤          \u001b[2m                    \u001b[0m\n",
       "         │ stage2.mbconv2.dp.… │ \u001b[1m(\u001b[0m\u001b[3;35mNone\u001b[0m, \u001b[1;36m1\u001b[0m, \u001b[1;36m100\u001b[0m,    │          \u001b[1;36m0\u001b[0m │ stage2.mbconv2.d… │          \u001b[2m                    \u001b[0m\n",
       "         │ \u001b[1m(\u001b[0mActivation\u001b[1m)\u001b[0m        │ \u001b[1;36m48\u001b[0m\u001b[1m)\u001b[0m               │            │                   │          \u001b[2m                    \u001b[0m\n",
       "         ├─────────────────────┼───────────────────┼────────────┼───────────────────┤          \u001b[2m                    \u001b[0m\n",
       "         │ stage2.mbconv2.se.… │ \u001b[1m(\u001b[0m\u001b[3;35mNone\u001b[0m, \u001b[1;36m1\u001b[0m, \u001b[1;36m1\u001b[0m, \u001b[1;36m48\u001b[0m\u001b[1m)\u001b[0m  │          \u001b[1;36m0\u001b[0m │ stage2.mbconv2.d… │          \u001b[2m                    \u001b[0m\n",
       "         │ \u001b[1m(\u001b[0mGlobalAveragePool… │                   │            │                   │          \u001b[2m                    \u001b[0m\n",
       "         ├─────────────────────┼───────────────────┼────────────┼───────────────────┤          \u001b[2m                    \u001b[0m\n",
       "         │ stage2.mbconv2.se.… │ \u001b[1m(\u001b[0m\u001b[3;35mNone\u001b[0m, \u001b[1;36m1\u001b[0m, \u001b[1;36m1\u001b[0m, \u001b[1;36m12\u001b[0m\u001b[1m)\u001b[0m  │        \u001b[1;36m588\u001b[0m │ stage2.mbconv2.s… │          \u001b[2m                    \u001b[0m\n",
       "         │ \u001b[1m(\u001b[0mConv2D\u001b[1m)\u001b[0m            │                   │            │                   │          \u001b[2m                    \u001b[0m\n",
       "         ├─────────────────────┼───────────────────┼────────────┼───────────────────┤          \u001b[2m                    \u001b[0m\n",
       "         │ stage2.mbconv2.se.… │ \u001b[1m(\u001b[0m\u001b[3;35mNone\u001b[0m, \u001b[1;36m1\u001b[0m, \u001b[1;36m1\u001b[0m, \u001b[1;36m12\u001b[0m\u001b[1m)\u001b[0m  │          \u001b[1;36m0\u001b[0m │ stage2.mbconv2.s… │          \u001b[2m                    \u001b[0m\n",
       "         │ \u001b[1m(\u001b[0mActivation\u001b[1m)\u001b[0m        │                   │            │                   │          \u001b[2m                    \u001b[0m\n",
       "         ├─────────────────────┼───────────────────┼────────────┼───────────────────┤          \u001b[2m                    \u001b[0m\n",
       "         │ stage2.mbconv2.se.… │ \u001b[1m(\u001b[0m\u001b[3;35mNone\u001b[0m, \u001b[1;36m1\u001b[0m, \u001b[1;36m1\u001b[0m, \u001b[1;36m48\u001b[0m\u001b[1m)\u001b[0m  │        \u001b[1;36m624\u001b[0m │ stage2.mbconv2.s… │          \u001b[2m                    \u001b[0m\n",
       "         │ \u001b[1m(\u001b[0mConv2D\u001b[1m)\u001b[0m            │                   │            │                   │          \u001b[2m                    \u001b[0m\n",
       "         ├─────────────────────┼───────────────────┼────────────┼───────────────────┤          \u001b[2m                    \u001b[0m\n",
       "         │ stage2.mbconv2.se.… │ \u001b[1m(\u001b[0m\u001b[3;35mNone\u001b[0m, \u001b[1;36m1\u001b[0m, \u001b[1;36m1\u001b[0m, \u001b[1;36m48\u001b[0m\u001b[1m)\u001b[0m  │          \u001b[1;36m0\u001b[0m │ stage2.mbconv2.s… │          \u001b[2m                    \u001b[0m\n",
       "         │ \u001b[1m(\u001b[0mActivation\u001b[1m)\u001b[0m        │                   │            │                   │          \u001b[2m                    \u001b[0m\n",
       "         ├─────────────────────┼───────────────────┼────────────┼───────────────────┤          \u001b[2m                    \u001b[0m\n",
       "         │ multiply_3          │ \u001b[1m(\u001b[0m\u001b[3;35mNone\u001b[0m, \u001b[1;36m1\u001b[0m, \u001b[1;36m100\u001b[0m,    │          \u001b[1;36m0\u001b[0m │ stage2.mbconv2.d… │          \u001b[2m                    \u001b[0m\n",
       "         │ \u001b[1m(\u001b[0mMultiply\u001b[1m)\u001b[0m          │ \u001b[1;36m48\u001b[0m\u001b[1m)\u001b[0m               │            │ stage2.mbconv2.s… │          \u001b[2m                    \u001b[0m\n",
       "         ├─────────────────────┼───────────────────┼────────────┼───────────────────┤          \u001b[2m                    \u001b[0m\n",
       "         │ stage2.mbconv2.red… │ \u001b[1m(\u001b[0m\u001b[3;35mNone\u001b[0m, \u001b[1;36m1\u001b[0m, \u001b[1;36m100\u001b[0m,    │      \u001b[1;36m2\u001b[0m,\u001b[1;36m304\u001b[0m │ multiply_3\u001b[1m[\u001b[0m\u001b[1;36m0\u001b[0m\u001b[1m]\u001b[0m\u001b[1m[\u001b[0m\u001b[1;36m0\u001b[0m\u001b[1m]\u001b[0m  │          \u001b[2m                    \u001b[0m\n",
       "         │ \u001b[1m(\u001b[0mConv2D\u001b[1m)\u001b[0m            │ \u001b[1;36m48\u001b[0m\u001b[1m)\u001b[0m               │            │                   │          \u001b[2m                    \u001b[0m\n",
       "         ├─────────────────────┼───────────────────┼────────────┼───────────────────┤          \u001b[2m                    \u001b[0m\n",
       "         │ stage2.mbconv2.red… │ \u001b[1m(\u001b[0m\u001b[3;35mNone\u001b[0m, \u001b[1;36m1\u001b[0m, \u001b[1;36m100\u001b[0m,    │        \u001b[1;36m192\u001b[0m │ stage2.mbconv2.r… │          \u001b[2m                    \u001b[0m\n",
       "         │ \u001b[1m(\u001b[0mBatchNormalizatio… │ \u001b[1;36m48\u001b[0m\u001b[1m)\u001b[0m               │            │                   │          \u001b[2m                    \u001b[0m\n",
       "         ├─────────────────────┼───────────────────┼────────────┼───────────────────┤          \u001b[2m                    \u001b[0m\n",
       "         │ dropout_1 \u001b[1m(\u001b[0mDropout\u001b[1m)\u001b[0m │ \u001b[1m(\u001b[0m\u001b[3;35mNone\u001b[0m, \u001b[1;36m1\u001b[0m, \u001b[1;36m100\u001b[0m,    │          \u001b[1;36m0\u001b[0m │ stage2.mbconv2.r… │          \u001b[2m                    \u001b[0m\n",
       "         │                     │ \u001b[1;36m48\u001b[0m\u001b[1m)\u001b[0m               │            │                   │          \u001b[2m                    \u001b[0m\n",
       "         ├─────────────────────┼───────────────────┼────────────┼───────────────────┤          \u001b[2m                    \u001b[0m\n",
       "         │ stage2.mbconv2.res  │ \u001b[1m(\u001b[0m\u001b[3;35mNone\u001b[0m, \u001b[1;36m1\u001b[0m, \u001b[1;36m100\u001b[0m,    │          \u001b[1;36m0\u001b[0m │ stage2.mbconv1.r… │          \u001b[2m                    \u001b[0m\n",
       "         │ \u001b[1m(\u001b[0mAdd\u001b[1m)\u001b[0m               │ \u001b[1;36m48\u001b[0m\u001b[1m)\u001b[0m               │            │ dropout_1\u001b[1m[\u001b[0m\u001b[1;36m0\u001b[0m\u001b[1m]\u001b[0m\u001b[1m[\u001b[0m\u001b[1;36m0\u001b[0m\u001b[1m]\u001b[0m   │          \u001b[2m                    \u001b[0m\n",
       "         ├─────────────────────┼───────────────────┼────────────┼───────────────────┤          \u001b[2m                    \u001b[0m\n",
       "         │ stage3.mbconv1.dp   │ \u001b[1m(\u001b[0m\u001b[3;35mNone\u001b[0m, \u001b[1;36m1\u001b[0m, \u001b[1;36m100\u001b[0m,    │        \u001b[1;36m432\u001b[0m │ stage2.mbconv2.r… │          \u001b[2m                    \u001b[0m\n",
       "         │ \u001b[1m(\u001b[0mDepthwiseConv2D\u001b[1m)\u001b[0m   │ \u001b[1;36m48\u001b[0m\u001b[1m)\u001b[0m               │            │                   │          \u001b[2m                    \u001b[0m\n",
       "         ├─────────────────────┼───────────────────┼────────────┼───────────────────┤          \u001b[2m                    \u001b[0m\n",
       "         │ stage3.mbconv1.dp.… │ \u001b[1m(\u001b[0m\u001b[3;35mNone\u001b[0m, \u001b[1;36m1\u001b[0m, \u001b[1;36m100\u001b[0m,    │        \u001b[1;36m192\u001b[0m │ stage3.mbconv1.d… │          \u001b[2m                    \u001b[0m\n",
       "         │ \u001b[1m(\u001b[0mBatchNormalizatio… │ \u001b[1;36m48\u001b[0m\u001b[1m)\u001b[0m               │            │                   │          \u001b[2m                    \u001b[0m\n",
       "         ├─────────────────────┼───────────────────┼────────────┼───────────────────┤          \u001b[2m                    \u001b[0m\n",
       "         │ stage3.mbconv1.dp.… │ \u001b[1m(\u001b[0m\u001b[3;35mNone\u001b[0m, \u001b[1;36m1\u001b[0m, \u001b[1;36m100\u001b[0m,    │          \u001b[1;36m0\u001b[0m │ stage3.mbconv1.d… │          \u001b[2m                    \u001b[0m\n",
       "         │ \u001b[1m(\u001b[0mActivation\u001b[1m)\u001b[0m        │ \u001b[1;36m48\u001b[0m\u001b[1m)\u001b[0m               │            │                   │          \u001b[2m                    \u001b[0m\n",
       "         ├─────────────────────┼───────────────────┼────────────┼───────────────────┤          \u001b[2m                    \u001b[0m\n",
       "         │ max_pooling2d_2     │ \u001b[1m(\u001b[0m\u001b[3;35mNone\u001b[0m, \u001b[1;36m1\u001b[0m, \u001b[1;36m50\u001b[0m, \u001b[1;36m48\u001b[0m\u001b[1m)\u001b[0m │          \u001b[1;36m0\u001b[0m │ stage3.mbconv1.d… │          \u001b[2m                    \u001b[0m\n",
       "         │ \u001b[1m(\u001b[0mMaxPooling2D\u001b[1m)\u001b[0m      │                   │            │                   │          \u001b[2m                    \u001b[0m\n",
       "         ├─────────────────────┼───────────────────┼────────────┼───────────────────┤          \u001b[2m                    \u001b[0m\n",
       "         │ stage3.mbconv1.se.… │ \u001b[1m(\u001b[0m\u001b[3;35mNone\u001b[0m, \u001b[1;36m1\u001b[0m, \u001b[1;36m1\u001b[0m, \u001b[1;36m48\u001b[0m\u001b[1m)\u001b[0m  │          \u001b[1;36m0\u001b[0m │ max_pooling2d_2\u001b[1m[\u001b[0m… │          \u001b[2m                    \u001b[0m\n",
       "         │ \u001b[1m(\u001b[0mGlobalAveragePool… │                   │            │                   │          \u001b[2m                    \u001b[0m\n",
       "         ├─────────────────────┼───────────────────┼────────────┼───────────────────┤          \u001b[2m                    \u001b[0m\n",
       "         │ stage3.mbconv1.se.… │ \u001b[1m(\u001b[0m\u001b[3;35mNone\u001b[0m, \u001b[1;36m1\u001b[0m, \u001b[1;36m1\u001b[0m, \u001b[1;36m12\u001b[0m\u001b[1m)\u001b[0m  │        \u001b[1;36m588\u001b[0m │ stage3.mbconv1.s… │          \u001b[2m                    \u001b[0m\n",
       "         │ \u001b[1m(\u001b[0mConv2D\u001b[1m)\u001b[0m            │                   │            │                   │          \u001b[2m                    \u001b[0m\n",
       "         ├─────────────────────┼───────────────────┼────────────┼───────────────────┤          \u001b[2m                    \u001b[0m\n",
       "         │ stage3.mbconv1.se.… │ \u001b[1m(\u001b[0m\u001b[3;35mNone\u001b[0m, \u001b[1;36m1\u001b[0m, \u001b[1;36m1\u001b[0m, \u001b[1;36m12\u001b[0m\u001b[1m)\u001b[0m  │          \u001b[1;36m0\u001b[0m │ stage3.mbconv1.s… │          \u001b[2m                    \u001b[0m\n",
       "         │ \u001b[1m(\u001b[0mActivation\u001b[1m)\u001b[0m        │                   │            │                   │          \u001b[2m                    \u001b[0m\n",
       "         ├─────────────────────┼───────────────────┼────────────┼───────────────────┤          \u001b[2m                    \u001b[0m\n",
       "         │ stage3.mbconv1.se.… │ \u001b[1m(\u001b[0m\u001b[3;35mNone\u001b[0m, \u001b[1;36m1\u001b[0m, \u001b[1;36m1\u001b[0m, \u001b[1;36m48\u001b[0m\u001b[1m)\u001b[0m  │        \u001b[1;36m624\u001b[0m │ stage3.mbconv1.s… │          \u001b[2m                    \u001b[0m\n",
       "         │ \u001b[1m(\u001b[0mConv2D\u001b[1m)\u001b[0m            │                   │            │                   │          \u001b[2m                    \u001b[0m\n",
       "         ├─────────────────────┼───────────────────┼────────────┼───────────────────┤          \u001b[2m                    \u001b[0m\n",
       "         │ stage3.mbconv1.se.… │ \u001b[1m(\u001b[0m\u001b[3;35mNone\u001b[0m, \u001b[1;36m1\u001b[0m, \u001b[1;36m1\u001b[0m, \u001b[1;36m48\u001b[0m\u001b[1m)\u001b[0m  │          \u001b[1;36m0\u001b[0m │ stage3.mbconv1.s… │          \u001b[2m                    \u001b[0m\n",
       "         │ \u001b[1m(\u001b[0mActivation\u001b[1m)\u001b[0m        │                   │            │                   │          \u001b[2m                    \u001b[0m\n",
       "         ├─────────────────────┼───────────────────┼────────────┼───────────────────┤          \u001b[2m                    \u001b[0m\n",
       "         │ multiply_4          │ \u001b[1m(\u001b[0m\u001b[3;35mNone\u001b[0m, \u001b[1;36m1\u001b[0m, \u001b[1;36m50\u001b[0m, \u001b[1;36m48\u001b[0m\u001b[1m)\u001b[0m │          \u001b[1;36m0\u001b[0m │ max_pooling2d_2\u001b[1m[\u001b[0m… │          \u001b[2m                    \u001b[0m\n",
       "         │ \u001b[1m(\u001b[0mMultiply\u001b[1m)\u001b[0m          │                   │            │ stage3.mbconv1.s… │          \u001b[2m                    \u001b[0m\n",
       "         ├─────────────────────┼───────────────────┼────────────┼───────────────────┤          \u001b[2m                    \u001b[0m\n",
       "         │ stage3.mbconv1.red… │ \u001b[1m(\u001b[0m\u001b[3;35mNone\u001b[0m, \u001b[1;36m1\u001b[0m, \u001b[1;36m50\u001b[0m, \u001b[1;36m64\u001b[0m\u001b[1m)\u001b[0m │      \u001b[1;36m3\u001b[0m,\u001b[1;36m072\u001b[0m │ multiply_4\u001b[1m[\u001b[0m\u001b[1;36m0\u001b[0m\u001b[1m]\u001b[0m\u001b[1m[\u001b[0m\u001b[1;36m0\u001b[0m\u001b[1m]\u001b[0m  │          \u001b[2m                    \u001b[0m\n",
       "         │ \u001b[1m(\u001b[0mConv2D\u001b[1m)\u001b[0m            │                   │            │                   │          \u001b[2m                    \u001b[0m\n",
       "         ├─────────────────────┼───────────────────┼────────────┼───────────────────┤          \u001b[2m                    \u001b[0m\n",
       "         │ stage3.mbconv1.red… │ \u001b[1m(\u001b[0m\u001b[3;35mNone\u001b[0m, \u001b[1;36m1\u001b[0m, \u001b[1;36m50\u001b[0m, \u001b[1;36m64\u001b[0m\u001b[1m)\u001b[0m │        \u001b[1;36m256\u001b[0m │ stage3.mbconv1.r… │          \u001b[2m                    \u001b[0m\n",
       "         │ \u001b[1m(\u001b[0mBatchNormalizatio… │                   │            │                   │          \u001b[2m                    \u001b[0m\n",
       "         ├─────────────────────┼───────────────────┼────────────┼───────────────────┤          \u001b[2m                    \u001b[0m\n",
       "         │ stage3.mbconv2.dp   │ \u001b[1m(\u001b[0m\u001b[3;35mNone\u001b[0m, \u001b[1;36m1\u001b[0m, \u001b[1;36m50\u001b[0m, \u001b[1;36m64\u001b[0m\u001b[1m)\u001b[0m │        \u001b[1;36m576\u001b[0m │ stage3.mbconv1.r… │          \u001b[2m                    \u001b[0m\n",
       "         │ \u001b[1m(\u001b[0mDepthwiseConv2D\u001b[1m)\u001b[0m   │                   │            │                   │          \u001b[2m                    \u001b[0m\n",
       "         ├─────────────────────┼───────────────────┼────────────┼───────────────────┤          \u001b[2m                    \u001b[0m\n",
       "         │ stage3.mbconv2.dp.… │ \u001b[1m(\u001b[0m\u001b[3;35mNone\u001b[0m, \u001b[1;36m1\u001b[0m, \u001b[1;36m50\u001b[0m, \u001b[1;36m64\u001b[0m\u001b[1m)\u001b[0m │        \u001b[1;36m256\u001b[0m │ stage3.mbconv2.d… │          \u001b[2m                    \u001b[0m\n",
       "         │ \u001b[1m(\u001b[0mBatchNormalizatio… │                   │            │                   │          \u001b[2m                    \u001b[0m\n",
       "         ├─────────────────────┼───────────────────┼────────────┼───────────────────┤          \u001b[2m                    \u001b[0m\n",
       "         │ stage3.mbconv2.dp.… │ \u001b[1m(\u001b[0m\u001b[3;35mNone\u001b[0m, \u001b[1;36m1\u001b[0m, \u001b[1;36m50\u001b[0m, \u001b[1;36m64\u001b[0m\u001b[1m)\u001b[0m │          \u001b[1;36m0\u001b[0m │ stage3.mbconv2.d… │          \u001b[2m                    \u001b[0m\n",
       "         │ \u001b[1m(\u001b[0mActivation\u001b[1m)\u001b[0m        │                   │            │                   │          \u001b[2m                    \u001b[0m\n",
       "         ├─────────────────────┼───────────────────┼────────────┼───────────────────┤          \u001b[2m                    \u001b[0m\n",
       "         │ stage3.mbconv2.se.… │ \u001b[1m(\u001b[0m\u001b[3;35mNone\u001b[0m, \u001b[1;36m1\u001b[0m, \u001b[1;36m1\u001b[0m, \u001b[1;36m64\u001b[0m\u001b[1m)\u001b[0m  │          \u001b[1;36m0\u001b[0m │ stage3.mbconv2.d… │          \u001b[2m                    \u001b[0m\n",
       "         │ \u001b[1m(\u001b[0mGlobalAveragePool… │                   │            │                   │          \u001b[2m                    \u001b[0m\n",
       "         ├─────────────────────┼───────────────────┼────────────┼───────────────────┤          \u001b[2m                    \u001b[0m\n",
       "         │ stage3.mbconv2.se.… │ \u001b[1m(\u001b[0m\u001b[3;35mNone\u001b[0m, \u001b[1;36m1\u001b[0m, \u001b[1;36m1\u001b[0m, \u001b[1;36m16\u001b[0m\u001b[1m)\u001b[0m  │      \u001b[1;36m1\u001b[0m,\u001b[1;36m040\u001b[0m │ stage3.mbconv2.s… │          \u001b[2m                    \u001b[0m\n",
       "         │ \u001b[1m(\u001b[0mConv2D\u001b[1m)\u001b[0m            │                   │            │                   │          \u001b[2m                    \u001b[0m\n",
       "         ├─────────────────────┼───────────────────┼────────────┼───────────────────┤          \u001b[2m                    \u001b[0m\n",
       "         │ stage3.mbconv2.se.… │ \u001b[1m(\u001b[0m\u001b[3;35mNone\u001b[0m, \u001b[1;36m1\u001b[0m, \u001b[1;36m1\u001b[0m, \u001b[1;36m16\u001b[0m\u001b[1m)\u001b[0m  │          \u001b[1;36m0\u001b[0m │ stage3.mbconv2.s… │          \u001b[2m                    \u001b[0m\n",
       "         │ \u001b[1m(\u001b[0mActivation\u001b[1m)\u001b[0m        │                   │            │                   │          \u001b[2m                    \u001b[0m\n",
       "         ├─────────────────────┼───────────────────┼────────────┼───────────────────┤          \u001b[2m                    \u001b[0m\n",
       "         │ stage3.mbconv2.se.… │ \u001b[1m(\u001b[0m\u001b[3;35mNone\u001b[0m, \u001b[1;36m1\u001b[0m, \u001b[1;36m1\u001b[0m, \u001b[1;36m64\u001b[0m\u001b[1m)\u001b[0m  │      \u001b[1;36m1\u001b[0m,\u001b[1;36m088\u001b[0m │ stage3.mbconv2.s… │          \u001b[2m                    \u001b[0m\n",
       "         │ \u001b[1m(\u001b[0mConv2D\u001b[1m)\u001b[0m            │                   │            │                   │          \u001b[2m                    \u001b[0m\n",
       "         ├─────────────────────┼───────────────────┼────────────┼───────────────────┤          \u001b[2m                    \u001b[0m\n",
       "         │ stage3.mbconv2.se.… │ \u001b[1m(\u001b[0m\u001b[3;35mNone\u001b[0m, \u001b[1;36m1\u001b[0m, \u001b[1;36m1\u001b[0m, \u001b[1;36m64\u001b[0m\u001b[1m)\u001b[0m  │          \u001b[1;36m0\u001b[0m │ stage3.mbconv2.s… │          \u001b[2m                    \u001b[0m\n",
       "         │ \u001b[1m(\u001b[0mActivation\u001b[1m)\u001b[0m        │                   │            │                   │          \u001b[2m                    \u001b[0m\n",
       "         ├─────────────────────┼───────────────────┼────────────┼───────────────────┤          \u001b[2m                    \u001b[0m\n",
       "         │ multiply_5          │ \u001b[1m(\u001b[0m\u001b[3;35mNone\u001b[0m, \u001b[1;36m1\u001b[0m, \u001b[1;36m50\u001b[0m, \u001b[1;36m64\u001b[0m\u001b[1m)\u001b[0m │          \u001b[1;36m0\u001b[0m │ stage3.mbconv2.d… │          \u001b[2m                    \u001b[0m\n",
       "         │ \u001b[1m(\u001b[0mMultiply\u001b[1m)\u001b[0m          │                   │            │ stage3.mbconv2.s… │          \u001b[2m                    \u001b[0m\n",
       "         ├─────────────────────┼───────────────────┼────────────┼───────────────────┤          \u001b[2m                    \u001b[0m\n",
       "         │ stage3.mbconv2.red… │ \u001b[1m(\u001b[0m\u001b[3;35mNone\u001b[0m, \u001b[1;36m1\u001b[0m, \u001b[1;36m50\u001b[0m, \u001b[1;36m64\u001b[0m\u001b[1m)\u001b[0m │      \u001b[1;36m4\u001b[0m,\u001b[1;36m096\u001b[0m │ multiply_5\u001b[1m[\u001b[0m\u001b[1;36m0\u001b[0m\u001b[1m]\u001b[0m\u001b[1m[\u001b[0m\u001b[1;36m0\u001b[0m\u001b[1m]\u001b[0m  │          \u001b[2m                    \u001b[0m\n",
       "         │ \u001b[1m(\u001b[0mConv2D\u001b[1m)\u001b[0m            │                   │            │                   │          \u001b[2m                    \u001b[0m\n",
       "         ├─────────────────────┼───────────────────┼────────────┼───────────────────┤          \u001b[2m                    \u001b[0m\n",
       "         │ stage3.mbconv2.red… │ \u001b[1m(\u001b[0m\u001b[3;35mNone\u001b[0m, \u001b[1;36m1\u001b[0m, \u001b[1;36m50\u001b[0m, \u001b[1;36m64\u001b[0m\u001b[1m)\u001b[0m │        \u001b[1;36m256\u001b[0m │ stage3.mbconv2.r… │          \u001b[2m                    \u001b[0m\n",
       "         │ \u001b[1m(\u001b[0mBatchNormalizatio… │                   │            │                   │          \u001b[2m                    \u001b[0m\n",
       "         ├─────────────────────┼───────────────────┼────────────┼───────────────────┤          \u001b[2m                    \u001b[0m\n",
       "         │ dropout_2 \u001b[1m(\u001b[0mDropout\u001b[1m)\u001b[0m │ \u001b[1m(\u001b[0m\u001b[3;35mNone\u001b[0m, \u001b[1;36m1\u001b[0m, \u001b[1;36m50\u001b[0m, \u001b[1;36m64\u001b[0m\u001b[1m)\u001b[0m │          \u001b[1;36m0\u001b[0m │ stage3.mbconv2.r… │          \u001b[2m                    \u001b[0m\n",
       "         ├─────────────────────┼───────────────────┼────────────┼───────────────────┤          \u001b[2m                    \u001b[0m\n",
       "         │ stage3.mbconv2.res  │ \u001b[1m(\u001b[0m\u001b[3;35mNone\u001b[0m, \u001b[1;36m1\u001b[0m, \u001b[1;36m50\u001b[0m, \u001b[1;36m64\u001b[0m\u001b[1m)\u001b[0m │          \u001b[1;36m0\u001b[0m │ stage3.mbconv1.r… │          \u001b[2m                    \u001b[0m\n",
       "         │ \u001b[1m(\u001b[0mAdd\u001b[1m)\u001b[0m               │                   │            │ dropout_2\u001b[1m[\u001b[0m\u001b[1;36m0\u001b[0m\u001b[1m]\u001b[0m\u001b[1m[\u001b[0m\u001b[1;36m0\u001b[0m\u001b[1m]\u001b[0m   │          \u001b[2m                    \u001b[0m\n",
       "         ├─────────────────────┼───────────────────┼────────────┼───────────────────┤          \u001b[2m                    \u001b[0m\n",
       "         │ stage4.mbconv1.dp   │ \u001b[1m(\u001b[0m\u001b[3;35mNone\u001b[0m, \u001b[1;36m1\u001b[0m, \u001b[1;36m50\u001b[0m, \u001b[1;36m64\u001b[0m\u001b[1m)\u001b[0m │        \u001b[1;36m576\u001b[0m │ stage3.mbconv2.r… │          \u001b[2m                    \u001b[0m\n",
       "         │ \u001b[1m(\u001b[0mDepthwiseConv2D\u001b[1m)\u001b[0m   │                   │            │                   │          \u001b[2m                    \u001b[0m\n",
       "         ├─────────────────────┼───────────────────┼────────────┼───────────────────┤          \u001b[2m                    \u001b[0m\n",
       "         │ stage4.mbconv1.dp.… │ \u001b[1m(\u001b[0m\u001b[3;35mNone\u001b[0m, \u001b[1;36m1\u001b[0m, \u001b[1;36m50\u001b[0m, \u001b[1;36m64\u001b[0m\u001b[1m)\u001b[0m │        \u001b[1;36m256\u001b[0m │ stage4.mbconv1.d… │          \u001b[2m                    \u001b[0m\n",
       "         │ \u001b[1m(\u001b[0mBatchNormalizatio… │                   │            │                   │          \u001b[2m                    \u001b[0m\n",
       "         ├─────────────────────┼───────────────────┼────────────┼───────────────────┤          \u001b[2m                    \u001b[0m\n",
       "         │ stage4.mbconv1.dp.… │ \u001b[1m(\u001b[0m\u001b[3;35mNone\u001b[0m, \u001b[1;36m1\u001b[0m, \u001b[1;36m50\u001b[0m, \u001b[1;36m64\u001b[0m\u001b[1m)\u001b[0m │          \u001b[1;36m0\u001b[0m │ stage4.mbconv1.d… │          \u001b[2m                    \u001b[0m\n",
       "         │ \u001b[1m(\u001b[0mActivation\u001b[1m)\u001b[0m        │                   │            │                   │          \u001b[2m                    \u001b[0m\n",
       "         ├─────────────────────┼───────────────────┼────────────┼───────────────────┤          \u001b[2m                    \u001b[0m\n",
       "         │ max_pooling2d_3     │ \u001b[1m(\u001b[0m\u001b[3;35mNone\u001b[0m, \u001b[1;36m1\u001b[0m, \u001b[1;36m25\u001b[0m, \u001b[1;36m64\u001b[0m\u001b[1m)\u001b[0m │          \u001b[1;36m0\u001b[0m │ stage4.mbconv1.d… │          \u001b[2m                    \u001b[0m\n",
       "         │ \u001b[1m(\u001b[0mMaxPooling2D\u001b[1m)\u001b[0m      │                   │            │                   │          \u001b[2m                    \u001b[0m\n",
       "         ├─────────────────────┼───────────────────┼────────────┼───────────────────┤          \u001b[2m                    \u001b[0m\n",
       "         │ stage4.mbconv1.se.… │ \u001b[1m(\u001b[0m\u001b[3;35mNone\u001b[0m, \u001b[1;36m1\u001b[0m, \u001b[1;36m1\u001b[0m, \u001b[1;36m64\u001b[0m\u001b[1m)\u001b[0m  │          \u001b[1;36m0\u001b[0m │ max_pooling2d_3\u001b[1m[\u001b[0m… │          \u001b[2m                    \u001b[0m\n",
       "         │ \u001b[1m(\u001b[0mGlobalAveragePool… │                   │            │                   │          \u001b[2m                    \u001b[0m\n",
       "         ├─────────────────────┼───────────────────┼────────────┼───────────────────┤          \u001b[2m                    \u001b[0m\n",
       "         │ stage4.mbconv1.se.… │ \u001b[1m(\u001b[0m\u001b[3;35mNone\u001b[0m, \u001b[1;36m1\u001b[0m, \u001b[1;36m1\u001b[0m, \u001b[1;36m16\u001b[0m\u001b[1m)\u001b[0m  │      \u001b[1;36m1\u001b[0m,\u001b[1;36m040\u001b[0m │ stage4.mbconv1.s… │          \u001b[2m                    \u001b[0m\n",
       "         │ \u001b[1m(\u001b[0mConv2D\u001b[1m)\u001b[0m            │                   │            │                   │          \u001b[2m                    \u001b[0m\n",
       "         ├─────────────────────┼───────────────────┼────────────┼───────────────────┤          \u001b[2m                    \u001b[0m\n",
       "         │ stage4.mbconv1.se.… │ \u001b[1m(\u001b[0m\u001b[3;35mNone\u001b[0m, \u001b[1;36m1\u001b[0m, \u001b[1;36m1\u001b[0m, \u001b[1;36m16\u001b[0m\u001b[1m)\u001b[0m  │          \u001b[1;36m0\u001b[0m │ stage4.mbconv1.s… │          \u001b[2m                    \u001b[0m\n",
       "         │ \u001b[1m(\u001b[0mActivation\u001b[1m)\u001b[0m        │                   │            │                   │          \u001b[2m                    \u001b[0m\n",
       "         ├─────────────────────┼───────────────────┼────────────┼───────────────────┤          \u001b[2m                    \u001b[0m\n",
       "         │ stage4.mbconv1.se.… │ \u001b[1m(\u001b[0m\u001b[3;35mNone\u001b[0m, \u001b[1;36m1\u001b[0m, \u001b[1;36m1\u001b[0m, \u001b[1;36m64\u001b[0m\u001b[1m)\u001b[0m  │      \u001b[1;36m1\u001b[0m,\u001b[1;36m088\u001b[0m │ stage4.mbconv1.s… │          \u001b[2m                    \u001b[0m\n",
       "         │ \u001b[1m(\u001b[0mConv2D\u001b[1m)\u001b[0m            │                   │            │                   │          \u001b[2m                    \u001b[0m\n",
       "         ├─────────────────────┼───────────────────┼────────────┼───────────────────┤          \u001b[2m                    \u001b[0m\n",
       "         │ stage4.mbconv1.se.… │ \u001b[1m(\u001b[0m\u001b[3;35mNone\u001b[0m, \u001b[1;36m1\u001b[0m, \u001b[1;36m1\u001b[0m, \u001b[1;36m64\u001b[0m\u001b[1m)\u001b[0m  │          \u001b[1;36m0\u001b[0m │ stage4.mbconv1.s… │          \u001b[2m                    \u001b[0m\n",
       "         │ \u001b[1m(\u001b[0mActivation\u001b[1m)\u001b[0m        │                   │            │                   │          \u001b[2m                    \u001b[0m\n",
       "         ├─────────────────────┼───────────────────┼────────────┼───────────────────┤          \u001b[2m                    \u001b[0m\n",
       "         │ multiply_6          │ \u001b[1m(\u001b[0m\u001b[3;35mNone\u001b[0m, \u001b[1;36m1\u001b[0m, \u001b[1;36m25\u001b[0m, \u001b[1;36m64\u001b[0m\u001b[1m)\u001b[0m │          \u001b[1;36m0\u001b[0m │ max_pooling2d_3\u001b[1m[\u001b[0m… │          \u001b[2m                    \u001b[0m\n",
       "         │ \u001b[1m(\u001b[0mMultiply\u001b[1m)\u001b[0m          │                   │            │ stage4.mbconv1.s… │          \u001b[2m                    \u001b[0m\n",
       "         ├─────────────────────┼───────────────────┼────────────┼───────────────────┤          \u001b[2m                    \u001b[0m\n",
       "         │ stage4.mbconv1.red… │ \u001b[1m(\u001b[0m\u001b[3;35mNone\u001b[0m, \u001b[1;36m1\u001b[0m, \u001b[1;36m25\u001b[0m, \u001b[1;36m80\u001b[0m\u001b[1m)\u001b[0m │      \u001b[1;36m5\u001b[0m,\u001b[1;36m120\u001b[0m │ multiply_6\u001b[1m[\u001b[0m\u001b[1;36m0\u001b[0m\u001b[1m]\u001b[0m\u001b[1m[\u001b[0m\u001b[1;36m0\u001b[0m\u001b[1m]\u001b[0m  │          \u001b[2m                    \u001b[0m\n",
       "         │ \u001b[1m(\u001b[0mConv2D\u001b[1m)\u001b[0m            │                   │            │                   │          \u001b[2m                    \u001b[0m\n",
       "         ├─────────────────────┼───────────────────┼────────────┼───────────────────┤          \u001b[2m                    \u001b[0m\n",
       "         │ stage4.mbconv1.red… │ \u001b[1m(\u001b[0m\u001b[3;35mNone\u001b[0m, \u001b[1;36m1\u001b[0m, \u001b[1;36m25\u001b[0m, \u001b[1;36m80\u001b[0m\u001b[1m)\u001b[0m │        \u001b[1;36m320\u001b[0m │ stage4.mbconv1.r… │          \u001b[2m                    \u001b[0m\n",
       "         │ \u001b[1m(\u001b[0mBatchNormalizatio… │                   │            │                   │          \u001b[2m                    \u001b[0m\n",
       "         ├─────────────────────┼───────────────────┼────────────┼───────────────────┤          \u001b[2m                    \u001b[0m\n",
       "         │ stage5.mbconv1.dp   │ \u001b[1m(\u001b[0m\u001b[3;35mNone\u001b[0m, \u001b[1;36m1\u001b[0m, \u001b[1;36m25\u001b[0m, \u001b[1;36m80\u001b[0m\u001b[1m)\u001b[0m │        \u001b[1;36m720\u001b[0m │ stage4.mbconv1.r… │          \u001b[2m                    \u001b[0m\n",
       "         │ \u001b[1m(\u001b[0mDepthwiseConv2D\u001b[1m)\u001b[0m   │                   │            │                   │          \u001b[2m                    \u001b[0m\n",
       "         ├─────────────────────┼───────────────────┼────────────┼───────────────────┤          \u001b[2m                    \u001b[0m\n",
       "         │ stage5.mbconv1.dp.… │ \u001b[1m(\u001b[0m\u001b[3;35mNone\u001b[0m, \u001b[1;36m1\u001b[0m, \u001b[1;36m25\u001b[0m, \u001b[1;36m80\u001b[0m\u001b[1m)\u001b[0m │        \u001b[1;36m320\u001b[0m │ stage5.mbconv1.d… │          \u001b[2m                    \u001b[0m\n",
       "         │ \u001b[1m(\u001b[0mBatchNormalizatio… │                   │            │                   │          \u001b[2m                    \u001b[0m\n",
       "         ├─────────────────────┼───────────────────┼────────────┼───────────────────┤          \u001b[2m                    \u001b[0m\n",
       "         │ stage5.mbconv1.dp.… │ \u001b[1m(\u001b[0m\u001b[3;35mNone\u001b[0m, \u001b[1;36m1\u001b[0m, \u001b[1;36m25\u001b[0m, \u001b[1;36m80\u001b[0m\u001b[1m)\u001b[0m │          \u001b[1;36m0\u001b[0m │ stage5.mbconv1.d… │          \u001b[2m                    \u001b[0m\n",
       "         │ \u001b[1m(\u001b[0mActivation\u001b[1m)\u001b[0m        │                   │            │                   │          \u001b[2m                    \u001b[0m\n",
       "         ├─────────────────────┼───────────────────┼────────────┼───────────────────┤          \u001b[2m                    \u001b[0m\n",
       "         │ max_pooling2d_4     │ \u001b[1m(\u001b[0m\u001b[3;35mNone\u001b[0m, \u001b[1;36m1\u001b[0m, \u001b[1;36m13\u001b[0m, \u001b[1;36m80\u001b[0m\u001b[1m)\u001b[0m │          \u001b[1;36m0\u001b[0m │ stage5.mbconv1.d… │          \u001b[2m                    \u001b[0m\n",
       "         │ \u001b[1m(\u001b[0mMaxPooling2D\u001b[1m)\u001b[0m      │                   │            │                   │          \u001b[2m                    \u001b[0m\n",
       "         ├─────────────────────┼───────────────────┼────────────┼───────────────────┤          \u001b[2m                    \u001b[0m\n",
       "         │ stage5.mbconv1.se.… │ \u001b[1m(\u001b[0m\u001b[3;35mNone\u001b[0m, \u001b[1;36m1\u001b[0m, \u001b[1;36m1\u001b[0m, \u001b[1;36m80\u001b[0m\u001b[1m)\u001b[0m  │          \u001b[1;36m0\u001b[0m │ max_pooling2d_4\u001b[1m[\u001b[0m… │          \u001b[2m                    \u001b[0m\n",
       "         │ \u001b[1m(\u001b[0mGlobalAveragePool… │                   │            │                   │          \u001b[2m                    \u001b[0m\n",
       "         ├─────────────────────┼───────────────────┼────────────┼───────────────────┤          \u001b[2m                    \u001b[0m\n",
       "         │ stage5.mbconv1.se.… │ \u001b[1m(\u001b[0m\u001b[3;35mNone\u001b[0m, \u001b[1;36m1\u001b[0m, \u001b[1;36m1\u001b[0m, \u001b[1;36m20\u001b[0m\u001b[1m)\u001b[0m  │      \u001b[1;36m1\u001b[0m,\u001b[1;36m620\u001b[0m │ stage5.mbconv1.s… │          \u001b[2m                    \u001b[0m\n",
       "         │ \u001b[1m(\u001b[0mConv2D\u001b[1m)\u001b[0m            │                   │            │                   │          \u001b[2m                    \u001b[0m\n",
       "         ├─────────────────────┼───────────────────┼────────────┼───────────────────┤          \u001b[2m                    \u001b[0m\n",
       "         │ stage5.mbconv1.se.… │ \u001b[1m(\u001b[0m\u001b[3;35mNone\u001b[0m, \u001b[1;36m1\u001b[0m, \u001b[1;36m1\u001b[0m, \u001b[1;36m20\u001b[0m\u001b[1m)\u001b[0m  │          \u001b[1;36m0\u001b[0m │ stage5.mbconv1.s… │          \u001b[2m                    \u001b[0m\n",
       "         │ \u001b[1m(\u001b[0mActivation\u001b[1m)\u001b[0m        │                   │            │                   │          \u001b[2m                    \u001b[0m\n",
       "         ├─────────────────────┼───────────────────┼────────────┼───────────────────┤          \u001b[2m                    \u001b[0m\n",
       "         │ stage5.mbconv1.se.… │ \u001b[1m(\u001b[0m\u001b[3;35mNone\u001b[0m, \u001b[1;36m1\u001b[0m, \u001b[1;36m1\u001b[0m, \u001b[1;36m80\u001b[0m\u001b[1m)\u001b[0m  │      \u001b[1;36m1\u001b[0m,\u001b[1;36m680\u001b[0m │ stage5.mbconv1.s… │          \u001b[2m                    \u001b[0m\n",
       "         │ \u001b[1m(\u001b[0mConv2D\u001b[1m)\u001b[0m            │                   │            │                   │          \u001b[2m                    \u001b[0m\n",
       "         ├─────────────────────┼───────────────────┼────────────┼───────────────────┤          \u001b[2m                    \u001b[0m\n",
       "         │ stage5.mbconv1.se.… │ \u001b[1m(\u001b[0m\u001b[3;35mNone\u001b[0m, \u001b[1;36m1\u001b[0m, \u001b[1;36m1\u001b[0m, \u001b[1;36m80\u001b[0m\u001b[1m)\u001b[0m  │          \u001b[1;36m0\u001b[0m │ stage5.mbconv1.s… │          \u001b[2m                    \u001b[0m\n",
       "         │ \u001b[1m(\u001b[0mActivation\u001b[1m)\u001b[0m        │                   │            │                   │          \u001b[2m                    \u001b[0m\n",
       "         ├─────────────────────┼───────────────────┼────────────┼───────────────────┤          \u001b[2m                    \u001b[0m\n",
       "         │ multiply_7          │ \u001b[1m(\u001b[0m\u001b[3;35mNone\u001b[0m, \u001b[1;36m1\u001b[0m, \u001b[1;36m13\u001b[0m, \u001b[1;36m80\u001b[0m\u001b[1m)\u001b[0m │          \u001b[1;36m0\u001b[0m │ max_pooling2d_4\u001b[1m[\u001b[0m… │          \u001b[2m                    \u001b[0m\n",
       "         │ \u001b[1m(\u001b[0mMultiply\u001b[1m)\u001b[0m          │                   │            │ stage5.mbconv1.s… │          \u001b[2m                    \u001b[0m\n",
       "         ├─────────────────────┼───────────────────┼────────────┼───────────────────┤          \u001b[2m                    \u001b[0m\n",
       "         │ stage5.mbconv1.red… │ \u001b[1m(\u001b[0m\u001b[3;35mNone\u001b[0m, \u001b[1;36m1\u001b[0m, \u001b[1;36m13\u001b[0m, \u001b[1;36m96\u001b[0m\u001b[1m)\u001b[0m │      \u001b[1;36m7\u001b[0m,\u001b[1;36m680\u001b[0m │ multiply_7\u001b[1m[\u001b[0m\u001b[1;36m0\u001b[0m\u001b[1m]\u001b[0m\u001b[1m[\u001b[0m\u001b[1;36m0\u001b[0m\u001b[1m]\u001b[0m  │          \u001b[2m                    \u001b[0m\n",
       "         │ \u001b[1m(\u001b[0mConv2D\u001b[1m)\u001b[0m            │                   │            │                   │          \u001b[2m                    \u001b[0m\n",
       "         ├─────────────────────┼───────────────────┼────────────┼───────────────────┤          \u001b[2m                    \u001b[0m\n",
       "         │ stage5.mbconv1.red… │ \u001b[1m(\u001b[0m\u001b[3;35mNone\u001b[0m, \u001b[1;36m1\u001b[0m, \u001b[1;36m13\u001b[0m, \u001b[1;36m96\u001b[0m\u001b[1m)\u001b[0m │        \u001b[1;36m384\u001b[0m │ stage5.mbconv1.r… │          \u001b[2m                    \u001b[0m\n",
       "         │ \u001b[1m(\u001b[0mBatchNormalizatio… │                   │            │                   │          \u001b[2m                    \u001b[0m\n",
       "         ├─────────────────────┼───────────────────┼────────────┼───────────────────┤          \u001b[2m                    \u001b[0m\n",
       "         │ neck.conv \u001b[1m(\u001b[0mConv2D\u001b[1m)\u001b[0m  │ \u001b[1m(\u001b[0m\u001b[3;35mNone\u001b[0m, \u001b[1;36m1\u001b[0m, \u001b[1;36m13\u001b[0m,     │     \u001b[1;36m12\u001b[0m,\u001b[1;36m288\u001b[0m │ stage5.mbconv1.r… │          \u001b[2m                    \u001b[0m\n",
       "         │                     │ \u001b[1;36m128\u001b[0m\u001b[1m)\u001b[0m              │            │                   │          \u001b[2m                    \u001b[0m\n",
       "         ├─────────────────────┼───────────────────┼────────────┼───────────────────┤          \u001b[2m                    \u001b[0m\n",
       "         │ neck.bn             │ \u001b[1m(\u001b[0m\u001b[3;35mNone\u001b[0m, \u001b[1;36m1\u001b[0m, \u001b[1;36m13\u001b[0m,     │        \u001b[1;36m512\u001b[0m │ neck.conv\u001b[1m[\u001b[0m\u001b[1;36m0\u001b[0m\u001b[1m]\u001b[0m\u001b[1m[\u001b[0m\u001b[1;36m0\u001b[0m\u001b[1m]\u001b[0m   │          \u001b[2m                    \u001b[0m\n",
       "         │ \u001b[1m(\u001b[0mBatchNormalizatio… │ \u001b[1;36m128\u001b[0m\u001b[1m)\u001b[0m              │            │                   │          \u001b[2m                    \u001b[0m\n",
       "         ├─────────────────────┼───────────────────┼────────────┼───────────────────┤          \u001b[2m                    \u001b[0m\n",
       "         │ neck.act            │ \u001b[1m(\u001b[0m\u001b[3;35mNone\u001b[0m, \u001b[1;36m1\u001b[0m, \u001b[1;36m13\u001b[0m,     │          \u001b[1;36m0\u001b[0m │ neck.bn\u001b[1m[\u001b[0m\u001b[1;36m0\u001b[0m\u001b[1m]\u001b[0m\u001b[1m[\u001b[0m\u001b[1;36m0\u001b[0m\u001b[1m]\u001b[0m     │          \u001b[2m                    \u001b[0m\n",
       "         │ \u001b[1m(\u001b[0mActivation\u001b[1m)\u001b[0m        │ \u001b[1;36m128\u001b[0m\u001b[1m)\u001b[0m              │            │                   │          \u001b[2m                    \u001b[0m\n",
       "         ├─────────────────────┼───────────────────┼────────────┼───────────────────┤          \u001b[2m                    \u001b[0m\n",
       "         │ top.pool            │ \u001b[1m(\u001b[0m\u001b[3;35mNone\u001b[0m, \u001b[1;36m128\u001b[0m\u001b[1m)\u001b[0m       │          \u001b[1;36m0\u001b[0m │ neck.act\u001b[1m[\u001b[0m\u001b[1;36m0\u001b[0m\u001b[1m]\u001b[0m\u001b[1m[\u001b[0m\u001b[1;36m0\u001b[0m\u001b[1m]\u001b[0m    │          \u001b[2m                    \u001b[0m\n",
       "         │ \u001b[1m(\u001b[0mGlobalAveragePool… │                   │            │                   │          \u001b[2m                    \u001b[0m\n",
       "         ├─────────────────────┼───────────────────┼────────────┼───────────────────┤          \u001b[2m                    \u001b[0m\n",
       "         │ dropout_3 \u001b[1m(\u001b[0mDropout\u001b[1m)\u001b[0m │ \u001b[1m(\u001b[0m\u001b[3;35mNone\u001b[0m, \u001b[1;36m128\u001b[0m\u001b[1m)\u001b[0m       │          \u001b[1;36m0\u001b[0m │ top.pool\u001b[1m[\u001b[0m\u001b[1;36m0\u001b[0m\u001b[1m]\u001b[0m\u001b[1m[\u001b[0m\u001b[1;36m0\u001b[0m\u001b[1m]\u001b[0m    │          \u001b[2m                    \u001b[0m\n",
       "         └─────────────────────┴───────────────────┴────────────┴───────────────────┘          \u001b[2m                    \u001b[0m\n",
       "          Total params: \u001b[1;36m57\u001b[0m,\u001b[1;36m066\u001b[0m \u001b[1m(\u001b[0m\u001b[1;36m222.91\u001b[0m KB\u001b[1m)\u001b[0m                                                     \u001b[2m                    \u001b[0m\n",
       "          Trainable params: \u001b[1;36m55\u001b[0m,\u001b[1;36m050\u001b[0m \u001b[1m(\u001b[0m\u001b[1;36m215.04\u001b[0m KB\u001b[1m)\u001b[0m                                                 \u001b[2m                    \u001b[0m\n",
       "          Non-trainable params: \u001b[1;36m2\u001b[0m,\u001b[1;36m016\u001b[0m \u001b[1m(\u001b[0m\u001b[1;36m7.88\u001b[0m KB\u001b[1m)\u001b[0m                                                \u001b[2m                    \u001b[0m\n",
       "                                                                                               \u001b[2m                    \u001b[0m\n"
      ]
     },
     "metadata": {},
     "output_type": "display_data"
    },
    {
     "data": {
      "text/html": [
       "<pre style=\"white-space:pre;overflow-x:auto;line-height:normal;font-family:Menlo,'DejaVu Sans Mono',consolas,'Courier New',monospace\"><span style=\"color: #000080; text-decoration-color: #000080\">INFO    </span> Computation: <span style=\"color: #008080; text-decoration-color: #008080; font-weight: bold\">4.17</span> MFLOPs                                                                    <a href=\"file:///tmp/ipykernel_1440105/404182745.py\" target=\"_blank\"><span style=\"color: #7f7f7f; text-decoration-color: #7f7f7f\">404182745.py</span></a><span style=\"color: #7f7f7f; text-decoration-color: #7f7f7f\">:</span><a href=\"file:///tmp/ipykernel_1440105/404182745.py#3\" target=\"_blank\"><span style=\"color: #7f7f7f; text-decoration-color: #7f7f7f\">3</span></a>\n",
       "</pre>\n"
      ],
      "text/plain": [
       "\u001b[34mINFO    \u001b[0m Computation: \u001b[1;36m4.17\u001b[0m MFLOPs                                                                    \u001b]8;id=210027;file:///tmp/ipykernel_1440105/404182745.py\u001b\\\u001b[2m404182745.py\u001b[0m\u001b]8;;\u001b\\\u001b[2m:\u001b[0m\u001b]8;id=343897;file:///tmp/ipykernel_1440105/404182745.py#3\u001b\\\u001b[2m3\u001b[0m\u001b]8;;\u001b\\\n"
      ]
     },
     "metadata": {},
     "output_type": "display_data"
    }
   ],
   "source": [
    "encoder.summary(print_fn=logger.info)\n",
    "flops = nse.metrics.flops.get_flops(encoder, batch_size=1, fpath=os.devnull)\n",
    "logger.info(f\"Computation: {flops/1e6:0.2f} MFLOPs\")\n",
    "encoder_output = encoder(inputs)"
   ]
  },
  {
   "cell_type": "code",
   "execution_count": 14,
   "metadata": {},
   "outputs": [
    {
     "data": {
      "text/html": [
       "<pre style=\"white-space:pre;overflow-x:auto;line-height:normal;font-family:Menlo,'DejaVu Sans Mono',consolas,'Courier New',monospace\"></pre>\n"
      ],
      "text/plain": []
     },
     "metadata": {},
     "output_type": "display_data"
    },
    {
     "data": {
      "text/html": [
       "<pre style=\"white-space:pre;overflow-x:auto;line-height:normal;font-family:Menlo,'DejaVu Sans Mono',consolas,'Courier New',monospace\"><span style=\"color: #000080; text-decoration-color: #000080\">INFO    </span> Model: <span style=\"color: #008000; text-decoration-color: #008000\">\"projector\"</span>                                                                    <a href=\"file:///workspaces/heartkit/.venv/lib/python3.12/site-packages/keras/src/utils/summary_utils.py\" target=\"_blank\"><span style=\"color: #7f7f7f; text-decoration-color: #7f7f7f\">summary_utils.py</span></a><span style=\"color: #7f7f7f; text-decoration-color: #7f7f7f\">:</span><a href=\"file:///workspaces/heartkit/.venv/lib/python3.12/site-packages/keras/src/utils/summary_utils.py#380\" target=\"_blank\"><span style=\"color: #7f7f7f; text-decoration-color: #7f7f7f\">380</span></a>\n",
       "         ┏━━━━━━━━━━━━━━━━━━━━━━━━━━━━━━━━━┳━━━━━━━━━━━━━━━━━━━━━━━━┳━━━━━━━━━━━━━━━┓          <span style=\"color: #7f7f7f; text-decoration-color: #7f7f7f\">                    </span>\n",
       "         ┃ Layer <span style=\"font-weight: bold\">(</span>type<span style=\"font-weight: bold\">)</span>                    ┃ Output Shape           ┃       Param # ┃          <span style=\"color: #7f7f7f; text-decoration-color: #7f7f7f\">                    </span>\n",
       "         ┡━━━━━━━━━━━━━━━━━━━━━━━━━━━━━━━━━╇━━━━━━━━━━━━━━━━━━━━━━━━╇━━━━━━━━━━━━━━━┩          <span style=\"color: #7f7f7f; text-decoration-color: #7f7f7f\">                    </span>\n",
       "         │ keras_tensor_108CLONE           │ <span style=\"font-weight: bold\">(</span><span style=\"color: #800080; text-decoration-color: #800080; font-style: italic\">None</span>, <span style=\"color: #008080; text-decoration-color: #008080; font-weight: bold\">128</span><span style=\"font-weight: bold\">)</span>            │             <span style=\"color: #008080; text-decoration-color: #008080; font-weight: bold\">0</span> │          <span style=\"color: #7f7f7f; text-decoration-color: #7f7f7f\">                    </span>\n",
       "         │ <span style=\"font-weight: bold\">(</span>InputLayer<span style=\"font-weight: bold\">)</span>                    │                        │               │          <span style=\"color: #7f7f7f; text-decoration-color: #7f7f7f\">                    </span>\n",
       "         ├─────────────────────────────────┼────────────────────────┼───────────────┤          <span style=\"color: #7f7f7f; text-decoration-color: #7f7f7f\">                    </span>\n",
       "         │ dense <span style=\"font-weight: bold\">(</span>Dense<span style=\"font-weight: bold\">)</span>                   │ <span style=\"font-weight: bold\">(</span><span style=\"color: #800080; text-decoration-color: #800080; font-style: italic\">None</span>, <span style=\"color: #008080; text-decoration-color: #008080; font-weight: bold\">128</span><span style=\"font-weight: bold\">)</span>            │        <span style=\"color: #008080; text-decoration-color: #008080; font-weight: bold\">16</span>,<span style=\"color: #008080; text-decoration-color: #008080; font-weight: bold\">512</span> │          <span style=\"color: #7f7f7f; text-decoration-color: #7f7f7f\">                    </span>\n",
       "         ├─────────────────────────────────┼────────────────────────┼───────────────┤          <span style=\"color: #7f7f7f; text-decoration-color: #7f7f7f\">                    </span>\n",
       "         │ dense_1 <span style=\"font-weight: bold\">(</span>Dense<span style=\"font-weight: bold\">)</span>                 │ <span style=\"font-weight: bold\">(</span><span style=\"color: #800080; text-decoration-color: #800080; font-style: italic\">None</span>, <span style=\"color: #008080; text-decoration-color: #008080; font-weight: bold\">128</span><span style=\"font-weight: bold\">)</span>            │        <span style=\"color: #008080; text-decoration-color: #008080; font-weight: bold\">16</span>,<span style=\"color: #008080; text-decoration-color: #008080; font-weight: bold\">512</span> │          <span style=\"color: #7f7f7f; text-decoration-color: #7f7f7f\">                    </span>\n",
       "         └─────────────────────────────────┴────────────────────────┴───────────────┘          <span style=\"color: #7f7f7f; text-decoration-color: #7f7f7f\">                    </span>\n",
       "          Total params: <span style=\"color: #008080; text-decoration-color: #008080; font-weight: bold\">33</span>,<span style=\"color: #008080; text-decoration-color: #008080; font-weight: bold\">024</span> <span style=\"font-weight: bold\">(</span><span style=\"color: #008080; text-decoration-color: #008080; font-weight: bold\">129.00</span> KB<span style=\"font-weight: bold\">)</span>                                                     <span style=\"color: #7f7f7f; text-decoration-color: #7f7f7f\">                    </span>\n",
       "          Trainable params: <span style=\"color: #008080; text-decoration-color: #008080; font-weight: bold\">33</span>,<span style=\"color: #008080; text-decoration-color: #008080; font-weight: bold\">024</span> <span style=\"font-weight: bold\">(</span><span style=\"color: #008080; text-decoration-color: #008080; font-weight: bold\">129.00</span> KB<span style=\"font-weight: bold\">)</span>                                                 <span style=\"color: #7f7f7f; text-decoration-color: #7f7f7f\">                    </span>\n",
       "          Non-trainable params: <span style=\"color: #008080; text-decoration-color: #008080; font-weight: bold\">0</span> <span style=\"font-weight: bold\">(</span><span style=\"color: #008080; text-decoration-color: #008080; font-weight: bold\">0.00</span> B<span style=\"font-weight: bold\">)</span>                                                     <span style=\"color: #7f7f7f; text-decoration-color: #7f7f7f\">                    </span>\n",
       "                                                                                               <span style=\"color: #7f7f7f; text-decoration-color: #7f7f7f\">                    </span>\n",
       "</pre>\n"
      ],
      "text/plain": [
       "\u001b[34mINFO    \u001b[0m Model: \u001b[32m\"projector\"\u001b[0m                                                                    \u001b]8;id=220129;file:///workspaces/heartkit/.venv/lib/python3.12/site-packages/keras/src/utils/summary_utils.py\u001b\\\u001b[2msummary_utils.py\u001b[0m\u001b]8;;\u001b\\\u001b[2m:\u001b[0m\u001b]8;id=797710;file:///workspaces/heartkit/.venv/lib/python3.12/site-packages/keras/src/utils/summary_utils.py#380\u001b\\\u001b[2m380\u001b[0m\u001b]8;;\u001b\\\n",
       "         ┏━━━━━━━━━━━━━━━━━━━━━━━━━━━━━━━━━┳━━━━━━━━━━━━━━━━━━━━━━━━┳━━━━━━━━━━━━━━━┓          \u001b[2m                    \u001b[0m\n",
       "         ┃ Layer \u001b[1m(\u001b[0mtype\u001b[1m)\u001b[0m                    ┃ Output Shape           ┃       Param # ┃          \u001b[2m                    \u001b[0m\n",
       "         ┡━━━━━━━━━━━━━━━━━━━━━━━━━━━━━━━━━╇━━━━━━━━━━━━━━━━━━━━━━━━╇━━━━━━━━━━━━━━━┩          \u001b[2m                    \u001b[0m\n",
       "         │ keras_tensor_108CLONE           │ \u001b[1m(\u001b[0m\u001b[3;35mNone\u001b[0m, \u001b[1;36m128\u001b[0m\u001b[1m)\u001b[0m            │             \u001b[1;36m0\u001b[0m │          \u001b[2m                    \u001b[0m\n",
       "         │ \u001b[1m(\u001b[0mInputLayer\u001b[1m)\u001b[0m                    │                        │               │          \u001b[2m                    \u001b[0m\n",
       "         ├─────────────────────────────────┼────────────────────────┼───────────────┤          \u001b[2m                    \u001b[0m\n",
       "         │ dense \u001b[1m(\u001b[0mDense\u001b[1m)\u001b[0m                   │ \u001b[1m(\u001b[0m\u001b[3;35mNone\u001b[0m, \u001b[1;36m128\u001b[0m\u001b[1m)\u001b[0m            │        \u001b[1;36m16\u001b[0m,\u001b[1;36m512\u001b[0m │          \u001b[2m                    \u001b[0m\n",
       "         ├─────────────────────────────────┼────────────────────────┼───────────────┤          \u001b[2m                    \u001b[0m\n",
       "         │ dense_1 \u001b[1m(\u001b[0mDense\u001b[1m)\u001b[0m                 │ \u001b[1m(\u001b[0m\u001b[3;35mNone\u001b[0m, \u001b[1;36m128\u001b[0m\u001b[1m)\u001b[0m            │        \u001b[1;36m16\u001b[0m,\u001b[1;36m512\u001b[0m │          \u001b[2m                    \u001b[0m\n",
       "         └─────────────────────────────────┴────────────────────────┴───────────────┘          \u001b[2m                    \u001b[0m\n",
       "          Total params: \u001b[1;36m33\u001b[0m,\u001b[1;36m024\u001b[0m \u001b[1m(\u001b[0m\u001b[1;36m129.00\u001b[0m KB\u001b[1m)\u001b[0m                                                     \u001b[2m                    \u001b[0m\n",
       "          Trainable params: \u001b[1;36m33\u001b[0m,\u001b[1;36m024\u001b[0m \u001b[1m(\u001b[0m\u001b[1;36m129.00\u001b[0m KB\u001b[1m)\u001b[0m                                                 \u001b[2m                    \u001b[0m\n",
       "          Non-trainable params: \u001b[1;36m0\u001b[0m \u001b[1m(\u001b[0m\u001b[1;36m0.00\u001b[0m B\u001b[1m)\u001b[0m                                                     \u001b[2m                    \u001b[0m\n",
       "                                                                                               \u001b[2m                    \u001b[0m\n"
      ]
     },
     "metadata": {},
     "output_type": "display_data"
    },
    {
     "data": {
      "text/html": [
       "<pre style=\"white-space:pre;overflow-x:auto;line-height:normal;font-family:Menlo,'DejaVu Sans Mono',consolas,'Courier New',monospace\"><span style=\"color: #008000; text-decoration-color: #008000\">DEBUG   </span> Projector requires <span style=\"color: #008080; text-decoration-color: #008080; font-weight: bold\">0.07</span> MFLOPS                                                             <a href=\"file:///tmp/ipykernel_1440105/2487210472.py\" target=\"_blank\"><span style=\"color: #7f7f7f; text-decoration-color: #7f7f7f\">2487210472.py</span></a><span style=\"color: #7f7f7f; text-decoration-color: #7f7f7f\">:</span><a href=\"file:///tmp/ipykernel_1440105/2487210472.py#7\" target=\"_blank\"><span style=\"color: #7f7f7f; text-decoration-color: #7f7f7f\">7</span></a>\n",
       "</pre>\n"
      ],
      "text/plain": [
       "\u001b[32mDEBUG   \u001b[0m Projector requires \u001b[1;36m0.07\u001b[0m MFLOPS                                                             \u001b]8;id=912478;file:///tmp/ipykernel_1440105/2487210472.py\u001b\\\u001b[2m2487210472.py\u001b[0m\u001b]8;;\u001b\\\u001b[2m:\u001b[0m\u001b]8;id=794178;file:///tmp/ipykernel_1440105/2487210472.py#7\u001b\\\u001b[2m7\u001b[0m\u001b]8;;\u001b\\\n"
      ]
     },
     "metadata": {},
     "output_type": "display_data"
    }
   ],
   "source": [
    "projector_input = encoder_output\n",
    "projector_output = keras.layers.Dense(projection_width, activation=\"relu6\")(projector_input)\n",
    "projector_output = keras.layers.Dense(projection_width)(projector_output)\n",
    "projector = keras.Model(inputs=projector_input, outputs=projector_output, name=\"projector\")\n",
    "flops = nse.metrics.flops.get_flops(projector, batch_size=1, fpath=os.devnull)\n",
    "projector.summary(print_fn=logger.info)\n",
    "logger.debug(f\"Projector requires {flops/1e6:0.2f} MFLOPS\")"
   ]
  },
  {
   "cell_type": "code",
   "execution_count": 15,
   "metadata": {},
   "outputs": [],
   "source": [
    "model = SimCLR(\n",
    "    contrastive_augmenter=lambda x: x,\n",
    "    encoder=encoder,\n",
    "    projector=projector,\n",
    "    # momentum_coeff=0.999,\n",
    "    temperature=temperature,\n",
    "    # queue_size=65536,\n",
    ")"
   ]
  },
  {
   "cell_type": "code",
   "execution_count": 16,
   "metadata": {},
   "outputs": [],
   "source": [
    "def get_scheduler():\n",
    "    return keras.optimizers.schedules.CosineDecay(\n",
    "        initial_learning_rate=learning_rate,\n",
    "        decay_steps=steps_per_epoch * epochs,\n",
    "    )\n",
    "\n",
    "model.compile(\n",
    "    contrastive_optimizer=keras.optimizers.Adam(get_scheduler()),\n",
    "    probe_optimizer=keras.optimizers.Adam(get_scheduler()),\n",
    ")"
   ]
  },
  {
   "cell_type": "code",
   "execution_count": 17,
   "metadata": {},
   "outputs": [
    {
     "name": "stdout",
     "output_type": "stream",
     "text": [
      "Epoch 1/100\n"
     ]
    },
    {
     "name": "stderr",
     "output_type": "stream",
     "text": [
      "WARNING: All log messages before absl::InitializeLog() is called are written to STDERR\n",
      "I0000 00:00:1721671560.218993 1440263 service.cc:146] XLA service 0x74f6300176b0 initialized for platform CUDA (this does not guarantee that XLA will be used). Devices:\n",
      "I0000 00:00:1721671560.219066 1440263 service.cc:154]   StreamExecutor device (0): NVIDIA GeForce RTX 4090, Compute Capability 8.9\n",
      "I0000 00:00:1721671584.509272 1440263 device_compiler.h:188] Compiled cluster using XLA!  This line is logged at most once for the lifetime of the process.\n"
     ]
    },
    {
     "name": "stdout",
     "output_type": "stream",
     "text": [
      "\n",
      "Epoch 1: val_loss improved from inf to 6.92869, saving model to /tmp/hk-foundation/model.keras\n",
      "25/25 - 240s - 10s/step - c_acc: 0.0020 - loss: 6.9286 - r_acc: 0.0463 - val_c_acc: 9.7656e-04 - val_loss: 6.9287 - val_r_acc: 0.0352\n",
      "Epoch 2/100\n",
      "\n",
      "Epoch 2: val_loss did not improve from 6.92869\n",
      "25/25 - 176s - 7s/step - c_acc: 9.7656e-04 - loss: 6.9301 - r_acc: 0.0358 - val_c_acc: 9.7656e-04 - val_loss: 6.9301 - val_r_acc: 0.0352\n",
      "Epoch 3/100\n",
      "\n",
      "Epoch 3: val_loss did not improve from 6.92869\n",
      "25/25 - 181s - 7s/step - c_acc: 9.7656e-04 - loss: 6.9305 - r_acc: 0.0344 - val_c_acc: 9.7656e-04 - val_loss: 6.9305 - val_r_acc: 0.0312\n",
      "Epoch 4/100\n",
      "\n",
      "Epoch 4: val_loss did not improve from 6.92869\n",
      "25/25 - 178s - 7s/step - c_acc: 9.7656e-04 - loss: 6.9308 - r_acc: 0.0352 - val_c_acc: 9.7656e-04 - val_loss: 6.9308 - val_r_acc: 0.0312\n",
      "Epoch 5/100\n",
      "\n",
      "Epoch 5: val_loss did not improve from 6.92869\n",
      "25/25 - 173s - 7s/step - c_acc: 9.9609e-04 - loss: 6.9309 - r_acc: 0.0369 - val_c_acc: 9.7656e-04 - val_loss: 6.9309 - val_r_acc: 0.0312\n",
      "Epoch 6/100\n",
      "\n",
      "Epoch 6: val_loss did not improve from 6.92869\n",
      "25/25 - 172s - 7s/step - c_acc: 9.7656e-04 - loss: 6.9310 - r_acc: 0.0358 - val_c_acc: 9.7656e-04 - val_loss: 6.9310 - val_r_acc: 0.0312\n",
      "Epoch 7/100\n",
      "\n",
      "Epoch 7: val_loss did not improve from 6.92869\n",
      "25/25 - 173s - 7s/step - c_acc: 9.9609e-04 - loss: 6.9311 - r_acc: 0.0342 - val_c_acc: 9.7656e-04 - val_loss: 6.9311 - val_r_acc: 0.0312\n",
      "Epoch 8/100\n",
      "\n",
      "Epoch 8: val_loss did not improve from 6.92869\n",
      "25/25 - 172s - 7s/step - c_acc: 9.9609e-04 - loss: 6.9311 - r_acc: 0.0362 - val_c_acc: 9.7656e-04 - val_loss: 6.9311 - val_r_acc: 0.0312\n",
      "Epoch 9/100\n",
      "\n",
      "Epoch 9: val_loss did not improve from 6.92869\n",
      "25/25 - 172s - 7s/step - c_acc: 9.7656e-04 - loss: 6.9312 - r_acc: 0.0347 - val_c_acc: 9.7656e-04 - val_loss: 6.9312 - val_r_acc: 0.0312\n",
      "Epoch 10/100\n",
      "\n",
      "Epoch 10: val_loss did not improve from 6.92869\n",
      "25/25 - 172s - 7s/step - c_acc: 9.7656e-04 - loss: 6.9312 - r_acc: 0.0347 - val_c_acc: 9.7656e-04 - val_loss: 6.9312 - val_r_acc: 0.0391\n",
      "Epoch 11/100\n",
      "\n",
      "Epoch 11: val_loss did not improve from 6.92869\n",
      "25/25 - 173s - 7s/step - c_acc: 9.7656e-04 - loss: 6.9312 - r_acc: 0.0312 - val_c_acc: 9.7656e-04 - val_loss: 6.9312 - val_r_acc: 0.0312\n",
      "Epoch 12/100\n",
      "\n",
      "Epoch 12: val_loss did not improve from 6.92869\n",
      "25/25 - 173s - 7s/step - c_acc: 0.0010 - loss: 6.9312 - r_acc: 0.0286 - val_c_acc: 0.0015 - val_loss: 6.9312 - val_r_acc: 0.0312\n",
      "Epoch 13/100\n",
      "\n",
      "Epoch 13: val_loss did not improve from 6.92869\n",
      "25/25 - 172s - 7s/step - c_acc: 9.3750e-04 - loss: 6.9313 - r_acc: 0.0280 - val_c_acc: 4.8828e-04 - val_loss: 6.9313 - val_r_acc: 0.0312\n",
      "Epoch 14/100\n",
      "\n",
      "Epoch 14: val_loss did not improve from 6.92869\n",
      "25/25 - 173s - 7s/step - c_acc: 0.0010 - loss: 6.9313 - r_acc: 0.0272 - val_c_acc: 0.0015 - val_loss: 6.9313 - val_r_acc: 0.0312\n",
      "Epoch 15/100\n",
      "\n",
      "Epoch 15: val_loss did not improve from 6.92869\n",
      "25/25 - 172s - 7s/step - c_acc: 0.0010 - loss: 6.9313 - r_acc: 0.0270 - val_c_acc: 9.7656e-04 - val_loss: 6.9313 - val_r_acc: 0.0312\n",
      "Epoch 16/100\n",
      "\n",
      "Epoch 16: val_loss did not improve from 6.92869\n",
      "25/25 - 173s - 7s/step - c_acc: 9.3750e-04 - loss: 6.9313 - r_acc: 0.0267 - val_c_acc: 9.7656e-04 - val_loss: 6.9313 - val_r_acc: 0.0312\n",
      "Epoch 17/100\n",
      "\n",
      "Epoch 17: val_loss did not improve from 6.92869\n",
      "25/25 - 172s - 7s/step - c_acc: 9.9609e-04 - loss: 6.9313 - r_acc: 0.0267 - val_c_acc: 9.7656e-04 - val_loss: 6.9313 - val_r_acc: 0.0312\n",
      "Epoch 18/100\n",
      "\n",
      "Epoch 18: val_loss did not improve from 6.92869\n",
      "25/25 - 174s - 7s/step - c_acc: 9.7656e-04 - loss: 6.9313 - r_acc: 0.0269 - val_c_acc: 9.7656e-04 - val_loss: 6.9313 - val_r_acc: 0.0312\n",
      "Epoch 19/100\n",
      "\n",
      "Epoch 19: val_loss did not improve from 6.92869\n",
      "25/25 - 171s - 7s/step - c_acc: 9.7656e-04 - loss: 6.9313 - r_acc: 0.0264 - val_c_acc: 9.7656e-04 - val_loss: 6.9313 - val_r_acc: 0.0312\n",
      "Epoch 20/100\n",
      "\n",
      "Epoch 20: val_loss did not improve from 6.92869\n",
      "25/25 - 174s - 7s/step - c_acc: 0.0011 - loss: 6.9313 - r_acc: 0.0280 - val_c_acc: 9.7656e-04 - val_loss: 6.9313 - val_r_acc: 0.0312\n",
      "Epoch 21/100\n",
      "\n",
      "Epoch 21: val_loss did not improve from 6.92869\n",
      "25/25 - 173s - 7s/step - c_acc: 9.3750e-04 - loss: 6.9313 - r_acc: 0.0266 - val_c_acc: 9.7656e-04 - val_loss: 6.9313 - val_r_acc: 0.0312\n",
      "Epoch 22/100\n",
      "\n",
      "Epoch 22: val_loss did not improve from 6.92869\n",
      "25/25 - 172s - 7s/step - c_acc: 0.0011 - loss: 6.9313 - r_acc: 0.0264 - val_c_acc: 9.7656e-04 - val_loss: 6.9313 - val_r_acc: 0.0273\n",
      "Epoch 23/100\n",
      "\n",
      "Epoch 23: val_loss did not improve from 6.92869\n",
      "25/25 - 172s - 7s/step - c_acc: 0.0011 - loss: 6.9313 - r_acc: 0.0267 - val_c_acc: 9.7656e-04 - val_loss: 6.9313 - val_r_acc: 0.0273\n",
      "Epoch 24/100\n",
      "\n",
      "Epoch 24: val_loss did not improve from 6.92869\n",
      "25/25 - 172s - 7s/step - c_acc: 0.0012 - loss: 6.9313 - r_acc: 0.0255 - val_c_acc: 0.0020 - val_loss: 6.9313 - val_r_acc: 0.0234\n",
      "Epoch 25/100\n",
      "\n",
      "Epoch 25: val_loss did not improve from 6.92869\n",
      "25/25 - 172s - 7s/step - c_acc: 0.0017 - loss: 6.9307 - r_acc: 0.0131 - val_c_acc: 9.7656e-04 - val_loss: 6.9307 - val_r_acc: 0.0078\n",
      "Epoch 26/100\n",
      "\n",
      "Epoch 26: val_loss did not improve from 6.92869\n",
      "25/25 - 172s - 7s/step - c_acc: 9.9609e-04 - loss: 6.9307 - r_acc: 0.0078 - val_c_acc: 9.7656e-04 - val_loss: 6.9307 - val_r_acc: 0.0078\n"
     ]
    },
    {
     "data": {
      "text/plain": [
       "<keras.src.callbacks.history.History at 0x74f7dbbb9c70>"
      ]
     },
     "execution_count": 17,
     "metadata": {},
     "output_type": "execute_result"
    }
   ],
   "source": [
    "val_metric = \"loss\"\n",
    "\n",
    "model_callbacks = [\n",
    "    keras.callbacks.EarlyStopping(\n",
    "        monitor=f\"val_{val_metric}\",\n",
    "        patience=max(int(0.25 * epochs), 1),\n",
    "        mode=\"max\" if val_metric == \"f1\" else \"auto\",\n",
    "        restore_best_weights=True,\n",
    "    ),\n",
    "    keras.callbacks.ModelCheckpoint(\n",
    "        filepath=str(model_file),\n",
    "        monitor=f\"val_{val_metric}\",\n",
    "        save_best_only=True,\n",
    "        mode=\"max\" if val_metric == \"f1\" else \"auto\",\n",
    "        verbose=1,\n",
    "    ),\n",
    "    keras.callbacks.CSVLogger(job_dir / \"history.csv\"),\n",
    "]\n",
    "if hk.utils.env_flag(\"TENSORBOARD\"):\n",
    "    model_callbacks.append(\n",
    "        keras.callbacks.TensorBoard(\n",
    "            log_dir=job_dir,\n",
    "            write_steps_per_second=True,\n",
    "        )\n",
    "    )\n",
    "\n",
    "\n",
    "model.fit(\n",
    "    train_ds,\n",
    "    steps_per_epoch=steps_per_epoch,\n",
    "    verbose=2,\n",
    "    epochs=epochs,\n",
    "    validation_data=val_ds,\n",
    "    callbacks=model_callbacks,\n",
    ")"
   ]
  },
  {
   "cell_type": "code",
   "execution_count": 23,
   "metadata": {},
   "outputs": [
    {
     "name": "stdout",
     "output_type": "stream",
     "text": [
      "Epoch 1/100\n"
     ]
    },
    {
     "ename": "ValueError",
     "evalue": "Dimensions must be equal, but are 800 and 128 for '{{node compile_loss/mean_squared_error/sub}} = Sub[T=DT_FLOAT](compile_loss/mean_squared_error/Squeeze, EfficientNetV2_1/dropout_7_1/stateless_dropout/SelectV2)' with input shapes: [?,800], [?,128].",
     "output_type": "error",
     "traceback": [
      "\u001b[0;31m---------------------------------------------------------------------------\u001b[0m",
      "\u001b[0;31mValueError\u001b[0m                                Traceback (most recent call last)",
      "Cell \u001b[0;32mIn[23], line 11\u001b[0m\n\u001b[1;32m      8\u001b[0m loss \u001b[38;5;241m=\u001b[39m keras\u001b[38;5;241m.\u001b[39mlosses\u001b[38;5;241m.\u001b[39mMeanSquaredError()\n\u001b[1;32m      9\u001b[0m encoder\u001b[38;5;241m.\u001b[39mcompile(optimizer\u001b[38;5;241m=\u001b[39moptimizer, loss\u001b[38;5;241m=\u001b[39mloss, metrics\u001b[38;5;241m=\u001b[39mmetrics)\n\u001b[0;32m---> 11\u001b[0m \u001b[43mencoder\u001b[49m\u001b[38;5;241;43m.\u001b[39;49m\u001b[43mfit\u001b[49m\u001b[43m(\u001b[49m\n\u001b[1;32m     12\u001b[0m \u001b[43m    \u001b[49m\u001b[43mtrain_ds\u001b[49m\u001b[43m,\u001b[49m\n\u001b[1;32m     13\u001b[0m \u001b[43m    \u001b[49m\u001b[43msteps_per_epoch\u001b[49m\u001b[38;5;241;43m=\u001b[39;49m\u001b[43msteps_per_epoch\u001b[49m\u001b[43m,\u001b[49m\n\u001b[1;32m     14\u001b[0m \u001b[43m    \u001b[49m\u001b[43mverbose\u001b[49m\u001b[38;5;241;43m=\u001b[39;49m\u001b[38;5;241;43m2\u001b[39;49m\u001b[43m,\u001b[49m\n\u001b[1;32m     15\u001b[0m \u001b[43m    \u001b[49m\u001b[43mepochs\u001b[49m\u001b[38;5;241;43m=\u001b[39;49m\u001b[43mepochs\u001b[49m\u001b[43m,\u001b[49m\n\u001b[1;32m     16\u001b[0m \u001b[43m    \u001b[49m\u001b[43mvalidation_data\u001b[49m\u001b[38;5;241;43m=\u001b[39;49m\u001b[43mval_ds\u001b[49m\u001b[43m,\u001b[49m\n\u001b[1;32m     17\u001b[0m \u001b[43m    \u001b[49m\u001b[43mcallbacks\u001b[49m\u001b[38;5;241;43m=\u001b[39;49m\u001b[43mmodel_callbacks\u001b[49m\u001b[43m,\u001b[49m\n\u001b[1;32m     18\u001b[0m \u001b[43m)\u001b[49m\n",
      "File \u001b[0;32m/workspaces/heartkit/.venv/lib/python3.12/site-packages/keras/src/utils/traceback_utils.py:122\u001b[0m, in \u001b[0;36mfilter_traceback.<locals>.error_handler\u001b[0;34m(*args, **kwargs)\u001b[0m\n\u001b[1;32m    119\u001b[0m     filtered_tb \u001b[38;5;241m=\u001b[39m _process_traceback_frames(e\u001b[38;5;241m.\u001b[39m__traceback__)\n\u001b[1;32m    120\u001b[0m     \u001b[38;5;66;03m# To get the full stack trace, call:\u001b[39;00m\n\u001b[1;32m    121\u001b[0m     \u001b[38;5;66;03m# `keras.config.disable_traceback_filtering()`\u001b[39;00m\n\u001b[0;32m--> 122\u001b[0m     \u001b[38;5;28;01mraise\u001b[39;00m e\u001b[38;5;241m.\u001b[39mwith_traceback(filtered_tb) \u001b[38;5;28;01mfrom\u001b[39;00m \u001b[38;5;28;01mNone\u001b[39;00m\n\u001b[1;32m    123\u001b[0m \u001b[38;5;28;01mfinally\u001b[39;00m:\n\u001b[1;32m    124\u001b[0m     \u001b[38;5;28;01mdel\u001b[39;00m filtered_tb\n",
      "File \u001b[0;32m/workspaces/heartkit/.venv/lib/python3.12/site-packages/keras/src/losses/losses.py:1286\u001b[0m, in \u001b[0;36mmean_squared_error\u001b[0;34m(y_true, y_pred)\u001b[0m\n\u001b[1;32m   1284\u001b[0m y_true \u001b[38;5;241m=\u001b[39m ops\u001b[38;5;241m.\u001b[39mconvert_to_tensor(y_true, dtype\u001b[38;5;241m=\u001b[39my_pred\u001b[38;5;241m.\u001b[39mdtype)\n\u001b[1;32m   1285\u001b[0m y_true, y_pred \u001b[38;5;241m=\u001b[39m squeeze_or_expand_to_same_rank(y_true, y_pred)\n\u001b[0;32m-> 1286\u001b[0m \u001b[38;5;28;01mreturn\u001b[39;00m ops\u001b[38;5;241m.\u001b[39mmean(ops\u001b[38;5;241m.\u001b[39msquare(\u001b[43my_true\u001b[49m\u001b[43m \u001b[49m\u001b[38;5;241;43m-\u001b[39;49m\u001b[43m \u001b[49m\u001b[43my_pred\u001b[49m), axis\u001b[38;5;241m=\u001b[39m\u001b[38;5;241m-\u001b[39m\u001b[38;5;241m1\u001b[39m)\n",
      "\u001b[0;31mValueError\u001b[0m: Dimensions must be equal, but are 800 and 128 for '{{node compile_loss/mean_squared_error/sub}} = Sub[T=DT_FLOAT](compile_loss/mean_squared_error/Squeeze, EfficientNetV2_1/dropout_7_1/stateless_dropout/SelectV2)' with input shapes: [?,800], [?,128]."
     ]
    }
   ],
   "source": [
    "metrics = [\n",
    "    keras.metrics.MeanAbsoluteError(name=\"mae\"),\n",
    "    keras.metrics.MeanSquaredError(name=\"mse\"),\n",
    "    keras.metrics.CosineSimilarity(name=\"cosine\"),\n",
    "]\n",
    "\n",
    "optimizer = keras.optimizers.Adam(get_scheduler())\n",
    "loss = keras.losses.MeanSquaredError()\n",
    "encoder.compile(optimizer=optimizer, loss=loss, metrics=metrics)\n",
    "\n",
    "encoder.fit(\n",
    "    train_ds,\n",
    "    steps_per_epoch=steps_per_epoch,\n",
    "    verbose=2,\n",
    "    epochs=epochs,\n",
    "    validation_data=val_ds,\n",
    "    callbacks=model_callbacks,\n",
    ")"
   ]
  },
  {
   "cell_type": "code",
   "execution_count": 35,
   "metadata": {},
   "outputs": [],
   "source": [
    "from abc import abstractmethod\n",
    "from typing import Callable\n",
    "\n",
    "import keras\n",
    "import tensorflow as tf\n",
    "\n",
    "\n",
    "class ContrastiveModel(keras.Model):\n",
    "    \"\"\"Base class for contrastive learning models\"\"\"\n",
    "\n",
    "    def __init__(\n",
    "        self,\n",
    "        encoder: keras.Model,\n",
    "        projector: keras.Model,\n",
    "        contrastive_augmenter: Callable[[keras.KerasTensor], keras.KerasTensor] | None = None,\n",
    "        classification_augmenter: Callable[[keras.KerasTensor], keras.KerasTensor] | None = None,\n",
    "        linear_probe: keras.Model | None = None,\n",
    "    ):\n",
    "        super().__init__()\n",
    "\n",
    "        self.encoder = encoder\n",
    "        self.projector = projector\n",
    "        self.contrastive_augmenter = contrastive_augmenter\n",
    "        self.classification_augmenter = classification_augmenter\n",
    "        self.linear_probe = linear_probe\n",
    "\n",
    "        self.probe_loss = None\n",
    "        self.probe_optimizer = None\n",
    "        self.contrastive_loss_tracker = None\n",
    "        self.contrastive_optimizer = None\n",
    "        self.contrastive_accuracy = None\n",
    "        self.correlation_accuracy = None\n",
    "        self.probe_accuracy = None\n",
    "\n",
    "    @property\n",
    "    def metrics(self):\n",
    "        \"\"\"List of metrics to track during training and evaluation\"\"\"\n",
    "        return [\n",
    "            self.contrastive_loss_tracker,\n",
    "            self.correlation_accuracy,\n",
    "            self.contrastive_accuracy,\n",
    "            # self.probe_loss_tracker,\n",
    "            # self.probe_accuracy,\n",
    "        ]\n",
    "\n",
    "    @abstractmethod\n",
    "    def contrastive_loss(self, projections_1, projections_2):\n",
    "        \"\"\"Contrastive loss function\"\"\"\n",
    "        raise NotImplementedError()\n",
    "\n",
    "    def call(self, inputs, training=None, mask=None):\n",
    "        \"\"\"Forward pass through the encoder model\"\"\"\n",
    "        return self.encoder(inputs, training=training, mask=mask)\n",
    "\n",
    "    # pylint: disable=unused-argument,arguments-differ\n",
    "    def compile(\n",
    "        self,\n",
    "        contrastive_optimizer: keras.optimizers.Optimizer,\n",
    "        probe_optimizer: keras.optimizers.Optimizer | None = None,\n",
    "        **kwargs,\n",
    "    ):\n",
    "        \"\"\"Compile the model with the specified optimizers\"\"\"\n",
    "        super().compile(**kwargs)\n",
    "\n",
    "        self.contrastive_optimizer = contrastive_optimizer\n",
    "        self.probe_optimizer = probe_optimizer\n",
    "\n",
    "        # self.contrastive_loss is a method that will be implemented by the subclasses\n",
    "        self.probe_loss = keras.losses.SparseCategoricalCrossentropy(from_logits=True)\n",
    "\n",
    "        self.contrastive_loss_tracker = keras.metrics.Mean(name=\"loss\")\n",
    "        self.contrastive_accuracy = keras.metrics.SparseCategoricalAccuracy(name=\"c_acc\")\n",
    "        self.correlation_accuracy = keras.metrics.SparseCategoricalAccuracy(name=\"r_acc\")\n",
    "\n",
    "        self.probe_accuracy = keras.metrics.SparseCategoricalAccuracy()\n",
    "\n",
    "    def save(self, filepath, overwrite=True, save_format=None, **kwargs):\n",
    "        \"\"\"Save the encoder model to file\n",
    "\n",
    "        Args:\n",
    "            filepath (str): Filepath\n",
    "            overwrite (bool, optional): Overwrite existing file. Defaults to True.\n",
    "            save_format ([type], optional): Save format. Defaults to None.\n",
    "        \"\"\"\n",
    "        self.encoder.save(filepath, overwrite, save_format, **kwargs)\n",
    "\n",
    "    def reset_metrics(self):\n",
    "        \"\"\"Reset the metrics to their initial state\"\"\"\n",
    "        self.contrastive_accuracy.reset_state()\n",
    "        self.correlation_accuracy.reset_state()\n",
    "        self.probe_accuracy.reset_state()\n",
    "\n",
    "    def update_contrastive_accuracy(self, features_1, features_2):\n",
    "        \"\"\"Update the contrastive accuracy metric\n",
    "        self-supervised metric inspired by the SimCLR loss\n",
    "        \"\"\"\n",
    "\n",
    "        # cosine similarity: the dot product of the l2-normalized feature vectors\n",
    "        features_1 = keras.ops.normalize(features_1, axis=1)\n",
    "        features_2 = keras.ops.normalize(features_2, axis=1)\n",
    "        similarities = keras.ops.matmul(features_1, keras.ops.transpose(features_2))\n",
    "\n",
    "        # Push positive pairs to the diagonal\n",
    "        batch_size = keras.ops.shape(features_1)[0]\n",
    "        contrastive_labels = keras.ops.arange(batch_size)\n",
    "        self.contrastive_accuracy.update_state(contrastive_labels, similarities)\n",
    "        self.contrastive_accuracy.update_state(contrastive_labels, keras.ops.transpose(similarities))\n",
    "\n",
    "    def update_correlation_accuracy(self, features_1, features_2):\n",
    "        \"\"\"Update the correlation accuracy metric\n",
    "        self-supervised metric inspired by the BarlowTwins loss\n",
    "        \"\"\"\n",
    "\n",
    "        # normalization so that cross-correlation will be between -1 and 1\n",
    "        features_1 = (features_1 - keras.ops.mean(features_1, axis=0)) / keras.ops.std(features_1, axis=0)\n",
    "        features_2 = (features_2 - keras.ops.mean(features_2, axis=0)) / keras.ops.std(features_2, axis=0)\n",
    "\n",
    "        # the cross correlation of image representations should be the identity matrix\n",
    "        batch_size = keras.ops.shape(features_1)[0]\n",
    "        batch_size = keras.ops.cast(batch_size, dtype=\"float32\")\n",
    "        print(features_1.shape, features_2.shape, batch_size)\n",
    "        print(\"DBG0\", features_1.shape)\n",
    "        cross_correlation = keras.ops.matmul(keras.ops.transpose(features_1), features_2) / batch_size\n",
    "        print(\"DBG1\", cross_correlation.shape)\n",
    "        feature_dim = keras.ops.shape(features_1)[1]\n",
    "        print(\"DBG2\", feature_dim)\n",
    "        correlation_labels = keras.ops.arange(feature_dim)\n",
    "        print(\"DBG3\", correlation_labels.shape)\n",
    "        self.correlation_accuracy.update_state(correlation_labels, cross_correlation)\n",
    "        print(\"DBG4\", cross_correlation.shape)\n",
    "        self.correlation_accuracy.update_state(correlation_labels, keras.ops.transpose(cross_correlation))\n",
    "\n",
    "    def train_step(self, data):\n",
    "        \"\"\"Training step for the model\"\"\"\n",
    "        pair1, pair2 = data\n",
    "\n",
    "        # each input is augmented twice, differently\n",
    "        augmented_inputs_1 = self.contrastive_augmenter(pair1)\n",
    "        augmented_inputs_2 = self.contrastive_augmenter(pair2)\n",
    "        with tf.GradientTape() as tape:\n",
    "            # Encoder phase\n",
    "            features_1 = self.encoder(augmented_inputs_1)\n",
    "            features_2 = self.encoder(augmented_inputs_2)\n",
    "            # Projection phase\n",
    "            projections_1 = self.projector(features_1)\n",
    "            projections_2 = self.projector(features_2)\n",
    "            contrastive_loss = self.contrastive_loss(projections_1, projections_2)\n",
    "        # END WITH\n",
    "\n",
    "        # backpropagation\n",
    "        gradients = tape.gradient(\n",
    "            contrastive_loss,\n",
    "            self.encoder.trainable_weights + self.projector.trainable_weights,\n",
    "        )\n",
    "        self.contrastive_optimizer.apply_gradients(\n",
    "            zip(\n",
    "                gradients,\n",
    "                self.encoder.trainable_weights + self.projector.trainable_weights,\n",
    "            )\n",
    "        )\n",
    "\n",
    "        self.contrastive_loss_tracker.update_state(contrastive_loss)\n",
    "\n",
    "        self.update_contrastive_accuracy(features_1, features_2)\n",
    "        self.update_correlation_accuracy(features_1, features_2)\n",
    "\n",
    "        # # labels are only used in evalutation for probing\n",
    "        # augmented_inputs = self.classification_augmenter(labeled_pair)\n",
    "        # with tf.GradientTape() as tape:\n",
    "        #     features = self.encoder(augmented_inputs)\n",
    "        #     class_logits = self.linear_probe(features)\n",
    "        #     probe_loss = self.probe_loss(labels, class_logits)\n",
    "        # gradients = tape.gradient(probe_loss, self.linear_probe.trainable_weights)\n",
    "        # self.probe_optimizer.apply_gradients(\n",
    "        #     zip(gradients, self.linear_probe.trainable_weights)\n",
    "        # )\n",
    "        # self.probe_accuracy.update_state(labels, class_logits)\n",
    "\n",
    "        return {m.name: m.result() for m in self.metrics}\n",
    "\n",
    "    def test_step(self, data):\n",
    "        \"\"\"Test step for the model\"\"\"\n",
    "        pair1, pair2 = data\n",
    "        augmented_inputs_1 = self.contrastive_augmenter(pair1)\n",
    "        augmented_inputs_2 = self.contrastive_augmenter(pair2)\n",
    "        features_1 = self.encoder(augmented_inputs_1, training=False)\n",
    "        features_2 = self.encoder(augmented_inputs_2, training=False)\n",
    "        projections_1 = self.projector(features_1, training=False)\n",
    "        projections_2 = self.projector(features_2, training=False)\n",
    "\n",
    "        contrastive_loss = self.contrastive_loss(projections_1, projections_2)\n",
    "        self.contrastive_loss_tracker.update_state(contrastive_loss)\n",
    "        self.update_contrastive_accuracy(features_1, features_2)\n",
    "        self.update_correlation_accuracy(features_1, features_2)\n",
    "\n",
    "        return {m.name: m.result() for m in self.metrics}\n",
    "\n",
    "\n",
    "class SimCLR(ContrastiveModel):\n",
    "    \"\"\"SimCLR model for self-supervised learning\"\"\"\n",
    "\n",
    "    def __init__(\n",
    "        self,\n",
    "        encoder: keras.Model,\n",
    "        projector: keras.Model,\n",
    "        contrastive_augmenter: Callable[[keras.KerasTensor], keras.KerasTensor] | None = None,\n",
    "        classification_augmenter: Callable[[keras.KerasTensor], keras.KerasTensor] | None = None,\n",
    "        linear_probe: keras.Model | None = None,\n",
    "        temperature: float = 0.1,\n",
    "    ):\n",
    "        super().__init__(\n",
    "            encoder=encoder,\n",
    "            projector=projector,\n",
    "            contrastive_augmenter=contrastive_augmenter,\n",
    "            classification_augmenter=classification_augmenter,\n",
    "            linear_probe=linear_probe,\n",
    "        )\n",
    "        self.temperature = temperature\n",
    "\n",
    "    def contrastive_loss(self, projections_1, projections_2):\n",
    "        \"\"\"Contrastive loss function for SimCLR\"\"\"\n",
    "        # InfoNCE loss (information noise-contrastive estimation)\n",
    "        # NT-Xent loss (normalized temperature-scaled cross entropy)\n",
    "\n",
    "        # cosine similarity: the dot product of the l2-normalized feature vectors\n",
    "        projections_1 = keras.ops.normalize(projections_1, axis=1)\n",
    "        projections_2 = keras.ops.normalize(projections_2, axis=1)\n",
    "        similarities = keras.ops.matmul(projections_1, keras.ops.transpose(projections_2)) / self.temperature\n",
    "\n",
    "        # the temperature-scaled similarities are used as logits for cross-entropy\n",
    "        batch_size = keras.ops.shape(projections_1)[0]\n",
    "        contrastive_labels = keras.ops.arange(batch_size)\n",
    "        loss1 = keras.losses.sparse_categorical_crossentropy(contrastive_labels, similarities, from_logits=True)\n",
    "        loss2 = keras.losses.sparse_categorical_crossentropy(\n",
    "            contrastive_labels, keras.ops.transpose(similarities), from_logits=True\n",
    "        )\n",
    "        return (loss1 + loss2) / 2\n"
   ]
  },
  {
   "cell_type": "code",
   "execution_count": 36,
   "metadata": {},
   "outputs": [],
   "source": [
    "def get_scheduler():\n",
    "    return keras.optimizers.schedules.CosineDecay(\n",
    "        initial_learning_rate=learning_rate,\n",
    "        decay_steps=steps_per_epoch * epochs,\n",
    "    )\n",
    "\n",
    "\n",
    "model = SimCLR(\n",
    "    contrastive_augmenter=lambda x: x,\n",
    "    encoder=encoder,\n",
    "    projector=projector,\n",
    "    # momentum_coeff=0.999,\n",
    "    temperature=temperature,\n",
    "    # queue_size=65536,\n",
    ")\n",
    "\n",
    "model.compile(\n",
    "    contrastive_optimizer=keras.optimizers.Adam(get_scheduler()),\n",
    "    probe_optimizer=keras.optimizers.Adam(get_scheduler()),\n",
    ")"
   ]
  },
  {
   "cell_type": "code",
   "execution_count": 37,
   "metadata": {},
   "outputs": [
    {
     "name": "stdout",
     "output_type": "stream",
     "text": [
      "(1024, 128) (1024, 128) tf.Tensor(1024.0, shape=(), dtype=float32)\n",
      "DBG0 (1024, 128)\n",
      "DBG1 (128, 128)\n",
      "DBG2 128\n",
      "DBG3 (128,)\n",
      "DBG4 (128, 128)\n"
     ]
    },
    {
     "data": {
      "text/plain": [
       "{'loss': <tf.Tensor: shape=(), dtype=float32, numpy=6.931387>,\n",
       " 'r_acc': <tf.Tensor: shape=(), dtype=float32, numpy=0.1015625>,\n",
       " 'c_acc': <tf.Tensor: shape=(), dtype=float32, numpy=0.0014648438>}"
      ]
     },
     "execution_count": 37,
     "metadata": {},
     "output_type": "execute_result"
    }
   ],
   "source": [
    "model.train_step((x, y))"
   ]
  },
  {
   "cell_type": "code",
   "execution_count": null,
   "metadata": {},
   "outputs": [],
   "source": [
    "keras.preprocessing"
   ]
  }
 ],
 "metadata": {
  "kernelspec": {
   "display_name": ".venv",
   "language": "python",
   "name": "python3"
  },
  "language_info": {
   "codemirror_mode": {
    "name": "ipython",
    "version": 3
   },
   "file_extension": ".py",
   "mimetype": "text/x-python",
   "name": "python",
   "nbconvert_exporter": "python",
   "pygments_lexer": "ipython3",
   "version": "3.12.4"
  }
 },
 "nbformat": 4,
 "nbformat_minor": 2
}
